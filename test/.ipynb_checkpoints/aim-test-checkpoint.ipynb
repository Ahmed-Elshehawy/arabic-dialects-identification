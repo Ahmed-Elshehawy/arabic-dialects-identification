{
 "cells": [
  {
   "cell_type": "markdown",
   "id": "aa76e103",
   "metadata": {
    "papermill": {
     "duration": 0.025069,
     "end_time": "2022-03-14T18:44:36.941769",
     "exception": false,
     "start_time": "2022-03-14T18:44:36.916700",
     "status": "completed"
    },
    "tags": []
   },
   "source": [
    "### Note: all the models in this notebook did not see this test set before"
   ]
  },
  {
   "cell_type": "code",
   "execution_count": 1,
   "id": "3d7cc75b",
   "metadata": {
    "execution": {
     "iopub.execute_input": "2022-03-14T18:44:36.997490Z",
     "iopub.status.busy": "2022-03-14T18:44:36.996888Z",
     "iopub.status.idle": "2022-03-14T18:44:47.974810Z",
     "shell.execute_reply": "2022-03-14T18:44:47.973880Z",
     "shell.execute_reply.started": "2022-03-14T15:06:16.548591Z"
    },
    "papermill": {
     "duration": 11.009849,
     "end_time": "2022-03-14T18:44:47.974989",
     "exception": false,
     "start_time": "2022-03-14T18:44:36.965140",
     "status": "completed"
    },
    "tags": []
   },
   "outputs": [
    {
     "name": "stdout",
     "output_type": "stream",
     "text": [
      "Collecting daar==0.0.3\r\n",
      "  Downloading daar-0.0.3.tar.gz (7.8 kB)\r\n",
      "  Preparing metadata (setup.py) ... \u001b[?25l-\b \bdone\r\n",
      "\u001b[?25hBuilding wheels for collected packages: daar\r\n",
      "  Building wheel for daar (setup.py) ... \u001b[?25l-\b \b\\\b \bdone\r\n",
      "\u001b[?25h  Created wheel for daar: filename=daar-0.0.3-py3-none-any.whl size=10366 sha256=58fcee375f08a204e2d6789e839d98cba51d91fdf539e3f80b5caafcdcb08f4f\r\n",
      "  Stored in directory: /root/.cache/pip/wheels/35/26/f4/7568b1957e792ed4441f7ec1df927a266948195d4e2081b027\r\n",
      "Successfully built daar\r\n",
      "Installing collected packages: daar\r\n",
      "Successfully installed daar-0.0.3\r\n",
      "\u001b[33mWARNING: Running pip as the 'root' user can result in broken permissions and conflicting behaviour with the system package manager. It is recommended to use a virtual environment instead: https://pip.pypa.io/warnings/venv\u001b[0m\r\n"
     ]
    }
   ],
   "source": [
    "!pip install daar==0.0.3"
   ]
  },
  {
   "cell_type": "code",
   "execution_count": 2,
   "id": "cc787c28",
   "metadata": {
    "execution": {
     "iopub.execute_input": "2022-03-14T18:44:48.032177Z",
     "iopub.status.busy": "2022-03-14T18:44:48.031566Z",
     "iopub.status.idle": "2022-03-14T18:44:50.903392Z",
     "shell.execute_reply": "2022-03-14T18:44:50.902386Z",
     "shell.execute_reply.started": "2022-03-14T15:07:10.083888Z"
    },
    "papermill": {
     "duration": 2.902508,
     "end_time": "2022-03-14T18:44:50.903544",
     "exception": false,
     "start_time": "2022-03-14T18:44:48.001036",
     "status": "completed"
    },
    "tags": []
   },
   "outputs": [],
   "source": [
    "import daar.lstm_helpers as lh\n",
    "import daar.nlp_helpers as nh"
   ]
  },
  {
   "cell_type": "code",
   "execution_count": 3,
   "id": "d338fa38",
   "metadata": {
    "_cell_guid": "b1076dfc-b9ad-4769-8c92-a6c4dae69d19",
    "_uuid": "8f2839f25d086af736a60e9eeb907d3b93b6e0e5",
    "execution": {
     "iopub.execute_input": "2022-03-14T18:44:50.960186Z",
     "iopub.status.busy": "2022-03-14T18:44:50.959203Z",
     "iopub.status.idle": "2022-03-14T18:44:50.980122Z",
     "shell.execute_reply": "2022-03-14T18:44:50.979514Z",
     "shell.execute_reply.started": "2022-03-14T15:07:10.359588Z"
    },
    "papermill": {
     "duration": 0.050964,
     "end_time": "2022-03-14T18:44:50.980278",
     "exception": false,
     "start_time": "2022-03-14T18:44:50.929314",
     "status": "completed"
    },
    "tags": []
   },
   "outputs": [],
   "source": [
    "import torch\n",
    "from torch.utils.data import Dataset, DataLoader, TensorDataset\n",
    "import pandas as pd\n",
    "from lstm_helpers import DialectRNN\n",
    "from sklearn.metrics import f1_score\n",
    "import torch.nn as nn"
   ]
  },
  {
   "cell_type": "markdown",
   "id": "9d635558",
   "metadata": {
    "papermill": {
     "duration": 0.027247,
     "end_time": "2022-03-14T18:44:51.033495",
     "exception": false,
     "start_time": "2022-03-14T18:44:51.006248",
     "status": "completed"
    },
    "tags": []
   },
   "source": [
    "#### NO stem"
   ]
  },
  {
   "cell_type": "markdown",
   "id": "57c0b336",
   "metadata": {
    "papermill": {
     "duration": 0.025273,
     "end_time": "2022-03-14T18:44:51.084218",
     "exception": false,
     "start_time": "2022-03-14T18:44:51.058945",
     "status": "completed"
    },
    "tags": []
   },
   "source": [
    "#### 1- LSTM"
   ]
  },
  {
   "cell_type": "code",
   "execution_count": 4,
   "id": "2e831dbe",
   "metadata": {
    "execution": {
     "iopub.execute_input": "2022-03-14T18:44:51.139596Z",
     "iopub.status.busy": "2022-03-14T18:44:51.138706Z",
     "iopub.status.idle": "2022-03-14T18:44:51.267888Z",
     "shell.execute_reply": "2022-03-14T18:44:51.268326Z",
     "shell.execute_reply.started": "2022-03-14T15:07:14.342941Z"
    },
    "papermill": {
     "duration": 0.158186,
     "end_time": "2022-03-14T18:44:51.268502",
     "exception": false,
     "start_time": "2022-03-14T18:44:51.110316",
     "status": "completed"
    },
    "tags": []
   },
   "outputs": [],
   "source": [
    "X_test_lstm = nh.load_pickle_file('../input/testdataset/X_test_no_stem.obj')\n",
    "y_test_lstm = nh.load_pickle_file('../input/testdataset/y_test_no_stem.obj')"
   ]
  },
  {
   "cell_type": "code",
   "execution_count": 5,
   "id": "d7bc39e2",
   "metadata": {
    "execution": {
     "iopub.execute_input": "2022-03-14T18:44:51.322933Z",
     "iopub.status.busy": "2022-03-14T18:44:51.322044Z",
     "iopub.status.idle": "2022-03-14T18:44:51.331259Z",
     "shell.execute_reply": "2022-03-14T18:44:51.331693Z",
     "shell.execute_reply.started": "2022-03-14T15:07:14.552338Z"
    },
    "papermill": {
     "duration": 0.037618,
     "end_time": "2022-03-14T18:44:51.331877",
     "exception": false,
     "start_time": "2022-03-14T18:44:51.294259",
     "status": "completed"
    },
    "tags": []
   },
   "outputs": [
    {
     "data": {
      "text/plain": [
       "array([[     0,      0,      0, ...,    232,    420,    458],\n",
       "       [     0,      0,      0, ...,  13520, 178655,   5319],\n",
       "       [     0,      0,      0, ...,    889,   6586,   6006],\n",
       "       ...,\n",
       "       [     0,      0,      0, ...,    154,  63234,   4116],\n",
       "       [     0,      0,      0, ...,   4399,   8015,   7094],\n",
       "       [     0,      0,      0, ...,    180,   1524,  37015]])"
      ]
     },
     "execution_count": 5,
     "metadata": {},
     "output_type": "execute_result"
    }
   ],
   "source": [
    "X_test_lstm"
   ]
  },
  {
   "cell_type": "code",
   "execution_count": 6,
   "id": "2384b732",
   "metadata": {
    "execution": {
     "iopub.execute_input": "2022-03-14T18:44:51.387232Z",
     "iopub.status.busy": "2022-03-14T18:44:51.386319Z",
     "iopub.status.idle": "2022-03-14T18:44:51.397911Z",
     "shell.execute_reply": "2022-03-14T18:44:51.397404Z",
     "shell.execute_reply.started": "2022-03-14T15:07:16.621013Z"
    },
    "papermill": {
     "duration": 0.04028,
     "end_time": "2022-03-14T18:44:51.398058",
     "exception": false,
     "start_time": "2022-03-14T18:44:51.357778",
     "status": "completed"
    },
    "tags": []
   },
   "outputs": [],
   "source": [
    "# create Tensor datasets\n",
    "test_data = TensorDataset(torch.from_numpy(X_test_lstm), torch.from_numpy(y_test_lstm))\n",
    "\n",
    "# dataloaders\n",
    "batch_size = 64\n",
    "\n",
    "test_loader = DataLoader(test_data, shuffle=True, batch_size=batch_size)"
   ]
  },
  {
   "cell_type": "code",
   "execution_count": 7,
   "id": "5ba4ab75",
   "metadata": {
    "execution": {
     "iopub.execute_input": "2022-03-14T18:44:51.454055Z",
     "iopub.status.busy": "2022-03-14T18:44:51.453463Z",
     "iopub.status.idle": "2022-03-14T18:44:51.805190Z",
     "shell.execute_reply": "2022-03-14T18:44:51.805758Z",
     "shell.execute_reply.started": "2022-03-14T15:07:21.175912Z"
    },
    "papermill": {
     "duration": 0.381829,
     "end_time": "2022-03-14T18:44:51.805937",
     "exception": false,
     "start_time": "2022-03-14T18:44:51.424108",
     "status": "completed"
    },
    "tags": []
   },
   "outputs": [],
   "source": [
    "vocab_to_int = nh.load_pickle_file('../input/vocabtoint/vocab_to_int_no_stem.obj')"
   ]
  },
  {
   "cell_type": "code",
   "execution_count": 8,
   "id": "88c27d89",
   "metadata": {
    "execution": {
     "iopub.execute_input": "2022-03-14T18:44:51.865528Z",
     "iopub.status.busy": "2022-03-14T18:44:51.864812Z",
     "iopub.status.idle": "2022-03-14T18:44:53.466540Z",
     "shell.execute_reply": "2022-03-14T18:44:53.467251Z",
     "shell.execute_reply.started": "2022-03-14T15:07:21.576064Z"
    },
    "papermill": {
     "duration": 1.635189,
     "end_time": "2022-03-14T18:44:53.467480",
     "exception": false,
     "start_time": "2022-03-14T18:44:51.832291",
     "status": "completed"
    },
    "tags": []
   },
   "outputs": [
    {
     "name": "stdout",
     "output_type": "stream",
     "text": [
      "DialectRNN(\n",
      "  (embedding): Embedding(421598, 400)\n",
      "  (lstm): LSTM(400, 256, num_layers=2, batch_first=True, dropout=0.3)\n",
      "  (dropout): Dropout(p=0.3, inplace=False)\n",
      "  (fc1): Sequential(\n",
      "    (0): Linear(in_features=256, out_features=64, bias=True)\n",
      "  )\n",
      "  (fc2): Sequential(\n",
      "    (0): Linear(in_features=64, out_features=18, bias=True)\n",
      "  )\n",
      ")\n"
     ]
    }
   ],
   "source": [
    "# Instantiate the model with hyperparams\n",
    "vocab_size = len(vocab_to_int) + 1 # +1 for 0 padding\n",
    "output_size = 18# Dialect index\n",
    "embedding_dim = 400\n",
    "hidden_dim = 256\n",
    "n_layers = 2\n",
    "drop_prob = 0.3\n",
    "seq_length = 20\n",
    "\n",
    "\n",
    "model = DialectRNN(vocab_size, output_size, embedding_dim, hidden_dim, \n",
    "                 n_layers, seq_length, drop_prob=drop_prob)\n",
    "print(model)\n",
    "\n"
   ]
  },
  {
   "cell_type": "code",
   "execution_count": 9,
   "id": "eb632733",
   "metadata": {
    "execution": {
     "iopub.execute_input": "2022-03-14T18:44:53.527104Z",
     "iopub.status.busy": "2022-03-14T18:44:53.526446Z",
     "iopub.status.idle": "2022-03-14T18:45:02.176875Z",
     "shell.execute_reply": "2022-03-14T18:45:02.176349Z",
     "shell.execute_reply.started": "2022-03-13T19:59:47.985268Z"
    },
    "papermill": {
     "duration": 8.682349,
     "end_time": "2022-03-14T18:45:02.177027",
     "exception": false,
     "start_time": "2022-03-14T18:44:53.494678",
     "status": "completed"
    },
    "tags": []
   },
   "outputs": [
    {
     "data": {
      "text/plain": [
       "<All keys matched successfully>"
      ]
     },
     "execution_count": 9,
     "metadata": {},
     "output_type": "execute_result"
    }
   ],
   "source": [
    "model.load_state_dict(torch.load('../input/aim-lstm-model-no-stem/models_1/best_model.pt', map_location=torch.device('cpu')))"
   ]
  },
  {
   "cell_type": "code",
   "execution_count": 10,
   "id": "dda9bf9d",
   "metadata": {
    "execution": {
     "iopub.execute_input": "2022-03-14T18:45:02.234466Z",
     "iopub.status.busy": "2022-03-14T18:45:02.233530Z",
     "iopub.status.idle": "2022-03-14T18:45:02.238300Z",
     "shell.execute_reply": "2022-03-14T18:45:02.237830Z",
     "shell.execute_reply.started": "2022-03-13T20:00:13.36056Z"
    },
    "papermill": {
     "duration": 0.034126,
     "end_time": "2022-03-14T18:45:02.238447",
     "exception": false,
     "start_time": "2022-03-14T18:45:02.204321",
     "status": "completed"
    },
    "tags": []
   },
   "outputs": [],
   "source": [
    "train_on_gpu = torch.cuda.is_available()"
   ]
  },
  {
   "cell_type": "code",
   "execution_count": 11,
   "id": "53f5a263",
   "metadata": {
    "execution": {
     "iopub.execute_input": "2022-03-14T18:45:02.298511Z",
     "iopub.status.busy": "2022-03-14T18:45:02.297802Z",
     "iopub.status.idle": "2022-03-14T18:45:31.354649Z",
     "shell.execute_reply": "2022-03-14T18:45:31.355141Z",
     "shell.execute_reply.started": "2022-03-13T20:00:39.251775Z"
    },
    "papermill": {
     "duration": 29.090299,
     "end_time": "2022-03-14T18:45:31.355329",
     "exception": false,
     "start_time": "2022-03-14T18:45:02.265030",
     "status": "completed"
    },
    "tags": []
   },
   "outputs": [],
   "source": [
    "class_weights = torch.Tensor([1.6439, 0.7020, 0.8124, 0.5842, 1.5641, 2.7362, 0.9202, 2.2054, 0.9472,\n",
    "        2.5982, 1.5742, 0.4378, 0.9200, 0.6006, 1.3496, 1.7698, 0.9674, 0.9727])\n",
    "\n",
    "criterion = nn.CrossEntropyLoss(weight=class_weights, reduction='mean')\n",
    "f1_score_macro, test_loss, test_acc = lh.test(model, test_loader, criterion, train_on_gpu)"
   ]
  },
  {
   "cell_type": "code",
   "execution_count": 12,
   "id": "4b27e6b1",
   "metadata": {
    "execution": {
     "iopub.execute_input": "2022-03-14T18:45:31.412825Z",
     "iopub.status.busy": "2022-03-14T18:45:31.412160Z",
     "iopub.status.idle": "2022-03-14T18:45:31.414803Z",
     "shell.execute_reply": "2022-03-14T18:45:31.414342Z",
     "shell.execute_reply.started": "2022-03-13T20:02:38.696257Z"
    },
    "papermill": {
     "duration": 0.033381,
     "end_time": "2022-03-14T18:45:31.414947",
     "exception": false,
     "start_time": "2022-03-14T18:45:31.381566",
     "status": "completed"
    },
    "tags": []
   },
   "outputs": [],
   "source": [
    "# track all scores\n",
    "all_scores = {}"
   ]
  },
  {
   "cell_type": "code",
   "execution_count": 13,
   "id": "008a6fa0",
   "metadata": {
    "execution": {
     "iopub.execute_input": "2022-03-14T18:45:31.472543Z",
     "iopub.status.busy": "2022-03-14T18:45:31.471963Z",
     "iopub.status.idle": "2022-03-14T18:45:31.474522Z",
     "shell.execute_reply": "2022-03-14T18:45:31.474928Z",
     "shell.execute_reply.started": "2022-03-13T20:03:06.419593Z"
    },
    "papermill": {
     "duration": 0.033691,
     "end_time": "2022-03-14T18:45:31.475085",
     "exception": false,
     "start_time": "2022-03-14T18:45:31.441394",
     "status": "completed"
    },
    "tags": []
   },
   "outputs": [
    {
     "name": "stdout",
     "output_type": "stream",
     "text": [
      "LSTM model f1_score_macro on test_data with no stemming is: 0.4140459135041342\n"
     ]
    }
   ],
   "source": [
    "print('LSTM model f1_score_macro on test_data with no stemming is:', f1_score_macro)\n",
    "all_scores['LSTM No Stem'] = f1_score_macro"
   ]
  },
  {
   "cell_type": "markdown",
   "id": "98058c22",
   "metadata": {
    "papermill": {
     "duration": 0.026302,
     "end_time": "2022-03-14T18:45:31.527971",
     "exception": false,
     "start_time": "2022-03-14T18:45:31.501669",
     "status": "completed"
    },
    "tags": []
   },
   "source": [
    "#### 2- Ml model"
   ]
  },
  {
   "cell_type": "code",
   "execution_count": 14,
   "id": "120814ce",
   "metadata": {
    "execution": {
     "iopub.execute_input": "2022-03-14T18:45:31.585014Z",
     "iopub.status.busy": "2022-03-14T18:45:31.583689Z",
     "iopub.status.idle": "2022-03-14T18:45:31.680419Z",
     "shell.execute_reply": "2022-03-14T18:45:31.680932Z",
     "shell.execute_reply.started": "2022-03-13T20:03:12.121449Z"
    },
    "papermill": {
     "duration": 0.126463,
     "end_time": "2022-03-14T18:45:31.681102",
     "exception": false,
     "start_time": "2022-03-14T18:45:31.554639",
     "status": "completed"
    },
    "tags": []
   },
   "outputs": [],
   "source": [
    "X_test = nh.load_pickle_file('../input/testdataset/X_test_ml_no_stem.obj')\n",
    "y_test = nh.load_pickle_file('../input/testdataset/y_test_ml_no_stem.obj')"
   ]
  },
  {
   "cell_type": "code",
   "execution_count": 15,
   "id": "64c0ed8c",
   "metadata": {
    "execution": {
     "iopub.execute_input": "2022-03-14T18:45:31.738140Z",
     "iopub.status.busy": "2022-03-14T18:45:31.737279Z",
     "iopub.status.idle": "2022-03-14T18:45:52.022224Z",
     "shell.execute_reply": "2022-03-14T18:45:52.022654Z",
     "shell.execute_reply.started": "2022-03-13T20:03:14.70018Z"
    },
    "papermill": {
     "duration": 20.314892,
     "end_time": "2022-03-14T18:45:52.022850",
     "exception": false,
     "start_time": "2022-03-14T18:45:31.707958",
     "status": "completed"
    },
    "tags": []
   },
   "outputs": [],
   "source": [
    "rf_20 = nh.load_pickle_file('../input/nlp-ml-model/pipe_rf_20.obj')"
   ]
  },
  {
   "cell_type": "code",
   "execution_count": 16,
   "id": "d1facb5d",
   "metadata": {
    "execution": {
     "iopub.execute_input": "2022-03-14T18:45:52.079339Z",
     "iopub.status.busy": "2022-03-14T18:45:52.078788Z",
     "iopub.status.idle": "2022-03-14T18:46:11.501061Z",
     "shell.execute_reply": "2022-03-14T18:46:11.500525Z",
     "shell.execute_reply.started": "2022-03-13T20:03:36.780941Z"
    },
    "papermill": {
     "duration": 19.45175,
     "end_time": "2022-03-14T18:46:11.501225",
     "exception": false,
     "start_time": "2022-03-14T18:45:52.049475",
     "status": "completed"
    },
    "tags": []
   },
   "outputs": [],
   "source": [
    "y_hat = rf_20.predict(X_test)"
   ]
  },
  {
   "cell_type": "code",
   "execution_count": 17,
   "id": "e05704d0",
   "metadata": {
    "execution": {
     "iopub.execute_input": "2022-03-14T18:46:11.606895Z",
     "iopub.status.busy": "2022-03-14T18:46:11.605646Z",
     "iopub.status.idle": "2022-03-14T18:46:11.864860Z",
     "shell.execute_reply": "2022-03-14T18:46:11.864339Z",
     "shell.execute_reply.started": "2022-03-13T20:04:06.075043Z"
    },
    "papermill": {
     "duration": 0.336939,
     "end_time": "2022-03-14T18:46:11.865006",
     "exception": false,
     "start_time": "2022-03-14T18:46:11.528067",
     "status": "completed"
    },
    "tags": []
   },
   "outputs": [],
   "source": [
    "f1_score_macro = f1_score(y_test, y_hat, average='macro')"
   ]
  },
  {
   "cell_type": "code",
   "execution_count": 18,
   "id": "13f8b436",
   "metadata": {
    "execution": {
     "iopub.execute_input": "2022-03-14T18:46:11.921293Z",
     "iopub.status.busy": "2022-03-14T18:46:11.920673Z",
     "iopub.status.idle": "2022-03-14T18:46:11.924516Z",
     "shell.execute_reply": "2022-03-14T18:46:11.925091Z",
     "shell.execute_reply.started": "2022-03-13T20:05:27.18978Z"
    },
    "papermill": {
     "duration": 0.03353,
     "end_time": "2022-03-14T18:46:11.925253",
     "exception": false,
     "start_time": "2022-03-14T18:46:11.891723",
     "status": "completed"
    },
    "tags": []
   },
   "outputs": [
    {
     "name": "stdout",
     "output_type": "stream",
     "text": [
      "ML model (Random Forest) f1_score_macro on test_data with no stem is: 0.3590622808302603\n"
     ]
    }
   ],
   "source": [
    "print('ML model (Random Forest) f1_score_macro on test_data with no stem is:', f1_score_macro)\n",
    "all_scores['ML No Stem'] = f1_score_macro"
   ]
  },
  {
   "cell_type": "markdown",
   "id": "d6d6edd0",
   "metadata": {
    "papermill": {
     "duration": 0.026174,
     "end_time": "2022-03-14T18:46:11.978220",
     "exception": false,
     "start_time": "2022-03-14T18:46:11.952046",
     "status": "completed"
    },
    "tags": []
   },
   "source": [
    "### With stemming"
   ]
  },
  {
   "cell_type": "markdown",
   "id": "68d59694",
   "metadata": {
    "papermill": {
     "duration": 0.02621,
     "end_time": "2022-03-14T18:46:12.031112",
     "exception": false,
     "start_time": "2022-03-14T18:46:12.004902",
     "status": "completed"
    },
    "tags": []
   },
   "source": [
    "#### 1- Lstm"
   ]
  },
  {
   "cell_type": "code",
   "execution_count": 19,
   "id": "cd334009",
   "metadata": {
    "execution": {
     "iopub.execute_input": "2022-03-14T18:46:12.087542Z",
     "iopub.status.busy": "2022-03-14T18:46:12.086956Z",
     "iopub.status.idle": "2022-03-14T18:46:16.748370Z",
     "shell.execute_reply": "2022-03-14T18:46:16.747848Z",
     "shell.execute_reply.started": "2022-03-13T20:05:48.203728Z"
    },
    "papermill": {
     "duration": 4.69071,
     "end_time": "2022-03-14T18:46:16.748517",
     "exception": false,
     "start_time": "2022-03-14T18:46:12.057807",
     "status": "completed"
    },
    "tags": []
   },
   "outputs": [
    {
     "name": "stdout",
     "output_type": "stream",
     "text": [
      "DialectRNN(\n",
      "  (embedding): Embedding(131094, 400)\n",
      "  (lstm): LSTM(400, 256, num_layers=2, batch_first=True, dropout=0.3)\n",
      "  (dropout): Dropout(p=0.3, inplace=False)\n",
      "  (fc1): Sequential(\n",
      "    (0): Linear(in_features=256, out_features=64, bias=True)\n",
      "  )\n",
      "  (fc2): Sequential(\n",
      "    (0): Linear(in_features=64, out_features=18, bias=True)\n",
      "  )\n",
      ")\n"
     ]
    },
    {
     "data": {
      "text/plain": [
       "<All keys matched successfully>"
      ]
     },
     "execution_count": 19,
     "metadata": {},
     "output_type": "execute_result"
    }
   ],
   "source": [
    "X_test_lstm = nh.load_pickle_file('../input/testdataset/X_test_with_stem_lstm.obj')\n",
    "y_test_lstm = nh.load_pickle_file('../input/testdataset/y_test_with_stem_lstm.obj')\n",
    "\n",
    "# create Tensor datasets\n",
    "test_data = TensorDataset(torch.from_numpy(X_test_lstm), torch.from_numpy(y_test_lstm))\n",
    "\n",
    "# dataloaders\n",
    "batch_size = 64\n",
    "\n",
    "test_loader = DataLoader(test_data, shuffle=True, batch_size=batch_size)\n",
    "\n",
    "vocab_to_int = nh.load_pickle_file('../input/vocabtoint/vocab_to_int_with_stem.obj')\n",
    "\n",
    "vocab_size = len(vocab_to_int) + 1 # +1 for 0 padding\n",
    "output_size = 18 # Dialect index\n",
    "embedding_dim = 400\n",
    "hidden_dim = 256\n",
    "n_layers = 2\n",
    "drop_prob = 0.3\n",
    "\n",
    "seq_length = 20\n",
    "\n",
    "\n",
    "model = DialectRNN(vocab_size, output_size, embedding_dim, hidden_dim, \n",
    "                 n_layers, seq_length, drop_prob=drop_prob)\n",
    "print(model)\n",
    "\n",
    "\n",
    "model.load_state_dict(torch.load('../input/aim-lstm-model-stem/models/best_model.pt', map_location=torch.device('cpu')))"
   ]
  },
  {
   "cell_type": "code",
   "execution_count": 20,
   "id": "a1b167dc",
   "metadata": {
    "execution": {
     "iopub.execute_input": "2022-03-14T18:46:16.820400Z",
     "iopub.status.busy": "2022-03-14T18:46:16.818057Z",
     "iopub.status.idle": "2022-03-14T18:46:45.281029Z",
     "shell.execute_reply": "2022-03-14T18:46:45.280514Z",
     "shell.execute_reply.started": "2022-03-13T20:06:10.453655Z"
    },
    "papermill": {
     "duration": 28.503871,
     "end_time": "2022-03-14T18:46:45.281176",
     "exception": false,
     "start_time": "2022-03-14T18:46:16.777305",
     "status": "completed"
    },
    "tags": []
   },
   "outputs": [],
   "source": [
    "f1_score_macro, test_loss, test_acc = lh.test(model, test_loader, criterion, train_on_gpu)"
   ]
  },
  {
   "cell_type": "code",
   "execution_count": 21,
   "id": "de138722",
   "metadata": {
    "execution": {
     "iopub.execute_input": "2022-03-14T18:46:45.339939Z",
     "iopub.status.busy": "2022-03-14T18:46:45.339321Z",
     "iopub.status.idle": "2022-03-14T18:46:45.343803Z",
     "shell.execute_reply": "2022-03-14T18:46:45.344273Z",
     "shell.execute_reply.started": "2022-03-13T20:08:06.809339Z"
    },
    "papermill": {
     "duration": 0.035492,
     "end_time": "2022-03-14T18:46:45.344439",
     "exception": false,
     "start_time": "2022-03-14T18:46:45.308947",
     "status": "completed"
    },
    "tags": []
   },
   "outputs": [
    {
     "name": "stdout",
     "output_type": "stream",
     "text": [
      "LSTM Model f1_score_macro on test data with stem is: 0.3743259140270182\n"
     ]
    }
   ],
   "source": [
    "all_scores['LSTM With Stem'] = f1_score_macro\n",
    "print('LSTM Model f1_score_macro on test data with stem is:', f1_score_macro)"
   ]
  },
  {
   "cell_type": "markdown",
   "id": "1cdfcf05",
   "metadata": {
    "papermill": {
     "duration": 0.027462,
     "end_time": "2022-03-14T18:46:45.399684",
     "exception": false,
     "start_time": "2022-03-14T18:46:45.372222",
     "status": "completed"
    },
    "tags": []
   },
   "source": [
    "#### 2- ML Model"
   ]
  },
  {
   "cell_type": "code",
   "execution_count": 22,
   "id": "aadacc03",
   "metadata": {
    "execution": {
     "iopub.execute_input": "2022-03-14T18:46:45.458857Z",
     "iopub.status.busy": "2022-03-14T18:46:45.457690Z",
     "iopub.status.idle": "2022-03-14T18:47:20.737112Z",
     "shell.execute_reply": "2022-03-14T18:47:20.736099Z",
     "shell.execute_reply.started": "2022-03-13T20:17:41.674597Z"
    },
    "papermill": {
     "duration": 35.310156,
     "end_time": "2022-03-14T18:47:20.737476",
     "exception": false,
     "start_time": "2022-03-14T18:46:45.427320",
     "status": "completed"
    },
    "tags": []
   },
   "outputs": [],
   "source": [
    "X_test = nh.load_pickle_file('../input/testdataset/X_test_ml_with_stem.obj')\n",
    "y_test = nh.load_pickle_file('../input/testdataset/y_test_ml_with_stem.obj')\n",
    "\n",
    "rf_20 = nh.load_pickle_file('../input/nlp-ml-model-with-stemming/pipe_rf_20_with_stem.obj')\n",
    "\n",
    "y_hat = rf_20.predict(X_test)\n",
    "f1_score_macro = f1_score(y_test, y_hat, average='macro')"
   ]
  },
  {
   "cell_type": "code",
   "execution_count": 23,
   "id": "843fd816",
   "metadata": {
    "execution": {
     "iopub.execute_input": "2022-03-14T18:47:20.804005Z",
     "iopub.status.busy": "2022-03-14T18:47:20.803309Z",
     "iopub.status.idle": "2022-03-14T18:47:20.806149Z",
     "shell.execute_reply": "2022-03-14T18:47:20.806637Z",
     "shell.execute_reply.started": "2022-03-13T20:19:06.480609Z"
    },
    "papermill": {
     "duration": 0.037921,
     "end_time": "2022-03-14T18:47:20.806844",
     "exception": false,
     "start_time": "2022-03-14T18:47:20.768923",
     "status": "completed"
    },
    "tags": []
   },
   "outputs": [
    {
     "name": "stdout",
     "output_type": "stream",
     "text": [
      "ML model with stem f1_score_macro on test set is: 0.3054796313493699\n"
     ]
    }
   ],
   "source": [
    "all_scores['ML With Stem'] = f1_score_macro\n",
    "print('ML model with stem f1_score_macro on test set is:', f1_score_macro)"
   ]
  },
  {
   "cell_type": "code",
   "execution_count": 24,
   "id": "a7e8652f",
   "metadata": {
    "execution": {
     "iopub.execute_input": "2022-03-14T18:47:20.866993Z",
     "iopub.status.busy": "2022-03-14T18:47:20.866373Z",
     "iopub.status.idle": "2022-03-14T18:47:20.872721Z",
     "shell.execute_reply": "2022-03-14T18:47:20.873202Z",
     "shell.execute_reply.started": "2022-03-13T20:20:16.987703Z"
    },
    "papermill": {
     "duration": 0.038149,
     "end_time": "2022-03-14T18:47:20.873367",
     "exception": false,
     "start_time": "2022-03-14T18:47:20.835218",
     "status": "completed"
    },
    "tags": []
   },
   "outputs": [
    {
     "data": {
      "text/plain": [
       "dict_keys(['LSTM No Stem', 'ML No Stem', 'LSTM With Stem', 'ML With Stem'])"
      ]
     },
     "execution_count": 24,
     "metadata": {},
     "output_type": "execute_result"
    }
   ],
   "source": [
    "all_scores.keys()"
   ]
  },
  {
   "cell_type": "code",
   "execution_count": 25,
   "id": "8a3b883b",
   "metadata": {
    "execution": {
     "iopub.execute_input": "2022-03-14T18:47:20.961759Z",
     "iopub.status.busy": "2022-03-14T18:47:20.960277Z",
     "iopub.status.idle": "2022-03-14T18:47:20.965115Z",
     "shell.execute_reply": "2022-03-14T18:47:20.964501Z",
     "shell.execute_reply.started": "2022-03-13T20:22:23.373298Z"
    },
    "papermill": {
     "duration": 0.063224,
     "end_time": "2022-03-14T18:47:20.965260",
     "exception": false,
     "start_time": "2022-03-14T18:47:20.902036",
     "status": "completed"
    },
    "tags": []
   },
   "outputs": [],
   "source": [
    "scores_df = pd.DataFrame()\n",
    "scores_df['No Stem'] = [all_scores['LSTM No Stem'], all_scores['ML No Stem']]\n",
    "scores_df['With Stem'] = [all_scores['LSTM With Stem'], all_scores['ML With Stem']]\n",
    "scores_df.index = ['LSTM', 'ML']"
   ]
  },
  {
   "cell_type": "code",
   "execution_count": 26,
   "id": "8d5ee521",
   "metadata": {
    "execution": {
     "iopub.execute_input": "2022-03-14T18:47:21.025940Z",
     "iopub.status.busy": "2022-03-14T18:47:21.024997Z",
     "iopub.status.idle": "2022-03-14T18:47:21.044378Z",
     "shell.execute_reply": "2022-03-14T18:47:21.044835Z",
     "shell.execute_reply.started": "2022-03-13T20:22:32.80586Z"
    },
    "papermill": {
     "duration": 0.051528,
     "end_time": "2022-03-14T18:47:21.044998",
     "exception": false,
     "start_time": "2022-03-14T18:47:20.993470",
     "status": "completed"
    },
    "tags": []
   },
   "outputs": [
    {
     "data": {
      "text/html": [
       "<div>\n",
       "<style scoped>\n",
       "    .dataframe tbody tr th:only-of-type {\n",
       "        vertical-align: middle;\n",
       "    }\n",
       "\n",
       "    .dataframe tbody tr th {\n",
       "        vertical-align: top;\n",
       "    }\n",
       "\n",
       "    .dataframe thead th {\n",
       "        text-align: right;\n",
       "    }\n",
       "</style>\n",
       "<table border=\"1\" class=\"dataframe\">\n",
       "  <thead>\n",
       "    <tr style=\"text-align: right;\">\n",
       "      <th></th>\n",
       "      <th>No Stem</th>\n",
       "      <th>With Stem</th>\n",
       "    </tr>\n",
       "  </thead>\n",
       "  <tbody>\n",
       "    <tr>\n",
       "      <th>LSTM</th>\n",
       "      <td>0.414046</td>\n",
       "      <td>0.374326</td>\n",
       "    </tr>\n",
       "    <tr>\n",
       "      <th>ML</th>\n",
       "      <td>0.359062</td>\n",
       "      <td>0.305480</td>\n",
       "    </tr>\n",
       "  </tbody>\n",
       "</table>\n",
       "</div>"
      ],
      "text/plain": [
       "       No Stem  With Stem\n",
       "LSTM  0.414046   0.374326\n",
       "ML    0.359062   0.305480"
      ]
     },
     "execution_count": 26,
     "metadata": {},
     "output_type": "execute_result"
    }
   ],
   "source": [
    "scores_df.head()"
   ]
  },
  {
   "cell_type": "code",
   "execution_count": null,
   "id": "4ab04071",
   "metadata": {
    "papermill": {
     "duration": 0.028441,
     "end_time": "2022-03-14T18:47:21.102206",
     "exception": false,
     "start_time": "2022-03-14T18:47:21.073765",
     "status": "completed"
    },
    "tags": []
   },
   "outputs": [],
   "source": []
  }
 ],
 "metadata": {
  "kernelspec": {
   "display_name": "Python 3",
   "language": "python",
   "name": "python3"
  },
  "language_info": {
   "codemirror_mode": {
    "name": "ipython",
    "version": 3
   },
   "file_extension": ".py",
   "mimetype": "text/x-python",
   "name": "python",
   "nbconvert_exporter": "python",
   "pygments_lexer": "ipython3",
   "version": "3.7.12"
  },
  "papermill": {
   "default_parameters": {},
   "duration": 174.189625,
   "end_time": "2022-03-14T18:47:22.545585",
   "environment_variables": {},
   "exception": null,
   "input_path": "__notebook__.ipynb",
   "output_path": "__notebook__.ipynb",
   "parameters": {},
   "start_time": "2022-03-14T18:44:28.355960",
   "version": "2.3.3"
  }
 },
 "nbformat": 4,
 "nbformat_minor": 5
}
