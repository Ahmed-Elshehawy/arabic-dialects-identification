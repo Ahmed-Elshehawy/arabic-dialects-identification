{
 "cells": [
  {
   "cell_type": "markdown",
   "id": "1ef7fc4a",
   "metadata": {
    "papermill": {
     "duration": 0.031229,
     "end_time": "2022-03-12T19:50:47.567507",
     "exception": false,
     "start_time": "2022-03-12T19:50:47.536278",
     "status": "completed"
    },
    "tags": []
   },
   "source": [
    "### Import necessary packages"
   ]
  },
  {
   "cell_type": "code",
   "execution_count": 1,
   "id": "29f65b7f",
   "metadata": {
    "execution": {
     "iopub.execute_input": "2022-03-12T19:50:47.634441Z",
     "iopub.status.busy": "2022-03-12T19:50:47.633272Z",
     "iopub.status.idle": "2022-03-12T19:50:50.454344Z",
     "shell.execute_reply": "2022-03-12T19:50:50.453595Z",
     "shell.execute_reply.started": "2022-03-12T17:32:39.930764Z"
    },
    "papermill": {
     "duration": 2.855,
     "end_time": "2022-03-12T19:50:50.454530",
     "exception": false,
     "start_time": "2022-03-12T19:50:47.599530",
     "status": "completed"
    },
    "tags": []
   },
   "outputs": [],
   "source": [
    "import os\n",
    "import numpy as np\n",
    "import pandas as pd\n",
    "import nltk\n",
    "from nltk.corpus import stopwords\n",
    "import nlp_helpers as nh"
   ]
  },
  {
   "cell_type": "markdown",
   "id": "b85179cf",
   "metadata": {
    "papermill": {
     "duration": 0.034208,
     "end_time": "2022-03-12T19:50:50.520575",
     "exception": false,
     "start_time": "2022-03-12T19:50:50.486367",
     "status": "completed"
    },
    "tags": []
   },
   "source": [
    "### Load Data"
   ]
  },
  {
   "cell_type": "code",
   "execution_count": 2,
   "id": "ceeefa17",
   "metadata": {
    "execution": {
     "iopub.execute_input": "2022-03-12T19:50:50.587339Z",
     "iopub.status.busy": "2022-03-12T19:50:50.586682Z",
     "iopub.status.idle": "2022-03-12T19:50:50.588620Z",
     "shell.execute_reply": "2022-03-12T19:50:50.588010Z",
     "shell.execute_reply.started": "2022-03-12T17:32:39.957036Z"
    },
    "papermill": {
     "duration": 0.037309,
     "end_time": "2022-03-12T19:50:50.588774",
     "exception": false,
     "start_time": "2022-03-12T19:50:50.551465",
     "status": "completed"
    },
    "tags": []
   },
   "outputs": [],
   "source": [
    "root_path = '../input/ar-dialect-data'\n",
    "data_path = os.path.join(root_path, 'data_with_text.csv')\n",
    "curr_path = os.path.join(root_path, 'curr.txt')"
   ]
  },
  {
   "cell_type": "code",
   "execution_count": 3,
   "id": "ec94bb1b",
   "metadata": {
    "execution": {
     "iopub.execute_input": "2022-03-12T19:50:50.667352Z",
     "iopub.status.busy": "2022-03-12T19:50:50.666610Z",
     "iopub.status.idle": "2022-03-12T19:50:53.529255Z",
     "shell.execute_reply": "2022-03-12T19:50:53.529794Z",
     "shell.execute_reply.started": "2022-03-12T17:32:39.983724Z"
    },
    "papermill": {
     "duration": 2.904936,
     "end_time": "2022-03-12T19:50:53.529985",
     "exception": false,
     "start_time": "2022-03-12T19:50:50.625049",
     "status": "completed"
    },
    "tags": []
   },
   "outputs": [
    {
     "data": {
      "text/html": [
       "<div>\n",
       "<style scoped>\n",
       "    .dataframe tbody tr th:only-of-type {\n",
       "        vertical-align: middle;\n",
       "    }\n",
       "\n",
       "    .dataframe tbody tr th {\n",
       "        vertical-align: top;\n",
       "    }\n",
       "\n",
       "    .dataframe thead th {\n",
       "        text-align: right;\n",
       "    }\n",
       "</style>\n",
       "<table border=\"1\" class=\"dataframe\">\n",
       "  <thead>\n",
       "    <tr style=\"text-align: right;\">\n",
       "      <th></th>\n",
       "      <th>id</th>\n",
       "      <th>text</th>\n",
       "      <th>dialect</th>\n",
       "    </tr>\n",
       "  </thead>\n",
       "  <tbody>\n",
       "    <tr>\n",
       "      <th>0</th>\n",
       "      <td>1175358310087892992</td>\n",
       "      <td>@Nw8ieJUwaCAAreT لكن بالنهاية .. ينتفض .. يغير .</td>\n",
       "      <td>IQ</td>\n",
       "    </tr>\n",
       "    <tr>\n",
       "      <th>1</th>\n",
       "      <td>1175416117793349632</td>\n",
       "      <td>@7zNqXP0yrODdRjK يعني هذا محسوب على البشر .. ح...</td>\n",
       "      <td>IQ</td>\n",
       "    </tr>\n",
       "    <tr>\n",
       "      <th>2</th>\n",
       "      <td>1175450108898565888</td>\n",
       "      <td>@KanaanRema مبين من كلامه خليجي</td>\n",
       "      <td>IQ</td>\n",
       "    </tr>\n",
       "    <tr>\n",
       "      <th>3</th>\n",
       "      <td>1175471073770573824</td>\n",
       "      <td>@HAIDER76128900 يسلملي مرورك وروحك الحلوه💐</td>\n",
       "      <td>IQ</td>\n",
       "    </tr>\n",
       "    <tr>\n",
       "      <th>4</th>\n",
       "      <td>1175496913145217024</td>\n",
       "      <td>@hmo2406 وين هل الغيبه  اخ محمد 🌸🌺</td>\n",
       "      <td>IQ</td>\n",
       "    </tr>\n",
       "  </tbody>\n",
       "</table>\n",
       "</div>"
      ],
      "text/plain": [
       "                    id                                               text  \\\n",
       "0  1175358310087892992   @Nw8ieJUwaCAAreT لكن بالنهاية .. ينتفض .. يغير .   \n",
       "1  1175416117793349632  @7zNqXP0yrODdRjK يعني هذا محسوب على البشر .. ح...   \n",
       "2  1175450108898565888                    @KanaanRema مبين من كلامه خليجي   \n",
       "3  1175471073770573824         @HAIDER76128900 يسلملي مرورك وروحك الحلوه💐   \n",
       "4  1175496913145217024                 @hmo2406 وين هل الغيبه  اخ محمد 🌸🌺   \n",
       "\n",
       "  dialect  \n",
       "0      IQ  \n",
       "1      IQ  \n",
       "2      IQ  \n",
       "3      IQ  \n",
       "4      IQ  "
      ]
     },
     "execution_count": 3,
     "metadata": {},
     "output_type": "execute_result"
    }
   ],
   "source": [
    "data = pd.read_csv(data_path, lineterminator='\\n')\n",
    "data.head()"
   ]
  },
  {
   "cell_type": "markdown",
   "id": "5260b742",
   "metadata": {
    "papermill": {
     "duration": 0.032365,
     "end_time": "2022-03-12T19:50:53.593770",
     "exception": false,
     "start_time": "2022-03-12T19:50:53.561405",
     "status": "completed"
    },
    "tags": []
   },
   "source": [
    "### Steps:\n",
    "1- **Clean hshtages**:  \n",
    " - hashtags may contain some useful words that may help with dialect identification\n",
    " - so, in this step, I will  remove \"#\" symbol, then split the hashtag by \"_\" under score, to get all words separated by space  \n",
    "\n",
    "2- **Normalize text**:\n",
    "- arabic alphapet contains letters like ('إأٱآ'), and people use them interchangeably, Example: (أحمد) and (احمد), this will increase vocabulary size, and the model may treat them as two differenct words\n",
    "- normalization will include: ('إأٱآ') ----> (ا), ('ؤئ') ----> (ء), (ة) ----> (ه), and (ى) ----> (ي)   \n",
    "\n",
    "3- **Keep arbic characters only**:\n",
    "- after text normalization, we are sure that all arabic lettes are these 29 charecters (ابتثجحخدذرزسشصضطظعغفقكلمنهويء)\n",
    "- this step will remove tashkeel like (ُ ), english words, emojis, links, etc..\n",
    "\n",
    "\n",
    "4- **Remove repeated letters**:\n",
    "- this step will keep only one letter of any arabic letter that is repeated \"n\" or more times, here I've set n=3.  \n",
    "- example: (جوووول) ----> (جول), while keeping 2 repeated letters like (ممكن)    \n",
    "\n",
    "5- **Tokenization**:\n",
    "- now we are ready to tokenize all tweets.\n",
    "- each tweet will be a list of words  \n",
    "\n",
    "6 **Remove stop words**  \n",
    "\n",
    "7- **Stemming**:\n",
    "- stemming will lead to:\n",
    "    * it will neutralize some words, like (بلّش) with `shaddah` which is a Lebanese word means \"begin\", and (بلاش) which means \"free\", it is widely used in Egypt, both of them will become (بلش)\n",
    "    * so, this will make it difficult for the model to differentiate between the two dialects.\n",
    "    * other words like (فطور) and (فطار), will become (فطر), this may increase ambiguity between two dialects\n",
    "    * ***so, to test this effect on different models, and because stemming requires another order of the previous steps, I will perform it in another notebook.***\n"
   ]
  },
  {
   "cell_type": "markdown",
   "id": "b435d09e",
   "metadata": {
    "papermill": {
     "duration": 0.030612,
     "end_time": "2022-03-12T19:50:53.655485",
     "exception": false,
     "start_time": "2022-03-12T19:50:53.624873",
     "status": "completed"
    },
    "tags": []
   },
   "source": [
    "### Clean hashtags"
   ]
  },
  {
   "cell_type": "code",
   "execution_count": 4,
   "id": "b4521959",
   "metadata": {
    "execution": {
     "iopub.execute_input": "2022-03-12T19:50:53.726002Z",
     "iopub.status.busy": "2022-03-12T19:50:53.725333Z",
     "iopub.status.idle": "2022-03-12T19:50:53.727868Z",
     "shell.execute_reply": "2022-03-12T19:50:53.728360Z",
     "shell.execute_reply.started": "2022-03-12T17:32:41.827202Z"
    },
    "papermill": {
     "duration": 0.041665,
     "end_time": "2022-03-12T19:50:53.728555",
     "exception": false,
     "start_time": "2022-03-12T19:50:53.686890",
     "status": "completed"
    },
    "tags": []
   },
   "outputs": [
    {
     "data": {
      "text/plain": [
       "'قالوا قادمون .. چان أحنا نروحلهم\\nاذا مو گد السالفة ليش تحچون؟\\n #كلمه_لشهداء_العراق https://t.co/33s1ta2JmD'"
      ]
     },
     "execution_count": 4,
     "metadata": {},
     "output_type": "execute_result"
    }
   ],
   "source": [
    "# example before cleaning\n",
    "data['text'][420]"
   ]
  },
  {
   "cell_type": "code",
   "execution_count": 5,
   "id": "7f7cd24b",
   "metadata": {
    "execution": {
     "iopub.execute_input": "2022-03-12T19:50:53.796446Z",
     "iopub.status.busy": "2022-03-12T19:50:53.795770Z",
     "iopub.status.idle": "2022-03-12T19:50:55.287243Z",
     "shell.execute_reply": "2022-03-12T19:50:55.286707Z",
     "shell.execute_reply.started": "2022-03-12T17:32:41.834973Z"
    },
    "papermill": {
     "duration": 1.527566,
     "end_time": "2022-03-12T19:50:55.287394",
     "exception": false,
     "start_time": "2022-03-12T19:50:53.759828",
     "status": "completed"
    },
    "tags": []
   },
   "outputs": [],
   "source": [
    "data['text'] = data['text'].apply(nh.clean_hashtags)"
   ]
  },
  {
   "cell_type": "code",
   "execution_count": 6,
   "id": "85565c4d",
   "metadata": {
    "execution": {
     "iopub.execute_input": "2022-03-12T19:50:55.359183Z",
     "iopub.status.busy": "2022-03-12T19:50:55.358515Z",
     "iopub.status.idle": "2022-03-12T19:50:55.360959Z",
     "shell.execute_reply": "2022-03-12T19:50:55.361555Z",
     "shell.execute_reply.started": "2022-03-12T17:32:43.311034Z"
    },
    "papermill": {
     "duration": 0.042498,
     "end_time": "2022-03-12T19:50:55.361739",
     "exception": false,
     "start_time": "2022-03-12T19:50:55.319241",
     "status": "completed"
    },
    "tags": []
   },
   "outputs": [
    {
     "data": {
      "text/plain": [
       "'قالوا قادمون .. چان أحنا نروحلهم\\nاذا مو گد السالفة ليش تحچون؟\\n كلمه لشهداء العراق https://t.co/33s1ta2JmD'"
      ]
     },
     "execution_count": 6,
     "metadata": {},
     "output_type": "execute_result"
    }
   ],
   "source": [
    "# example after cleaning\n",
    "data['text'][420]"
   ]
  },
  {
   "cell_type": "markdown",
   "id": "14333064",
   "metadata": {
    "papermill": {
     "duration": 0.031236,
     "end_time": "2022-03-12T19:50:55.424565",
     "exception": false,
     "start_time": "2022-03-12T19:50:55.393329",
     "status": "completed"
    },
    "tags": []
   },
   "source": [
    "### Normalize text"
   ]
  },
  {
   "cell_type": "code",
   "execution_count": 7,
   "id": "1828c55c",
   "metadata": {
    "execution": {
     "iopub.execute_input": "2022-03-12T19:50:55.490853Z",
     "iopub.status.busy": "2022-03-12T19:50:55.490228Z",
     "iopub.status.idle": "2022-03-12T19:50:55.498205Z",
     "shell.execute_reply": "2022-03-12T19:50:55.497564Z",
     "shell.execute_reply.started": "2022-03-12T17:32:43.321342Z"
    },
    "papermill": {
     "duration": 0.042073,
     "end_time": "2022-03-12T19:50:55.498341",
     "exception": false,
     "start_time": "2022-03-12T19:50:55.456268",
     "status": "completed"
    },
    "tags": []
   },
   "outputs": [
    {
     "name": "stdout",
     "output_type": "stream",
     "text": [
      "@sfer661 يأكلون بخيرنه ويهينون  موظفينه ..\n",
      "@mimi1562  هنا السؤال اي واحد اقوى الكف لو لطراق 🙄\n",
      "@Bh Elections @Anas Al Shaikh خيمة تجار شبعانين ما عليهم من الفقير\n",
      "@ha   m   ed كل جماعة على قدر عقولها😂\n"
     ]
    }
   ],
   "source": [
    "# examples before normalization\n",
    "print(data['text'][18]) # alef example\n",
    "print(data['text'][458045]) # hamzah example\n",
    "print(data['text'][458175]) # taa marbotah example\n",
    "print(data['text'][24]) # alef layennah example"
   ]
  },
  {
   "cell_type": "code",
   "execution_count": 8,
   "id": "d1861d33",
   "metadata": {
    "execution": {
     "iopub.execute_input": "2022-03-12T19:50:55.567924Z",
     "iopub.status.busy": "2022-03-12T19:50:55.567224Z",
     "iopub.status.idle": "2022-03-12T19:51:01.071738Z",
     "shell.execute_reply": "2022-03-12T19:51:01.071139Z",
     "shell.execute_reply.started": "2022-03-12T17:32:43.336919Z"
    },
    "papermill": {
     "duration": 5.541326,
     "end_time": "2022-03-12T19:51:01.071904",
     "exception": false,
     "start_time": "2022-03-12T19:50:55.530578",
     "status": "completed"
    },
    "tags": []
   },
   "outputs": [],
   "source": [
    "data['text'] = data['text'].apply(nh.normalize_text)"
   ]
  },
  {
   "cell_type": "code",
   "execution_count": 9,
   "id": "073aed00",
   "metadata": {
    "execution": {
     "iopub.execute_input": "2022-03-12T19:51:01.147694Z",
     "iopub.status.busy": "2022-03-12T19:51:01.145430Z",
     "iopub.status.idle": "2022-03-12T19:51:01.151173Z",
     "shell.execute_reply": "2022-03-12T19:51:01.151633Z",
     "shell.execute_reply.started": "2022-03-12T17:32:48.771006Z"
    },
    "papermill": {
     "duration": 0.047613,
     "end_time": "2022-03-12T19:51:01.151825",
     "exception": false,
     "start_time": "2022-03-12T19:51:01.104212",
     "status": "completed"
    },
    "tags": []
   },
   "outputs": [
    {
     "name": "stdout",
     "output_type": "stream",
     "text": [
      "@sfer661 ياكلون بخيرنه ويهينون  موظفينه ..\n",
      "@mimi1562  هنا السءال اي واحد اقوي الكف لو لطراق 🙄\n",
      "@Bh Elections @Anas Al Shaikh خيمه تجار شبعانين ما عليهم من الفقير\n",
      "@ha   m   ed كل جماعه علي قدر عقولها😂\n"
     ]
    }
   ],
   "source": [
    "# examples after normalization\n",
    "print(data['text'][18]) # alef example\n",
    "print(data['text'][458045]) # hamzah example\n",
    "print(data['text'][458175]) # taa marbotah example\n",
    "print(data['text'][24]) # alef layennah example"
   ]
  },
  {
   "cell_type": "markdown",
   "id": "7df664e2",
   "metadata": {
    "papermill": {
     "duration": 0.032477,
     "end_time": "2022-03-12T19:51:01.216922",
     "exception": false,
     "start_time": "2022-03-12T19:51:01.184445",
     "status": "completed"
    },
    "tags": []
   },
   "source": [
    "### Remove any non arabic alphabet character"
   ]
  },
  {
   "cell_type": "code",
   "execution_count": 10,
   "id": "023670bd",
   "metadata": {
    "execution": {
     "iopub.execute_input": "2022-03-12T19:51:01.288882Z",
     "iopub.status.busy": "2022-03-12T19:51:01.288222Z",
     "iopub.status.idle": "2022-03-12T19:51:01.292683Z",
     "shell.execute_reply": "2022-03-12T19:51:01.292020Z",
     "shell.execute_reply.started": "2022-03-12T17:32:48.784662Z"
    },
    "papermill": {
     "duration": 0.043332,
     "end_time": "2022-03-12T19:51:01.292821",
     "exception": false,
     "start_time": "2022-03-12T19:51:01.249489",
     "status": "completed"
    },
    "tags": []
   },
   "outputs": [
    {
     "data": {
      "text/plain": [
       "0     @Nw8ieJUwaCAAreT لكن بالنهايه .. ينتفض .. يغير .\n",
       "1    @7zNqXP0yrODdRjK يعني هذا محسوب علي البشر .. ح...\n",
       "2                      @KanaanRema مبين من كلامه خليجي\n",
       "3           @HAIDER76128900 يسلملي مرورك وروحك الحلوه💐\n",
       "4                   @hmo2406 وين هل الغيبه  اخ محمد 🌸🌺\n",
       "Name: text, dtype: object"
      ]
     },
     "execution_count": 10,
     "metadata": {},
     "output_type": "execute_result"
    }
   ],
   "source": [
    "# data before removing, contains english words, emojis, etc.\n",
    "data['text'].head()"
   ]
  },
  {
   "cell_type": "code",
   "execution_count": 11,
   "id": "0fe8ac36",
   "metadata": {
    "execution": {
     "iopub.execute_input": "2022-03-12T19:51:01.364288Z",
     "iopub.status.busy": "2022-03-12T19:51:01.363563Z",
     "iopub.status.idle": "2022-03-12T19:51:06.159359Z",
     "shell.execute_reply": "2022-03-12T19:51:06.158650Z",
     "shell.execute_reply.started": "2022-03-12T17:32:48.806726Z"
    },
    "papermill": {
     "duration": 4.833614,
     "end_time": "2022-03-12T19:51:06.159500",
     "exception": false,
     "start_time": "2022-03-12T19:51:01.325886",
     "status": "completed"
    },
    "tags": []
   },
   "outputs": [],
   "source": [
    "data['text'] = data['text'].apply(nh.clean_doc_arabic)"
   ]
  },
  {
   "cell_type": "code",
   "execution_count": 12,
   "id": "35ab3c23",
   "metadata": {
    "execution": {
     "iopub.execute_input": "2022-03-12T19:51:06.239252Z",
     "iopub.status.busy": "2022-03-12T19:51:06.238145Z",
     "iopub.status.idle": "2022-03-12T19:51:06.241744Z",
     "shell.execute_reply": "2022-03-12T19:51:06.242232Z",
     "shell.execute_reply.started": "2022-03-12T17:32:53.653881Z"
    },
    "papermill": {
     "duration": 0.048391,
     "end_time": "2022-03-12T19:51:06.242403",
     "exception": false,
     "start_time": "2022-03-12T19:51:06.194012",
     "status": "completed"
    },
    "tags": []
   },
   "outputs": [
    {
     "data": {
      "text/plain": [
       "0                           لكن بالنهايه  ينتفض  يغير \n",
       "1     يعني هذا محسوب علي البشر  حيونه ووحشيه  وتطلب...\n",
       "2                                  مبين من كلامه خليجي\n",
       "3                            يسلملي مرورك وروحك الحلوه\n",
       "4                              وين هل الغيبه  اخ محمد \n",
       "Name: text, dtype: object"
      ]
     },
     "execution_count": 12,
     "metadata": {},
     "output_type": "execute_result"
    }
   ],
   "source": [
    "# data after removing, contains english words, emojis, etc.\n",
    "data['text'].head()"
   ]
  },
  {
   "cell_type": "markdown",
   "id": "be641c3e",
   "metadata": {
    "papermill": {
     "duration": 0.034298,
     "end_time": "2022-03-12T19:51:06.310578",
     "exception": false,
     "start_time": "2022-03-12T19:51:06.276280",
     "status": "completed"
    },
    "tags": []
   },
   "source": [
    "### Remove repaeated letters"
   ]
  },
  {
   "cell_type": "code",
   "execution_count": 13,
   "id": "f4a438e6",
   "metadata": {
    "execution": {
     "iopub.execute_input": "2022-03-12T19:51:06.382871Z",
     "iopub.status.busy": "2022-03-12T19:51:06.382153Z",
     "iopub.status.idle": "2022-03-12T19:51:06.384813Z",
     "shell.execute_reply": "2022-03-12T19:51:06.385301Z",
     "shell.execute_reply.started": "2022-03-12T17:32:53.663113Z"
    },
    "papermill": {
     "duration": 0.041603,
     "end_time": "2022-03-12T19:51:06.385471",
     "exception": false,
     "start_time": "2022-03-12T19:51:06.343868",
     "status": "completed"
    },
    "tags": []
   },
   "outputs": [
    {
     "data": {
      "text/plain": [
       "'ااااااءءءءءء\\n\\nتاخروا شكلهم عندهم قرقاعون بمنطقه ثانيه\\n '"
      ]
     },
     "execution_count": 13,
     "metadata": {},
     "output_type": "execute_result"
    }
   ],
   "source": [
    "# example before removing\n",
    "data['text'][443704]"
   ]
  },
  {
   "cell_type": "code",
   "execution_count": 14,
   "id": "a8b3a5c6",
   "metadata": {
    "execution": {
     "iopub.execute_input": "2022-03-12T19:51:06.455975Z",
     "iopub.status.busy": "2022-03-12T19:51:06.455332Z",
     "iopub.status.idle": "2022-03-12T19:51:45.721883Z",
     "shell.execute_reply": "2022-03-12T19:51:45.721158Z",
     "shell.execute_reply.started": "2022-03-12T17:32:53.675133Z"
    },
    "papermill": {
     "duration": 39.303024,
     "end_time": "2022-03-12T19:51:45.722028",
     "exception": false,
     "start_time": "2022-03-12T19:51:06.419004",
     "status": "completed"
    },
    "tags": []
   },
   "outputs": [],
   "source": [
    "# remove any letter repeated 3 or more times\n",
    "n = 3\n",
    "data['text'] = data['text'].apply(nh.remove_repeated, args=(n,))"
   ]
  },
  {
   "cell_type": "code",
   "execution_count": 15,
   "id": "e35aa4fb",
   "metadata": {
    "execution": {
     "iopub.execute_input": "2022-03-12T19:51:45.797544Z",
     "iopub.status.busy": "2022-03-12T19:51:45.796671Z",
     "iopub.status.idle": "2022-03-12T19:51:45.799844Z",
     "shell.execute_reply": "2022-03-12T19:51:45.800332Z",
     "shell.execute_reply.started": "2022-03-12T17:33:32.784583Z"
    },
    "papermill": {
     "duration": 0.044491,
     "end_time": "2022-03-12T19:51:45.800494",
     "exception": false,
     "start_time": "2022-03-12T19:51:45.756003",
     "status": "completed"
    },
    "tags": []
   },
   "outputs": [
    {
     "data": {
      "text/plain": [
       "'اء\\n\\nتاخروا شكلهم عندهم قرقاعون بمنطقه ثانيه\\n '"
      ]
     },
     "execution_count": 15,
     "metadata": {},
     "output_type": "execute_result"
    }
   ],
   "source": [
    "# example after removing\n",
    "data['text'][443704]"
   ]
  },
  {
   "cell_type": "markdown",
   "id": "4d69ae77",
   "metadata": {
    "papermill": {
     "duration": 0.033896,
     "end_time": "2022-03-12T19:51:45.868624",
     "exception": false,
     "start_time": "2022-03-12T19:51:45.834728",
     "status": "completed"
    },
    "tags": []
   },
   "source": [
    "### Tokenization"
   ]
  },
  {
   "cell_type": "code",
   "execution_count": 16,
   "id": "287b7c7d",
   "metadata": {
    "execution": {
     "iopub.execute_input": "2022-03-12T19:51:45.940893Z",
     "iopub.status.busy": "2022-03-12T19:51:45.939856Z",
     "iopub.status.idle": "2022-03-12T19:51:48.077852Z",
     "shell.execute_reply": "2022-03-12T19:51:48.077202Z",
     "shell.execute_reply.started": "2022-03-12T17:33:32.791639Z"
    },
    "papermill": {
     "duration": 2.175313,
     "end_time": "2022-03-12T19:51:48.078014",
     "exception": false,
     "start_time": "2022-03-12T19:51:45.902701",
     "status": "completed"
    },
    "tags": []
   },
   "outputs": [],
   "source": [
    "data['text'] = data['text'].apply(nh.tokenize)"
   ]
  },
  {
   "cell_type": "code",
   "execution_count": 17,
   "id": "5c7a0b45",
   "metadata": {
    "execution": {
     "iopub.execute_input": "2022-03-12T19:51:48.150474Z",
     "iopub.status.busy": "2022-03-12T19:51:48.149503Z",
     "iopub.status.idle": "2022-03-12T19:51:48.156282Z",
     "shell.execute_reply": "2022-03-12T19:51:48.156791Z",
     "shell.execute_reply.started": "2022-03-12T17:33:35.495412Z"
    },
    "papermill": {
     "duration": 0.044455,
     "end_time": "2022-03-12T19:51:48.156958",
     "exception": false,
     "start_time": "2022-03-12T19:51:48.112503",
     "status": "completed"
    },
    "tags": []
   },
   "outputs": [
    {
     "data": {
      "text/plain": [
       "0                         [لكن, بالنهايه, ينتفض, يغير]\n",
       "1    [يعني, هذا, محسوب, علي, البشر, حيونه, ووحشيه, ...\n",
       "2                             [مبين, من, كلامه, خليجي]\n",
       "3                       [يسلملي, مرورك, وروحك, الحلوه]\n",
       "4                          [وين, هل, الغيبه, اخ, محمد]\n",
       "Name: text, dtype: object"
      ]
     },
     "execution_count": 17,
     "metadata": {},
     "output_type": "execute_result"
    }
   ],
   "source": [
    "data['text'].head()"
   ]
  },
  {
   "cell_type": "markdown",
   "id": "8b0bee34",
   "metadata": {
    "papermill": {
     "duration": 0.034331,
     "end_time": "2022-03-12T19:51:48.226607",
     "exception": false,
     "start_time": "2022-03-12T19:51:48.192276",
     "status": "completed"
    },
    "tags": []
   },
   "source": [
    "### Remove stop words"
   ]
  },
  {
   "cell_type": "code",
   "execution_count": 18,
   "id": "74e6effc",
   "metadata": {
    "execution": {
     "iopub.execute_input": "2022-03-12T19:51:48.299416Z",
     "iopub.status.busy": "2022-03-12T19:51:48.298601Z",
     "iopub.status.idle": "2022-03-12T19:51:48.988397Z",
     "shell.execute_reply": "2022-03-12T19:51:48.988904Z",
     "shell.execute_reply.started": "2022-03-12T17:33:35.506091Z"
    },
    "papermill": {
     "duration": 0.727773,
     "end_time": "2022-03-12T19:51:48.989110",
     "exception": false,
     "start_time": "2022-03-12T19:51:48.261337",
     "status": "completed"
    },
    "tags": []
   },
   "outputs": [
    {
     "name": "stdout",
     "output_type": "stream",
     "text": [
      "[nltk_data] Downloading package stopwords to /usr/share/nltk_data...\n",
      "[nltk_data]   Package stopwords is already up-to-date!\n"
     ]
    },
    {
     "data": {
      "text/plain": [
       "True"
      ]
     },
     "execution_count": 18,
     "metadata": {},
     "output_type": "execute_result"
    }
   ],
   "source": [
    "nltk.download('stopwords')"
   ]
  },
  {
   "cell_type": "code",
   "execution_count": 19,
   "id": "66c0325f",
   "metadata": {
    "execution": {
     "iopub.execute_input": "2022-03-12T19:51:49.066152Z",
     "iopub.status.busy": "2022-03-12T19:51:49.065426Z",
     "iopub.status.idle": "2022-03-12T19:51:49.078814Z",
     "shell.execute_reply": "2022-03-12T19:51:49.079278Z",
     "shell.execute_reply.started": "2022-03-12T17:33:35.797043Z"
    },
    "papermill": {
     "duration": 0.054759,
     "end_time": "2022-03-12T19:51:49.079456",
     "exception": false,
     "start_time": "2022-03-12T19:51:49.024697",
     "status": "completed"
    },
    "tags": []
   },
   "outputs": [
    {
     "data": {
      "text/plain": [
       "['إذ', 'إذا', 'إذما', 'إذن', 'أف', 'أقل', 'أكثر', 'ألا', 'إلا', 'التي']"
      ]
     },
     "execution_count": 19,
     "metadata": {},
     "output_type": "execute_result"
    }
   ],
   "source": [
    "arabic_stopwords = stopwords.words('arabic')\n",
    "arabic_stopwords[:10]"
   ]
  },
  {
   "cell_type": "code",
   "execution_count": 20,
   "id": "45605056",
   "metadata": {
    "execution": {
     "iopub.execute_input": "2022-03-12T19:51:49.154942Z",
     "iopub.status.busy": "2022-03-12T19:51:49.154260Z",
     "iopub.status.idle": "2022-03-12T19:51:49.167436Z",
     "shell.execute_reply": "2022-03-12T19:51:49.167945Z",
     "shell.execute_reply.started": "2022-03-12T17:33:35.831674Z"
    },
    "papermill": {
     "duration": 0.052668,
     "end_time": "2022-03-12T19:51:49.168152",
     "exception": false,
     "start_time": "2022-03-12T19:51:49.115484",
     "status": "completed"
    },
    "tags": []
   },
   "outputs": [
    {
     "name": "stdout",
     "output_type": "stream",
     "text": [
      "Stop words length before processing: 754\n",
      "Stop words length after processing: 622\n"
     ]
    }
   ],
   "source": [
    "# before removing stop words we need to remove tashkeel and normalize them\n",
    "# I converted the result to \"set\" to remove duplicates after normalization\n",
    "# also sets are faster than lists in \"checking membership\"\n",
    "print('Stop words length before processing:', len(arabic_stopwords))\n",
    "arabic_stopwords = set(map(nh.remove_tashkeel, arabic_stopwords))\n",
    "arabic_stopwords = set(map(nh.normalize_text, arabic_stopwords))\n",
    "print('Stop words length after processing:', len(arabic_stopwords))"
   ]
  },
  {
   "cell_type": "code",
   "execution_count": 21,
   "id": "674f4160",
   "metadata": {
    "execution": {
     "iopub.execute_input": "2022-03-12T19:51:49.247708Z",
     "iopub.status.busy": "2022-03-12T19:51:49.246949Z",
     "iopub.status.idle": "2022-03-12T19:51:49.249594Z",
     "shell.execute_reply": "2022-03-12T19:51:49.250127Z",
     "shell.execute_reply.started": "2022-03-12T17:33:35.850659Z"
    },
    "papermill": {
     "duration": 0.044983,
     "end_time": "2022-03-12T19:51:49.250294",
     "exception": false,
     "start_time": "2022-03-12T19:51:49.205311",
     "status": "completed"
    },
    "tags": []
   },
   "outputs": [
    {
     "data": {
      "text/plain": [
       "['لكن', 'بالنهايه', 'ينتفض', 'يغير']"
      ]
     },
     "execution_count": 21,
     "metadata": {},
     "output_type": "execute_result"
    }
   ],
   "source": [
    "# example before removing stopwords\n",
    "data['text'][0]"
   ]
  },
  {
   "cell_type": "code",
   "execution_count": 22,
   "id": "bafd131e",
   "metadata": {
    "execution": {
     "iopub.execute_input": "2022-03-12T19:51:49.328408Z",
     "iopub.status.busy": "2022-03-12T19:51:49.327758Z",
     "iopub.status.idle": "2022-03-12T19:51:52.322978Z",
     "shell.execute_reply": "2022-03-12T19:51:52.322381Z",
     "shell.execute_reply.started": "2022-03-12T17:33:35.864289Z"
    },
    "papermill": {
     "duration": 3.035035,
     "end_time": "2022-03-12T19:51:52.323124",
     "exception": false,
     "start_time": "2022-03-12T19:51:49.288089",
     "status": "completed"
    },
    "tags": []
   },
   "outputs": [],
   "source": [
    "data['text'] = data['text'].apply(nh.remove_stopwords, args=(arabic_stopwords,))"
   ]
  },
  {
   "cell_type": "code",
   "execution_count": 23,
   "id": "5528fa42",
   "metadata": {
    "execution": {
     "iopub.execute_input": "2022-03-12T19:51:52.401944Z",
     "iopub.status.busy": "2022-03-12T19:51:52.400986Z",
     "iopub.status.idle": "2022-03-12T19:51:52.405205Z",
     "shell.execute_reply": "2022-03-12T19:51:52.404644Z",
     "shell.execute_reply.started": "2022-03-12T17:33:38.664284Z"
    },
    "papermill": {
     "duration": 0.045708,
     "end_time": "2022-03-12T19:51:52.405337",
     "exception": false,
     "start_time": "2022-03-12T19:51:52.359629",
     "status": "completed"
    },
    "tags": []
   },
   "outputs": [
    {
     "data": {
      "text/plain": [
       "['بالنهايه', 'ينتفض', 'يغير']"
      ]
     },
     "execution_count": 23,
     "metadata": {},
     "output_type": "execute_result"
    }
   ],
   "source": [
    "# example after removing stopwords\n",
    "data['text'][0]"
   ]
  },
  {
   "cell_type": "markdown",
   "id": "9ad3fe5b",
   "metadata": {
    "papermill": {
     "duration": 0.036757,
     "end_time": "2022-03-12T19:51:52.480040",
     "exception": false,
     "start_time": "2022-03-12T19:51:52.443283",
     "status": "completed"
    },
    "tags": []
   },
   "source": [
    "### Save as pickle file\n",
    "it is better as `text` column contains python lists."
   ]
  },
  {
   "cell_type": "code",
   "execution_count": 24,
   "id": "f1c42712",
   "metadata": {
    "execution": {
     "iopub.execute_input": "2022-03-12T19:51:52.556621Z",
     "iopub.status.busy": "2022-03-12T19:51:52.556007Z",
     "iopub.status.idle": "2022-03-12T19:51:55.397903Z",
     "shell.execute_reply": "2022-03-12T19:51:55.398388Z",
     "shell.execute_reply.started": "2022-03-12T17:33:38.672255Z"
    },
    "papermill": {
     "duration": 2.881627,
     "end_time": "2022-03-12T19:51:55.398580",
     "exception": false,
     "start_time": "2022-03-12T19:51:52.516953",
     "status": "completed"
    },
    "tags": []
   },
   "outputs": [],
   "source": [
    "\n",
    "nh.save_pickle_file(data, 'preprocessed_data_no_stem.obj')"
   ]
  }
 ],
 "metadata": {
  "kernelspec": {
   "display_name": "Python 3",
   "language": "python",
   "name": "python3"
  },
  "language_info": {
   "codemirror_mode": {
    "name": "ipython",
    "version": 3
   },
   "file_extension": ".py",
   "mimetype": "text/x-python",
   "name": "python",
   "nbconvert_exporter": "python",
   "pygments_lexer": "ipython3",
   "version": "3.7.12"
  },
  "papermill": {
   "default_parameters": {},
   "duration": 78.654326,
   "end_time": "2022-03-12T19:51:56.748506",
   "environment_variables": {},
   "exception": null,
   "input_path": "__notebook__.ipynb",
   "output_path": "__notebook__.ipynb",
   "parameters": {},
   "start_time": "2022-03-12T19:50:38.094180",
   "version": "2.3.3"
  }
 },
 "nbformat": 4,
 "nbformat_minor": 5
}
