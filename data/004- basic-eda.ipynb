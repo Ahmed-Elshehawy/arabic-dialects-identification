{
 "cells": [
  {
   "cell_type": "markdown",
   "id": "069ba7e2",
   "metadata": {
    "_cell_guid": "b1076dfc-b9ad-4769-8c92-a6c4dae69d19",
    "_uuid": "8f2839f25d086af736a60e9eeb907d3b93b6e0e5",
    "papermill": {
     "duration": 0.024887,
     "end_time": "2022-03-13T17:39:17.968023",
     "exception": false,
     "start_time": "2022-03-13T17:39:17.943136",
     "status": "completed"
    },
    "tags": []
   },
   "source": [
    "### EDA"
   ]
  },
  {
   "cell_type": "markdown",
   "id": "c6867e0d",
   "metadata": {
    "papermill": {
     "duration": 0.023422,
     "end_time": "2022-03-13T17:39:18.016626",
     "exception": false,
     "start_time": "2022-03-13T17:39:17.993204",
     "status": "completed"
    },
    "tags": []
   },
   "source": [
    "#### All EDA will be performed on the dataset with no stemming\n",
    "Because we need to determine the average number of words in one tweet based on word length.  \n",
    "Otherwise, they are the same"
   ]
  },
  {
   "cell_type": "code",
   "execution_count": 1,
   "id": "a7da43b1",
   "metadata": {
    "execution": {
     "iopub.execute_input": "2022-03-13T17:39:18.075066Z",
     "iopub.status.busy": "2022-03-13T17:39:18.073273Z",
     "iopub.status.idle": "2022-03-13T17:39:21.184245Z",
     "shell.execute_reply": "2022-03-13T17:39:21.183157Z",
     "shell.execute_reply.started": "2022-03-12T02:18:26.570971Z"
    },
    "papermill": {
     "duration": 3.143484,
     "end_time": "2022-03-13T17:39:21.184440",
     "exception": false,
     "start_time": "2022-03-13T17:39:18.040956",
     "status": "completed"
    },
    "tags": []
   },
   "outputs": [],
   "source": [
    "import pandas as pd\n",
    "import numpy as np\n",
    "import pickle\n",
    "import matplotlib.pyplot as plt\n",
    "import seaborn as sns\n",
    "import nlp_helpers as nh"
   ]
  },
  {
   "cell_type": "markdown",
   "id": "d3ea5b3a",
   "metadata": {
    "papermill": {
     "duration": 0.023528,
     "end_time": "2022-03-13T17:39:21.231941",
     "exception": false,
     "start_time": "2022-03-13T17:39:21.208413",
     "status": "completed"
    },
    "tags": []
   },
   "source": [
    "### Load data"
   ]
  },
  {
   "cell_type": "code",
   "execution_count": 2,
   "id": "6a8d6b94",
   "metadata": {
    "execution": {
     "iopub.execute_input": "2022-03-13T17:39:21.283251Z",
     "iopub.status.busy": "2022-03-13T17:39:21.282492Z",
     "iopub.status.idle": "2022-03-13T17:39:21.285950Z",
     "shell.execute_reply": "2022-03-13T17:39:21.286454Z",
     "shell.execute_reply.started": "2022-03-12T02:18:26.899625Z"
    },
    "papermill": {
     "duration": 0.031022,
     "end_time": "2022-03-13T17:39:21.286624",
     "exception": false,
     "start_time": "2022-03-13T17:39:21.255602",
     "status": "completed"
    },
    "tags": []
   },
   "outputs": [],
   "source": [
    "data_no_stem_path = '../input/dialect-processed-data/preprocessed_data_no_stem.obj'"
   ]
  },
  {
   "cell_type": "code",
   "execution_count": 3,
   "id": "1ea4eb07",
   "metadata": {
    "execution": {
     "iopub.execute_input": "2022-03-13T17:39:21.337390Z",
     "iopub.status.busy": "2022-03-13T17:39:21.336625Z",
     "iopub.status.idle": "2022-03-13T17:39:25.683086Z",
     "shell.execute_reply": "2022-03-13T17:39:25.681913Z",
     "shell.execute_reply.started": "2022-03-12T02:18:27.043415Z"
    },
    "papermill": {
     "duration": 4.372892,
     "end_time": "2022-03-13T17:39:25.683241",
     "exception": false,
     "start_time": "2022-03-13T17:39:21.310349",
     "status": "completed"
    },
    "tags": []
   },
   "outputs": [],
   "source": [
    "with open(data_no_stem_path, 'rb') as f:\n",
    "    data = pickle.load(f)"
   ]
  },
  {
   "cell_type": "code",
   "execution_count": 4,
   "id": "d7bca00f",
   "metadata": {
    "execution": {
     "iopub.execute_input": "2022-03-13T17:39:25.741219Z",
     "iopub.status.busy": "2022-03-13T17:39:25.740276Z",
     "iopub.status.idle": "2022-03-13T17:39:25.757970Z",
     "shell.execute_reply": "2022-03-13T17:39:25.758463Z",
     "shell.execute_reply.started": "2022-03-12T02:18:30.631494Z"
    },
    "papermill": {
     "duration": 0.051384,
     "end_time": "2022-03-13T17:39:25.758636",
     "exception": false,
     "start_time": "2022-03-13T17:39:25.707252",
     "status": "completed"
    },
    "tags": []
   },
   "outputs": [
    {
     "data": {
      "text/html": [
       "<div>\n",
       "<style scoped>\n",
       "    .dataframe tbody tr th:only-of-type {\n",
       "        vertical-align: middle;\n",
       "    }\n",
       "\n",
       "    .dataframe tbody tr th {\n",
       "        vertical-align: top;\n",
       "    }\n",
       "\n",
       "    .dataframe thead th {\n",
       "        text-align: right;\n",
       "    }\n",
       "</style>\n",
       "<table border=\"1\" class=\"dataframe\">\n",
       "  <thead>\n",
       "    <tr style=\"text-align: right;\">\n",
       "      <th></th>\n",
       "      <th>id</th>\n",
       "      <th>text</th>\n",
       "      <th>dialect</th>\n",
       "    </tr>\n",
       "  </thead>\n",
       "  <tbody>\n",
       "    <tr>\n",
       "      <th>0</th>\n",
       "      <td>1175358310087892992</td>\n",
       "      <td>[بالنهايه, ينتفض, يغير]</td>\n",
       "      <td>IQ</td>\n",
       "    </tr>\n",
       "    <tr>\n",
       "      <th>1</th>\n",
       "      <td>1175416117793349632</td>\n",
       "      <td>[يعني, محسوب, البشر, حيونه, ووحشيه, وتطلبون, ا...</td>\n",
       "      <td>IQ</td>\n",
       "    </tr>\n",
       "    <tr>\n",
       "      <th>2</th>\n",
       "      <td>1175450108898565888</td>\n",
       "      <td>[مبين, كلامه, خليجي]</td>\n",
       "      <td>IQ</td>\n",
       "    </tr>\n",
       "    <tr>\n",
       "      <th>3</th>\n",
       "      <td>1175471073770573824</td>\n",
       "      <td>[يسلملي, مرورك, وروحك, الحلوه]</td>\n",
       "      <td>IQ</td>\n",
       "    </tr>\n",
       "    <tr>\n",
       "      <th>4</th>\n",
       "      <td>1175496913145217024</td>\n",
       "      <td>[وين, الغيبه, محمد]</td>\n",
       "      <td>IQ</td>\n",
       "    </tr>\n",
       "  </tbody>\n",
       "</table>\n",
       "</div>"
      ],
      "text/plain": [
       "                    id                                               text  \\\n",
       "0  1175358310087892992                            [بالنهايه, ينتفض, يغير]   \n",
       "1  1175416117793349632  [يعني, محسوب, البشر, حيونه, ووحشيه, وتطلبون, ا...   \n",
       "2  1175450108898565888                               [مبين, كلامه, خليجي]   \n",
       "3  1175471073770573824                     [يسلملي, مرورك, وروحك, الحلوه]   \n",
       "4  1175496913145217024                                [وين, الغيبه, محمد]   \n",
       "\n",
       "  dialect  \n",
       "0      IQ  \n",
       "1      IQ  \n",
       "2      IQ  \n",
       "3      IQ  \n",
       "4      IQ  "
      ]
     },
     "execution_count": 4,
     "metadata": {},
     "output_type": "execute_result"
    }
   ],
   "source": [
    "data.head()"
   ]
  },
  {
   "cell_type": "code",
   "execution_count": 5,
   "id": "88d8451b",
   "metadata": {
    "execution": {
     "iopub.execute_input": "2022-03-13T17:39:25.812918Z",
     "iopub.status.busy": "2022-03-13T17:39:25.812277Z",
     "iopub.status.idle": "2022-03-13T17:39:25.818593Z",
     "shell.execute_reply": "2022-03-13T17:39:25.819250Z",
     "shell.execute_reply.started": "2022-03-12T02:18:30.658151Z"
    },
    "papermill": {
     "duration": 0.034354,
     "end_time": "2022-03-13T17:39:25.819418",
     "exception": false,
     "start_time": "2022-03-13T17:39:25.785064",
     "status": "completed"
    },
    "tags": []
   },
   "outputs": [
    {
     "name": "stdout",
     "output_type": "stream",
     "text": [
      "Number of observations (tweets) in this dataset\n"
     ]
    },
    {
     "data": {
      "text/plain": [
       "458197"
      ]
     },
     "execution_count": 5,
     "metadata": {},
     "output_type": "execute_result"
    }
   ],
   "source": [
    "print('Number of observations (tweets) in this dataset')\n",
    "len(data)"
   ]
  },
  {
   "cell_type": "markdown",
   "id": "79523bbb",
   "metadata": {
    "papermill": {
     "duration": 0.024861,
     "end_time": "2022-03-13T17:39:25.869450",
     "exception": false,
     "start_time": "2022-03-13T17:39:25.844589",
     "status": "completed"
    },
    "tags": []
   },
   "source": [
    "### Add `tweet_length` column"
   ]
  },
  {
   "cell_type": "code",
   "execution_count": 6,
   "id": "8617ea40",
   "metadata": {
    "execution": {
     "iopub.execute_input": "2022-03-13T17:39:25.934804Z",
     "iopub.status.busy": "2022-03-13T17:39:25.934132Z",
     "iopub.status.idle": "2022-03-13T17:39:26.204134Z",
     "shell.execute_reply": "2022-03-13T17:39:26.203585Z",
     "shell.execute_reply.started": "2022-03-12T02:18:30.667054Z"
    },
    "papermill": {
     "duration": 0.309658,
     "end_time": "2022-03-13T17:39:26.204283",
     "exception": false,
     "start_time": "2022-03-13T17:39:25.894625",
     "status": "completed"
    },
    "tags": []
   },
   "outputs": [],
   "source": [
    "data['tweet_length'] = [len(tweet) for tweet in data['text']]"
   ]
  },
  {
   "cell_type": "code",
   "execution_count": 7,
   "id": "7eb94c08",
   "metadata": {
    "execution": {
     "iopub.execute_input": "2022-03-13T17:39:26.269701Z",
     "iopub.status.busy": "2022-03-13T17:39:26.269078Z",
     "iopub.status.idle": "2022-03-13T17:39:26.273999Z",
     "shell.execute_reply": "2022-03-13T17:39:26.273355Z",
     "shell.execute_reply.started": "2022-03-12T02:18:30.957591Z"
    },
    "papermill": {
     "duration": 0.042348,
     "end_time": "2022-03-13T17:39:26.274154",
     "exception": false,
     "start_time": "2022-03-13T17:39:26.231806",
     "status": "completed"
    },
    "tags": []
   },
   "outputs": [
    {
     "data": {
      "text/html": [
       "<div>\n",
       "<style scoped>\n",
       "    .dataframe tbody tr th:only-of-type {\n",
       "        vertical-align: middle;\n",
       "    }\n",
       "\n",
       "    .dataframe tbody tr th {\n",
       "        vertical-align: top;\n",
       "    }\n",
       "\n",
       "    .dataframe thead th {\n",
       "        text-align: right;\n",
       "    }\n",
       "</style>\n",
       "<table border=\"1\" class=\"dataframe\">\n",
       "  <thead>\n",
       "    <tr style=\"text-align: right;\">\n",
       "      <th></th>\n",
       "      <th>id</th>\n",
       "      <th>text</th>\n",
       "      <th>dialect</th>\n",
       "      <th>tweet_length</th>\n",
       "    </tr>\n",
       "  </thead>\n",
       "  <tbody>\n",
       "    <tr>\n",
       "      <th>0</th>\n",
       "      <td>1175358310087892992</td>\n",
       "      <td>[بالنهايه, ينتفض, يغير]</td>\n",
       "      <td>IQ</td>\n",
       "      <td>3</td>\n",
       "    </tr>\n",
       "    <tr>\n",
       "      <th>1</th>\n",
       "      <td>1175416117793349632</td>\n",
       "      <td>[يعني, محسوب, البشر, حيونه, ووحشيه, وتطلبون, ا...</td>\n",
       "      <td>IQ</td>\n",
       "      <td>12</td>\n",
       "    </tr>\n",
       "    <tr>\n",
       "      <th>2</th>\n",
       "      <td>1175450108898565888</td>\n",
       "      <td>[مبين, كلامه, خليجي]</td>\n",
       "      <td>IQ</td>\n",
       "      <td>3</td>\n",
       "    </tr>\n",
       "    <tr>\n",
       "      <th>3</th>\n",
       "      <td>1175471073770573824</td>\n",
       "      <td>[يسلملي, مرورك, وروحك, الحلوه]</td>\n",
       "      <td>IQ</td>\n",
       "      <td>4</td>\n",
       "    </tr>\n",
       "    <tr>\n",
       "      <th>4</th>\n",
       "      <td>1175496913145217024</td>\n",
       "      <td>[وين, الغيبه, محمد]</td>\n",
       "      <td>IQ</td>\n",
       "      <td>3</td>\n",
       "    </tr>\n",
       "  </tbody>\n",
       "</table>\n",
       "</div>"
      ],
      "text/plain": [
       "                    id                                               text  \\\n",
       "0  1175358310087892992                            [بالنهايه, ينتفض, يغير]   \n",
       "1  1175416117793349632  [يعني, محسوب, البشر, حيونه, ووحشيه, وتطلبون, ا...   \n",
       "2  1175450108898565888                               [مبين, كلامه, خليجي]   \n",
       "3  1175471073770573824                     [يسلملي, مرورك, وروحك, الحلوه]   \n",
       "4  1175496913145217024                                [وين, الغيبه, محمد]   \n",
       "\n",
       "  dialect  tweet_length  \n",
       "0      IQ             3  \n",
       "1      IQ            12  \n",
       "2      IQ             3  \n",
       "3      IQ             4  \n",
       "4      IQ             3  "
      ]
     },
     "execution_count": 7,
     "metadata": {},
     "output_type": "execute_result"
    }
   ],
   "source": [
    "data.head()"
   ]
  },
  {
   "cell_type": "markdown",
   "id": "0f3f16d0",
   "metadata": {
    "papermill": {
     "duration": 0.02522,
     "end_time": "2022-03-13T17:39:26.325644",
     "exception": false,
     "start_time": "2022-03-13T17:39:26.300424",
     "status": "completed"
    },
    "tags": []
   },
   "source": [
    "### Remove zero-length tweets"
   ]
  },
  {
   "cell_type": "code",
   "execution_count": 8,
   "id": "db49360c",
   "metadata": {
    "execution": {
     "iopub.execute_input": "2022-03-13T17:39:26.381176Z",
     "iopub.status.busy": "2022-03-13T17:39:26.380209Z",
     "iopub.status.idle": "2022-03-13T17:39:26.415760Z",
     "shell.execute_reply": "2022-03-13T17:39:26.416382Z",
     "shell.execute_reply.started": "2022-03-12T02:18:35.879251Z"
    },
    "papermill": {
     "duration": 0.064813,
     "end_time": "2022-03-13T17:39:26.416564",
     "exception": false,
     "start_time": "2022-03-13T17:39:26.351751",
     "status": "completed"
    },
    "tags": []
   },
   "outputs": [],
   "source": [
    "data = data[data['tweet_length'] > 0]"
   ]
  },
  {
   "cell_type": "code",
   "execution_count": 9,
   "id": "634b8d3f",
   "metadata": {
    "execution": {
     "iopub.execute_input": "2022-03-13T17:39:26.475590Z",
     "iopub.status.busy": "2022-03-13T17:39:26.474942Z",
     "iopub.status.idle": "2022-03-13T17:39:26.479423Z",
     "shell.execute_reply": "2022-03-13T17:39:26.478901Z",
     "shell.execute_reply.started": "2022-03-12T02:18:36.056911Z"
    },
    "papermill": {
     "duration": 0.036903,
     "end_time": "2022-03-13T17:39:26.479558",
     "exception": false,
     "start_time": "2022-03-13T17:39:26.442655",
     "status": "completed"
    },
    "tags": []
   },
   "outputs": [
    {
     "name": "stdout",
     "output_type": "stream",
     "text": [
      "Number of observations (tweets) in this dataset, after removing zero-length tweets:\n"
     ]
    },
    {
     "data": {
      "text/plain": [
       "457929"
      ]
     },
     "execution_count": 9,
     "metadata": {},
     "output_type": "execute_result"
    }
   ],
   "source": [
    "print('Number of observations (tweets) in this dataset, after removing zero-length tweets:')\n",
    "len(data)"
   ]
  },
  {
   "cell_type": "markdown",
   "id": "f71a44b9",
   "metadata": {
    "papermill": {
     "duration": 0.026169,
     "end_time": "2022-03-13T17:39:26.532329",
     "exception": false,
     "start_time": "2022-03-13T17:39:26.506160",
     "status": "completed"
    },
    "tags": []
   },
   "source": [
    "### Average word length"
   ]
  },
  {
   "cell_type": "code",
   "execution_count": 10,
   "id": "52b5ccd0",
   "metadata": {
    "execution": {
     "iopub.execute_input": "2022-03-13T17:39:26.589381Z",
     "iopub.status.busy": "2022-03-13T17:39:26.588712Z",
     "iopub.status.idle": "2022-03-13T17:39:28.359511Z",
     "shell.execute_reply": "2022-03-13T17:39:28.360027Z",
     "shell.execute_reply.started": "2022-03-12T02:20:28.427219Z"
    },
    "papermill": {
     "duration": 1.800789,
     "end_time": "2022-03-13T17:39:28.360199",
     "exception": false,
     "start_time": "2022-03-13T17:39:26.559410",
     "status": "completed"
    },
    "tags": []
   },
   "outputs": [],
   "source": [
    "words = nh.get_corpus_words(data['text'])"
   ]
  },
  {
   "cell_type": "code",
   "execution_count": 11,
   "id": "5f512194",
   "metadata": {
    "execution": {
     "iopub.execute_input": "2022-03-13T17:39:28.416698Z",
     "iopub.status.busy": "2022-03-13T17:39:28.416097Z",
     "iopub.status.idle": "2022-03-13T17:39:28.420631Z",
     "shell.execute_reply": "2022-03-13T17:39:28.421269Z",
     "shell.execute_reply.started": "2022-03-12T02:20:33.302365Z"
    },
    "papermill": {
     "duration": 0.034908,
     "end_time": "2022-03-13T17:39:28.421435",
     "exception": false,
     "start_time": "2022-03-13T17:39:28.386527",
     "status": "completed"
    },
    "tags": []
   },
   "outputs": [
    {
     "data": {
      "text/plain": [
       "['بالنهايه',\n",
       " 'ينتفض',\n",
       " 'يغير',\n",
       " 'يعني',\n",
       " 'محسوب',\n",
       " 'البشر',\n",
       " 'حيونه',\n",
       " 'ووحشيه',\n",
       " 'وتطلبون',\n",
       " 'الغرب']"
      ]
     },
     "execution_count": 11,
     "metadata": {},
     "output_type": "execute_result"
    }
   ],
   "source": [
    "words[:10]"
   ]
  },
  {
   "cell_type": "code",
   "execution_count": 12,
   "id": "0f3f6cec",
   "metadata": {
    "execution": {
     "iopub.execute_input": "2022-03-13T17:39:28.478050Z",
     "iopub.status.busy": "2022-03-13T17:39:28.477427Z",
     "iopub.status.idle": "2022-03-13T17:39:29.436958Z",
     "shell.execute_reply": "2022-03-13T17:39:29.436310Z",
     "shell.execute_reply.started": "2022-03-12T02:21:45.934147Z"
    },
    "papermill": {
     "duration": 0.98893,
     "end_time": "2022-03-13T17:39:29.437099",
     "exception": false,
     "start_time": "2022-03-13T17:39:28.448169",
     "status": "completed"
    },
    "tags": []
   },
   "outputs": [
    {
     "name": "stdout",
     "output_type": "stream",
     "text": [
      "The average length of the words: 4.764096911276797\n"
     ]
    }
   ],
   "source": [
    "word_len_avg = np.mean([len(word) for word in words])\n",
    "print('The average length of the words:', word_len_avg)"
   ]
  },
  {
   "cell_type": "markdown",
   "id": "b4496b20",
   "metadata": {
    "papermill": {
     "duration": 0.02695,
     "end_time": "2022-03-13T17:39:29.491375",
     "exception": false,
     "start_time": "2022-03-13T17:39:29.464425",
     "status": "completed"
    },
    "tags": []
   },
   "source": [
    "### What is the maximum number of words a tweet can contain?\n",
    "The maximum number of characters in a single tweet is 280,  \n",
    "Therefore, based on our average word length, we can estimate the maximum number of words a regular user can type."
   ]
  },
  {
   "cell_type": "code",
   "execution_count": 13,
   "id": "8e6c664c",
   "metadata": {
    "execution": {
     "iopub.execute_input": "2022-03-13T17:39:29.551591Z",
     "iopub.status.busy": "2022-03-13T17:39:29.550958Z",
     "iopub.status.idle": "2022-03-13T17:39:29.554098Z",
     "shell.execute_reply": "2022-03-13T17:39:29.554534Z",
     "shell.execute_reply.started": "2022-03-12T02:26:59.074167Z"
    },
    "papermill": {
     "duration": 0.035526,
     "end_time": "2022-03-13T17:39:29.554698",
     "exception": false,
     "start_time": "2022-03-13T17:39:29.519172",
     "status": "completed"
    },
    "tags": []
   },
   "outputs": [
    {
     "name": "stdout",
     "output_type": "stream",
     "text": [
      "Maximum number of words of average length: 56.0\n"
     ]
    }
   ],
   "source": [
    "# average length is 4.76 characters, and there is no 0.76 character\n",
    "print('Maximum number of words of average length:', 280/5) "
   ]
  },
  {
   "cell_type": "markdown",
   "id": "1df27b6a",
   "metadata": {
    "papermill": {
     "duration": 0.027247,
     "end_time": "2022-03-13T17:39:29.609618",
     "exception": false,
     "start_time": "2022-03-13T17:39:29.582371",
     "status": "completed"
    },
    "tags": []
   },
   "source": [
    "### Tweet length distriution"
   ]
  },
  {
   "cell_type": "code",
   "execution_count": 14,
   "id": "f3426b53",
   "metadata": {
    "execution": {
     "iopub.execute_input": "2022-03-13T17:39:29.670049Z",
     "iopub.status.busy": "2022-03-13T17:39:29.669334Z",
     "iopub.status.idle": "2022-03-13T17:39:29.789644Z",
     "shell.execute_reply": "2022-03-13T17:39:29.789149Z",
     "shell.execute_reply.started": "2022-03-12T02:27:47.558696Z"
    },
    "papermill": {
     "duration": 0.152741,
     "end_time": "2022-03-13T17:39:29.789803",
     "exception": false,
     "start_time": "2022-03-13T17:39:29.637062",
     "status": "completed"
    },
    "tags": []
   },
   "outputs": [
    {
     "data": {
      "text/plain": [
       "count    457929.000000\n",
       "mean         10.438302\n",
       "std           7.691004\n",
       "min           1.000000\n",
       "25%           5.000000\n",
       "50%           8.000000\n",
       "75%          14.000000\n",
       "max          61.000000\n",
       "Name: tweet_length, dtype: float64"
      ]
     },
     "execution_count": 14,
     "metadata": {},
     "output_type": "execute_result"
    }
   ],
   "source": [
    "data['tweet_length'].describe()"
   ]
  },
  {
   "cell_type": "markdown",
   "id": "27946367",
   "metadata": {
    "papermill": {
     "duration": 0.027986,
     "end_time": "2022-03-13T17:39:29.846047",
     "exception": false,
     "start_time": "2022-03-13T17:39:29.818061",
     "status": "completed"
    },
    "tags": []
   },
   "source": [
    "We notice that the max `tweet_length` is 61, which is very close to our calculations.  \n",
    "Also, most tweets about 75% contain less than 14 words."
   ]
  },
  {
   "cell_type": "code",
   "execution_count": 15,
   "id": "31bcefb2",
   "metadata": {
    "execution": {
     "iopub.execute_input": "2022-03-13T17:39:29.908953Z",
     "iopub.status.busy": "2022-03-13T17:39:29.908253Z",
     "iopub.status.idle": "2022-03-13T17:39:30.321137Z",
     "shell.execute_reply": "2022-03-13T17:39:30.320584Z",
     "shell.execute_reply.started": "2022-03-12T02:27:56.996534Z"
    },
    "papermill": {
     "duration": 0.447002,
     "end_time": "2022-03-13T17:39:30.321287",
     "exception": false,
     "start_time": "2022-03-13T17:39:29.874285",
     "status": "completed"
    },
    "tags": []
   },
   "outputs": [
    {
     "data": {
      "image/png": "[encoded data removed]",
      "text/plain": [
       "<Figure size 432x288 with 1 Axes>"
      ]
     },
     "metadata": {
      "needs_background": "light"
     },
     "output_type": "display_data"
    }
   ],
   "source": [
    "data['tweet_length'].plot(kind='hist')\n",
    "plt.axvline(x=14, color='k')\n",
    "plt.xlabel('# of words in one tweet')\n",
    "plt.title('Tweet length ditribution')\n",
    "plt.show()"
   ]
  },
  {
   "cell_type": "markdown",
   "id": "bfb46877",
   "metadata": {
    "papermill": {
     "duration": 0.029918,
     "end_time": "2022-03-13T17:39:30.380915",
     "exception": false,
     "start_time": "2022-03-13T17:39:30.350997",
     "status": "completed"
    },
    "tags": []
   },
   "source": [
    "### Dialect distribution"
   ]
  },
  {
   "cell_type": "code",
   "execution_count": 16,
   "id": "af6b9887",
   "metadata": {
    "execution": {
     "iopub.execute_input": "2022-03-13T17:39:30.547968Z",
     "iopub.status.busy": "2022-03-13T17:39:30.499162Z",
     "iopub.status.idle": "2022-03-13T17:39:31.129550Z",
     "shell.execute_reply": "2022-03-13T17:39:31.130072Z",
     "shell.execute_reply.started": "2022-03-12T02:08:40.533229Z"
    },
    "papermill": {
     "duration": 0.720058,
     "end_time": "2022-03-13T17:39:31.130251",
     "exception": false,
     "start_time": "2022-03-13T17:39:30.410193",
     "status": "completed"
    },
    "tags": []
   },
   "outputs": [
    {
     "data": {
      "image/png": "[encoded data removed]",
      "text/plain": [
       "<Figure size 432x288 with 1 Axes>"
      ]
     },
     "metadata": {
      "needs_background": "light"
     },
     "output_type": "display_data"
    }
   ],
   "source": [
    "sns.set_context('notebook')\n",
    "sns.countplot(x=data['dialect'], color='#0d5a68', order=data['dialect'].value_counts().index)\n",
    "plt.show()"
   ]
  },
  {
   "cell_type": "markdown",
   "id": "567aeff5",
   "metadata": {
    "papermill": {
     "duration": 0.029352,
     "end_time": "2022-03-13T17:39:31.190117",
     "exception": false,
     "start_time": "2022-03-13T17:39:31.160765",
     "status": "completed"
    },
    "tags": []
   },
   "source": [
    "We notice that the class column `dialect` is unbalanced, with `EG` is the most frequent dialect."
   ]
  },
  {
   "cell_type": "markdown",
   "id": "3dd6799f",
   "metadata": {
    "papermill": {
     "duration": 0.029802,
     "end_time": "2022-03-13T17:39:31.249750",
     "exception": false,
     "start_time": "2022-03-13T17:39:31.219948",
     "status": "completed"
    },
    "tags": []
   },
   "source": [
    "### These quick findings will help in training our model"
   ]
  }
 ],
 "metadata": {
  "kernelspec": {
   "display_name": "Python 3",
   "language": "python",
   "name": "python3"
  },
  "language_info": {
   "codemirror_mode": {
    "name": "ipython",
    "version": 3
   },
   "file_extension": ".py",
   "mimetype": "text/x-python",
   "name": "python",
   "nbconvert_exporter": "python",
   "pygments_lexer": "ipython3",
   "version": "3.7.12"
  },
  "papermill": {
   "default_parameters": {},
   "duration": 25.014019,
   "end_time": "2022-03-13T17:39:32.693132",
   "environment_variables": {},
   "exception": null,
   "input_path": "__notebook__.ipynb",
   "output_path": "__notebook__.ipynb",
   "parameters": {},
   "start_time": "2022-03-13T17:39:07.679113",
   "version": "2.3.3"
  }
 },
 "nbformat": 4,
 "nbformat_minor": 5
}
