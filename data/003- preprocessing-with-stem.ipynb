{
 "cells": [
  {
   "cell_type": "markdown",
   "id": "d2eaf914",
   "metadata": {
    "papermill": {
     "duration": 0.039097,
     "end_time": "2022-03-12T20:11:37.554052",
     "exception": false,
     "start_time": "2022-03-12T20:11:37.514955",
     "status": "completed"
    },
    "tags": []
   },
   "source": [
    "### Import necessary packages"
   ]
  },
  {
   "cell_type": "code",
   "execution_count": 1,
   "id": "485d81a3",
   "metadata": {
    "execution": {
     "iopub.execute_input": "2022-03-12T20:11:37.640426Z",
     "iopub.status.busy": "2022-03-12T20:11:37.639503Z",
     "iopub.status.idle": "2022-03-12T20:11:40.292471Z",
     "shell.execute_reply": "2022-03-12T20:11:40.291644Z",
     "shell.execute_reply.started": "2022-03-12T20:10:23.762914Z"
    },
    "papermill": {
     "duration": 2.701032,
     "end_time": "2022-03-12T20:11:40.292635",
     "exception": false,
     "start_time": "2022-03-12T20:11:37.591603",
     "status": "completed"
    },
    "tags": []
   },
   "outputs": [],
   "source": [
    "import os\n",
    "import numpy as np\n",
    "import pandas as pd\n",
    "import nltk\n",
    "from nltk.corpus import stopwords\n",
    "import nlp_helpers as nh"
   ]
  },
  {
   "cell_type": "markdown",
   "id": "cf7679c2",
   "metadata": {
    "papermill": {
     "duration": 0.035917,
     "end_time": "2022-03-12T20:11:40.365757",
     "exception": false,
     "start_time": "2022-03-12T20:11:40.329840",
     "status": "completed"
    },
    "tags": []
   },
   "source": [
    "### Load Data"
   ]
  },
  {
   "cell_type": "code",
   "execution_count": 2,
   "id": "b5c94484",
   "metadata": {
    "execution": {
     "iopub.execute_input": "2022-03-12T20:11:40.445309Z",
     "iopub.status.busy": "2022-03-12T20:11:40.444489Z",
     "iopub.status.idle": "2022-03-12T20:11:40.447607Z",
     "shell.execute_reply": "2022-03-12T20:11:40.447067Z",
     "shell.execute_reply.started": "2022-03-12T20:05:41.051968Z"
    },
    "papermill": {
     "duration": 0.043957,
     "end_time": "2022-03-12T20:11:40.447749",
     "exception": false,
     "start_time": "2022-03-12T20:11:40.403792",
     "status": "completed"
    },
    "tags": []
   },
   "outputs": [],
   "source": [
    "root_path = '../input/ar-dialect-data'\n",
    "data_path = os.path.join(root_path, 'data_with_text.csv')"
   ]
  },
  {
   "cell_type": "code",
   "execution_count": 3,
   "id": "283d91a4",
   "metadata": {
    "execution": {
     "iopub.execute_input": "2022-03-12T20:11:40.524574Z",
     "iopub.status.busy": "2022-03-12T20:11:40.523561Z",
     "iopub.status.idle": "2022-03-12T20:11:43.393851Z",
     "shell.execute_reply": "2022-03-12T20:11:43.394390Z",
     "shell.execute_reply.started": "2022-03-12T20:05:41.063609Z"
    },
    "papermill": {
     "duration": 2.910219,
     "end_time": "2022-03-12T20:11:43.394562",
     "exception": false,
     "start_time": "2022-03-12T20:11:40.484343",
     "status": "completed"
    },
    "tags": []
   },
   "outputs": [
    {
     "data": {
      "text/html": [
       "<div>\n",
       "<style scoped>\n",
       "    .dataframe tbody tr th:only-of-type {\n",
       "        vertical-align: middle;\n",
       "    }\n",
       "\n",
       "    .dataframe tbody tr th {\n",
       "        vertical-align: top;\n",
       "    }\n",
       "\n",
       "    .dataframe thead th {\n",
       "        text-align: right;\n",
       "    }\n",
       "</style>\n",
       "<table border=\"1\" class=\"dataframe\">\n",
       "  <thead>\n",
       "    <tr style=\"text-align: right;\">\n",
       "      <th></th>\n",
       "      <th>id</th>\n",
       "      <th>text</th>\n",
       "      <th>dialect</th>\n",
       "    </tr>\n",
       "  </thead>\n",
       "  <tbody>\n",
       "    <tr>\n",
       "      <th>0</th>\n",
       "      <td>1175358310087892992</td>\n",
       "      <td>@Nw8ieJUwaCAAreT لكن بالنهاية .. ينتفض .. يغير .</td>\n",
       "      <td>IQ</td>\n",
       "    </tr>\n",
       "    <tr>\n",
       "      <th>1</th>\n",
       "      <td>1175416117793349632</td>\n",
       "      <td>@7zNqXP0yrODdRjK يعني هذا محسوب على البشر .. ح...</td>\n",
       "      <td>IQ</td>\n",
       "    </tr>\n",
       "    <tr>\n",
       "      <th>2</th>\n",
       "      <td>1175450108898565888</td>\n",
       "      <td>@KanaanRema مبين من كلامه خليجي</td>\n",
       "      <td>IQ</td>\n",
       "    </tr>\n",
       "    <tr>\n",
       "      <th>3</th>\n",
       "      <td>1175471073770573824</td>\n",
       "      <td>@HAIDER76128900 يسلملي مرورك وروحك الحلوه💐</td>\n",
       "      <td>IQ</td>\n",
       "    </tr>\n",
       "    <tr>\n",
       "      <th>4</th>\n",
       "      <td>1175496913145217024</td>\n",
       "      <td>@hmo2406 وين هل الغيبه  اخ محمد 🌸🌺</td>\n",
       "      <td>IQ</td>\n",
       "    </tr>\n",
       "  </tbody>\n",
       "</table>\n",
       "</div>"
      ],
      "text/plain": [
       "                    id                                               text  \\\n",
       "0  1175358310087892992   @Nw8ieJUwaCAAreT لكن بالنهاية .. ينتفض .. يغير .   \n",
       "1  1175416117793349632  @7zNqXP0yrODdRjK يعني هذا محسوب على البشر .. ح...   \n",
       "2  1175450108898565888                    @KanaanRema مبين من كلامه خليجي   \n",
       "3  1175471073770573824         @HAIDER76128900 يسلملي مرورك وروحك الحلوه💐   \n",
       "4  1175496913145217024                 @hmo2406 وين هل الغيبه  اخ محمد 🌸🌺   \n",
       "\n",
       "  dialect  \n",
       "0      IQ  \n",
       "1      IQ  \n",
       "2      IQ  \n",
       "3      IQ  \n",
       "4      IQ  "
      ]
     },
     "execution_count": 3,
     "metadata": {},
     "output_type": "execute_result"
    }
   ],
   "source": [
    "data = pd.read_csv(data_path, lineterminator='\\n')\n",
    "data.head()"
   ]
  },
  {
   "cell_type": "markdown",
   "id": "3bb16e71",
   "metadata": {
    "papermill": {
     "duration": 0.037222,
     "end_time": "2022-03-12T20:11:43.469635",
     "exception": false,
     "start_time": "2022-03-12T20:11:43.432413",
     "status": "completed"
    },
    "tags": []
   },
   "source": [
    "### Steps:\n",
    "\n",
    "1- **Clean hshtages**\n",
    "\n",
    "2- **Stemming**\n",
    "\n",
    "3- **Normalize text**\n",
    "\n",
    "4- **Keep arabic characters only**\n",
    "\n",
    "5- **Remove repeated letters**\n",
    "\n",
    "6- **Tokenization**\n",
    "\n",
    "7- **Remove stop words**  \n",
    "\n"
   ]
  },
  {
   "cell_type": "markdown",
   "id": "f23e1e0a",
   "metadata": {
    "papermill": {
     "duration": 0.037694,
     "end_time": "2022-03-12T20:11:43.544616",
     "exception": false,
     "start_time": "2022-03-12T20:11:43.506922",
     "status": "completed"
    },
    "tags": []
   },
   "source": [
    "### Clean hashtags"
   ]
  },
  {
   "cell_type": "code",
   "execution_count": 4,
   "id": "267b0a36",
   "metadata": {
    "execution": {
     "iopub.execute_input": "2022-03-12T20:11:43.627073Z",
     "iopub.status.busy": "2022-03-12T20:11:43.625982Z",
     "iopub.status.idle": "2022-03-12T20:11:43.631135Z",
     "shell.execute_reply": "2022-03-12T20:11:43.630547Z",
     "shell.execute_reply.started": "2022-03-12T20:05:42.528118Z"
    },
    "papermill": {
     "duration": 0.049594,
     "end_time": "2022-03-12T20:11:43.631286",
     "exception": false,
     "start_time": "2022-03-12T20:11:43.581692",
     "status": "completed"
    },
    "tags": []
   },
   "outputs": [
    {
     "data": {
      "text/plain": [
       "'قالوا قادمون .. چان أحنا نروحلهم\\nاذا مو گد السالفة ليش تحچون؟\\n #كلمه_لشهداء_العراق https://t.co/33s1ta2JmD'"
      ]
     },
     "execution_count": 4,
     "metadata": {},
     "output_type": "execute_result"
    }
   ],
   "source": [
    "# example before cleaning\n",
    "data['text'][420]"
   ]
  },
  {
   "cell_type": "code",
   "execution_count": 5,
   "id": "28cd67c0",
   "metadata": {
    "execution": {
     "iopub.execute_input": "2022-03-12T20:11:43.712240Z",
     "iopub.status.busy": "2022-03-12T20:11:43.711583Z",
     "iopub.status.idle": "2022-03-12T20:11:45.224852Z",
     "shell.execute_reply": "2022-03-12T20:11:45.224287Z",
     "shell.execute_reply.started": "2022-03-12T20:05:42.539201Z"
    },
    "papermill": {
     "duration": 1.555854,
     "end_time": "2022-03-12T20:11:45.225001",
     "exception": false,
     "start_time": "2022-03-12T20:11:43.669147",
     "status": "completed"
    },
    "tags": []
   },
   "outputs": [],
   "source": [
    "data['text'] = data['text'].apply(nh.clean_hashtags)"
   ]
  },
  {
   "cell_type": "code",
   "execution_count": 6,
   "id": "1f9452c1",
   "metadata": {
    "execution": {
     "iopub.execute_input": "2022-03-12T20:11:45.309347Z",
     "iopub.status.busy": "2022-03-12T20:11:45.308711Z",
     "iopub.status.idle": "2022-03-12T20:11:45.312631Z",
     "shell.execute_reply": "2022-03-12T20:11:45.312103Z",
     "shell.execute_reply.started": "2022-03-12T20:05:44.345642Z"
    },
    "papermill": {
     "duration": 0.05014,
     "end_time": "2022-03-12T20:11:45.312763",
     "exception": false,
     "start_time": "2022-03-12T20:11:45.262623",
     "status": "completed"
    },
    "tags": []
   },
   "outputs": [
    {
     "data": {
      "text/plain": [
       "'قالوا قادمون .. چان أحنا نروحلهم\\nاذا مو گد السالفة ليش تحچون؟\\n كلمه لشهداء العراق https://t.co/33s1ta2JmD'"
      ]
     },
     "execution_count": 6,
     "metadata": {},
     "output_type": "execute_result"
    }
   ],
   "source": [
    "# example after cleaning\n",
    "data['text'][420]"
   ]
  },
  {
   "cell_type": "markdown",
   "id": "9492fd1d",
   "metadata": {
    "papermill": {
     "duration": 0.037657,
     "end_time": "2022-03-12T20:11:45.388673",
     "exception": false,
     "start_time": "2022-03-12T20:11:45.351016",
     "status": "completed"
    },
    "tags": []
   },
   "source": [
    "### Stemmming\n",
    "Before stemming, we need to tokenize the data"
   ]
  },
  {
   "cell_type": "code",
   "execution_count": 7,
   "id": "c60727b6",
   "metadata": {
    "execution": {
     "iopub.execute_input": "2022-03-12T20:11:45.470147Z",
     "iopub.status.busy": "2022-03-12T20:11:45.469537Z",
     "iopub.status.idle": "2022-03-12T20:11:47.763766Z",
     "shell.execute_reply": "2022-03-12T20:11:47.764360Z",
     "shell.execute_reply.started": "2022-03-12T20:05:44.357042Z"
    },
    "papermill": {
     "duration": 2.335306,
     "end_time": "2022-03-12T20:11:47.764568",
     "exception": false,
     "start_time": "2022-03-12T20:11:45.429262",
     "status": "completed"
    },
    "tags": []
   },
   "outputs": [],
   "source": [
    "# tokenization\n",
    "data['text'] = data['text'].apply(nh.tokenize)"
   ]
  },
  {
   "cell_type": "code",
   "execution_count": 8,
   "id": "9e247543",
   "metadata": {
    "execution": {
     "iopub.execute_input": "2022-03-12T20:11:47.854080Z",
     "iopub.status.busy": "2022-03-12T20:11:47.853077Z",
     "iopub.status.idle": "2022-03-12T20:11:47.856448Z",
     "shell.execute_reply": "2022-03-12T20:11:47.856920Z",
     "shell.execute_reply.started": "2022-03-12T20:05:47.389834Z"
    },
    "papermill": {
     "duration": 0.049219,
     "end_time": "2022-03-12T20:11:47.857079",
     "exception": false,
     "start_time": "2022-03-12T20:11:47.807860",
     "status": "completed"
    },
    "tags": []
   },
   "outputs": [
    {
     "data": {
      "text/plain": [
       "0    [@Nw8ieJUwaCAAreT, لكن, بالنهاية, .., ينتفض, ....\n",
       "1    [@7zNqXP0yrODdRjK, يعني, هذا, محسوب, على, البش...\n",
       "2                [@KanaanRema, مبين, من, كلامه, خليجي]\n",
       "3     [@HAIDER76128900, يسلملي, مرورك, وروحك, الحلوه💐]\n",
       "4            [@hmo2406, وين, هل, الغيبه, اخ, محمد, 🌸🌺]\n",
       "Name: text, dtype: object"
      ]
     },
     "execution_count": 8,
     "metadata": {},
     "output_type": "execute_result"
    }
   ],
   "source": [
    "data['text'].head()"
   ]
  },
  {
   "cell_type": "code",
   "execution_count": 9,
   "id": "5ab5d3a3",
   "metadata": {
    "execution": {
     "iopub.execute_input": "2022-03-12T20:11:47.940762Z",
     "iopub.status.busy": "2022-03-12T20:11:47.940139Z",
     "iopub.status.idle": "2022-03-12T20:12:51.763463Z",
     "shell.execute_reply": "2022-03-12T20:12:51.762702Z",
     "shell.execute_reply.started": "2022-03-12T20:05:47.398211Z"
    },
    "papermill": {
     "duration": 63.867245,
     "end_time": "2022-03-12T20:12:51.763626",
     "exception": false,
     "start_time": "2022-03-12T20:11:47.896381",
     "status": "completed"
    },
    "tags": []
   },
   "outputs": [],
   "source": [
    "# now, we can stem our data\n",
    "# it will stem only arabic words\n",
    "data['text'] = data['text'].apply(nh.stem)"
   ]
  },
  {
   "cell_type": "code",
   "execution_count": 10,
   "id": "23714399",
   "metadata": {
    "execution": {
     "iopub.execute_input": "2022-03-12T20:12:51.851001Z",
     "iopub.status.busy": "2022-03-12T20:12:51.849922Z",
     "iopub.status.idle": "2022-03-12T20:12:51.853439Z",
     "shell.execute_reply": "2022-03-12T20:12:51.854037Z",
     "shell.execute_reply.started": "2022-03-12T20:07:00.237939Z"
    },
    "papermill": {
     "duration": 0.050988,
     "end_time": "2022-03-12T20:12:51.854213",
     "exception": false,
     "start_time": "2022-03-12T20:12:51.803225",
     "status": "completed"
    },
    "tags": []
   },
   "outputs": [
    {
     "data": {
      "text/plain": [
       "0    [@Nw8ieJUwaCAAreT, لكن, نهي, .., نفض, .., يغر, .]\n",
       "1    [@7zNqXP0yrODdRjK, يعن, هذا, حسب, على, بشر, .....\n",
       "2                     [@KanaanRema, بين, من, كلم, خلج]\n",
       "3              [@HAIDER76128900, لمل, رور, ورح, حلوه💐]\n",
       "4                [@hmo2406, وين, هل, غيب, اخ, حمد, 🌸🌺]\n",
       "Name: text, dtype: object"
      ]
     },
     "execution_count": 10,
     "metadata": {},
     "output_type": "execute_result"
    }
   ],
   "source": [
    "data['text'].head()"
   ]
  },
  {
   "cell_type": "markdown",
   "id": "16e8fca0",
   "metadata": {
    "papermill": {
     "duration": 0.038343,
     "end_time": "2022-03-12T20:12:51.931298",
     "exception": false,
     "start_time": "2022-03-12T20:12:51.892955",
     "status": "completed"
    },
    "tags": []
   },
   "source": [
    "### Normalize text\n",
    "Now, to normalize the text, it is better for text ot bes string instead of list of strings"
   ]
  },
  {
   "cell_type": "code",
   "execution_count": 11,
   "id": "bdc52564",
   "metadata": {
    "execution": {
     "iopub.execute_input": "2022-03-12T20:12:52.012979Z",
     "iopub.status.busy": "2022-03-12T20:12:52.011935Z",
     "iopub.status.idle": "2022-03-12T20:12:52.799222Z",
     "shell.execute_reply": "2022-03-12T20:12:52.799748Z",
     "shell.execute_reply.started": "2022-03-12T20:07:00.247322Z"
    },
    "papermill": {
     "duration": 0.829793,
     "end_time": "2022-03-12T20:12:52.799916",
     "exception": false,
     "start_time": "2022-03-12T20:12:51.970123",
     "status": "completed"
    },
    "tags": []
   },
   "outputs": [],
   "source": [
    "data['text'] = data['text'].apply(nh.get_one_string)"
   ]
  },
  {
   "cell_type": "code",
   "execution_count": 12,
   "id": "5b30f2f3",
   "metadata": {
    "execution": {
     "iopub.execute_input": "2022-03-12T20:12:52.901176Z",
     "iopub.status.busy": "2022-03-12T20:12:52.900217Z",
     "iopub.status.idle": "2022-03-12T20:12:52.905544Z",
     "shell.execute_reply": "2022-03-12T20:12:52.906025Z",
     "shell.execute_reply.started": "2022-03-12T20:07:01.196741Z"
    },
    "papermill": {
     "duration": 0.057488,
     "end_time": "2022-03-12T20:12:52.906203",
     "exception": false,
     "start_time": "2022-03-12T20:12:52.848715",
     "status": "completed"
    },
    "tags": []
   },
   "outputs": [
    {
     "data": {
      "text/plain": [
       "'@Nw8ieJUwaCAAreT لكن نهي .. نفض .. يغر .'"
      ]
     },
     "execution_count": 12,
     "metadata": {},
     "output_type": "execute_result"
    }
   ],
   "source": [
    "data['text'][0]"
   ]
  },
  {
   "cell_type": "code",
   "execution_count": 13,
   "id": "b17f6ccb",
   "metadata": {
    "execution": {
     "iopub.execute_input": "2022-03-12T20:12:52.988618Z",
     "iopub.status.busy": "2022-03-12T20:12:52.987620Z",
     "iopub.status.idle": "2022-03-12T20:12:52.995066Z",
     "shell.execute_reply": "2022-03-12T20:12:52.994370Z",
     "shell.execute_reply.started": "2022-03-12T20:07:01.201788Z"
    },
    "papermill": {
     "duration": 0.050304,
     "end_time": "2022-03-12T20:12:52.995272",
     "exception": false,
     "start_time": "2022-03-12T20:12:52.944968",
     "status": "completed"
    },
    "tags": []
   },
   "outputs": [
    {
     "name": "stdout",
     "output_type": "stream",
     "text": [
      "@sfer661 أكل بخر ويه وظف ..\n",
      "@mimi1562 هنا سؤل اي وحد اقى لكف لو طرق 🙄\n",
      "@SaleemAldulimi تهل سوت اير مكة ..\n",
      "@ha m ed كل جمع على قدر عقولها😂\n"
     ]
    }
   ],
   "source": [
    "# examples before normalization\n",
    "print(data['text'][18]) # alef example\n",
    "print(data['text'][458045]) # hamzah example\n",
    "print(data['text'][31]) # taa marbotah example\n",
    "print(data['text'][24]) # alef layennah example"
   ]
  },
  {
   "cell_type": "code",
   "execution_count": 14,
   "id": "3e10b2fe",
   "metadata": {
    "execution": {
     "iopub.execute_input": "2022-03-12T20:12:53.085425Z",
     "iopub.status.busy": "2022-03-12T20:12:53.084727Z",
     "iopub.status.idle": "2022-03-12T20:12:57.940115Z",
     "shell.execute_reply": "2022-03-12T20:12:57.939415Z",
     "shell.execute_reply.started": "2022-03-12T20:07:01.217127Z"
    },
    "papermill": {
     "duration": 4.899297,
     "end_time": "2022-03-12T20:12:57.940290",
     "exception": false,
     "start_time": "2022-03-12T20:12:53.040993",
     "status": "completed"
    },
    "tags": []
   },
   "outputs": [],
   "source": [
    "data['text'] = data['text'].apply(nh.normalize_text)"
   ]
  },
  {
   "cell_type": "code",
   "execution_count": 15,
   "id": "637c1a12",
   "metadata": {
    "execution": {
     "iopub.execute_input": "2022-03-12T20:12:58.027415Z",
     "iopub.status.busy": "2022-03-12T20:12:58.026564Z",
     "iopub.status.idle": "2022-03-12T20:12:58.029837Z",
     "shell.execute_reply": "2022-03-12T20:12:58.030339Z",
     "shell.execute_reply.started": "2022-03-12T20:07:06.95147Z"
    },
    "papermill": {
     "duration": 0.050512,
     "end_time": "2022-03-12T20:12:58.030504",
     "exception": false,
     "start_time": "2022-03-12T20:12:57.979992",
     "status": "completed"
    },
    "tags": []
   },
   "outputs": [
    {
     "name": "stdout",
     "output_type": "stream",
     "text": [
      "@sfer661 اكل بخر ويه وظف ..\n",
      "@mimi1562 هنا سءل اي وحد اقي لكف لو طرق 🙄\n",
      "@SaleemAldulimi تهل سوت اير مكه ..\n",
      "@ha m ed كل جمع علي قدر عقولها😂\n"
     ]
    }
   ],
   "source": [
    "# examples after normalization\n",
    "print(data['text'][18]) # alef example\n",
    "print(data['text'][458045]) # hamzah example\n",
    "print(data['text'][31]) # taa marbotah example\n",
    "print(data['text'][24]) # alef layennah example"
   ]
  },
  {
   "cell_type": "markdown",
   "id": "d4b8ca76",
   "metadata": {
    "papermill": {
     "duration": 0.040157,
     "end_time": "2022-03-12T20:12:58.110490",
     "exception": false,
     "start_time": "2022-03-12T20:12:58.070333",
     "status": "completed"
    },
    "tags": []
   },
   "source": [
    "### Remove any non arabic alphabet character"
   ]
  },
  {
   "cell_type": "code",
   "execution_count": 16,
   "id": "79d986b4",
   "metadata": {
    "execution": {
     "iopub.execute_input": "2022-03-12T20:12:58.195989Z",
     "iopub.status.busy": "2022-03-12T20:12:58.194945Z",
     "iopub.status.idle": "2022-03-12T20:12:58.199341Z",
     "shell.execute_reply": "2022-03-12T20:12:58.199914Z",
     "shell.execute_reply.started": "2022-03-12T20:07:06.959696Z"
    },
    "papermill": {
     "duration": 0.049771,
     "end_time": "2022-03-12T20:12:58.200073",
     "exception": false,
     "start_time": "2022-03-12T20:12:58.150302",
     "status": "completed"
    },
    "tags": []
   },
   "outputs": [
    {
     "data": {
      "text/plain": [
       "0             @Nw8ieJUwaCAAreT لكن نهي .. نفض .. يغر .\n",
       "1    @7zNqXP0yrODdRjK يعن هذا حسب علي بشر .. حين وح...\n",
       "2                           @KanaanRema بين من كلم خلج\n",
       "3                    @HAIDER76128900 لمل رور ورح حلوه💐\n",
       "4                        @hmo2406 وين هل غيب اخ حمد 🌸🌺\n",
       "Name: text, dtype: object"
      ]
     },
     "execution_count": 16,
     "metadata": {},
     "output_type": "execute_result"
    }
   ],
   "source": [
    "# data before removing, contains english words, emojis, etc.\n",
    "data['text'].head()"
   ]
  },
  {
   "cell_type": "code",
   "execution_count": 17,
   "id": "92857fe2",
   "metadata": {
    "execution": {
     "iopub.execute_input": "2022-03-12T20:12:58.283669Z",
     "iopub.status.busy": "2022-03-12T20:12:58.282684Z",
     "iopub.status.idle": "2022-03-12T20:13:02.675497Z",
     "shell.execute_reply": "2022-03-12T20:13:02.674844Z",
     "shell.execute_reply.started": "2022-03-12T20:07:06.973558Z"
    },
    "papermill": {
     "duration": 4.435601,
     "end_time": "2022-03-12T20:13:02.675651",
     "exception": false,
     "start_time": "2022-03-12T20:12:58.240050",
     "status": "completed"
    },
    "tags": []
   },
   "outputs": [],
   "source": [
    "data['text'] = data['text'].apply(nh.clean_doc_arabic)"
   ]
  },
  {
   "cell_type": "code",
   "execution_count": 18,
   "id": "59fd307a",
   "metadata": {
    "execution": {
     "iopub.execute_input": "2022-03-12T20:13:02.760092Z",
     "iopub.status.busy": "2022-03-12T20:13:02.759445Z",
     "iopub.status.idle": "2022-03-12T20:13:02.765247Z",
     "shell.execute_reply": "2022-03-12T20:13:02.765800Z",
     "shell.execute_reply.started": "2022-03-12T20:07:09.117219Z"
    },
    "papermill": {
     "duration": 0.050294,
     "end_time": "2022-03-12T20:13:02.765990",
     "exception": false,
     "start_time": "2022-03-12T20:13:02.715696",
     "status": "completed"
    },
    "tags": []
   },
   "outputs": [
    {
     "data": {
      "text/plain": [
       "0                                   لكن نهي  نفض  يغر \n",
       "1     يعن هذا حسب علي بشر  حين وحش  طلب من غرب حرم ...\n",
       "2                                       بين من كلم خلج\n",
       "3                                     لمل رور ورح حلوه\n",
       "4                                   وين هل غيب اخ حمد \n",
       "Name: text, dtype: object"
      ]
     },
     "execution_count": 18,
     "metadata": {},
     "output_type": "execute_result"
    }
   ],
   "source": [
    "# data after removing, contains english words, emojis, etc.\n",
    "data['text'].head()"
   ]
  },
  {
   "cell_type": "markdown",
   "id": "2885d3b3",
   "metadata": {
    "papermill": {
     "duration": 0.04043,
     "end_time": "2022-03-12T20:13:02.847281",
     "exception": false,
     "start_time": "2022-03-12T20:13:02.806851",
     "status": "completed"
    },
    "tags": []
   },
   "source": [
    "### Remove repaeated letters"
   ]
  },
  {
   "cell_type": "code",
   "execution_count": 19,
   "id": "b31aa407",
   "metadata": {
    "execution": {
     "iopub.execute_input": "2022-03-12T20:13:02.932093Z",
     "iopub.status.busy": "2022-03-12T20:13:02.931288Z",
     "iopub.status.idle": "2022-03-12T20:13:02.936426Z",
     "shell.execute_reply": "2022-03-12T20:13:02.936993Z",
     "shell.execute_reply.started": "2022-03-12T20:07:09.125651Z"
    },
    "papermill": {
     "duration": 0.049299,
     "end_time": "2022-03-12T20:13:02.937153",
     "exception": false,
     "start_time": "2022-03-12T20:13:02.887854",
     "status": "completed"
    },
    "tags": []
   },
   "outputs": [
    {
     "data": {
      "text/plain": [
       "'ااااااءءءءءء  تخر شكل عند قرقاع نطق ثانيه  '"
      ]
     },
     "execution_count": 19,
     "metadata": {},
     "output_type": "execute_result"
    }
   ],
   "source": [
    "# example before removing\n",
    "data['text'][443704]"
   ]
  },
  {
   "cell_type": "code",
   "execution_count": 20,
   "id": "861a87ca",
   "metadata": {
    "execution": {
     "iopub.execute_input": "2022-03-12T20:13:03.025418Z",
     "iopub.status.busy": "2022-03-12T20:13:03.024660Z",
     "iopub.status.idle": "2022-03-12T20:13:39.337594Z",
     "shell.execute_reply": "2022-03-12T20:13:39.338114Z",
     "shell.execute_reply.started": "2022-03-12T20:07:09.140755Z"
    },
    "papermill": {
     "duration": 36.360361,
     "end_time": "2022-03-12T20:13:39.338357",
     "exception": false,
     "start_time": "2022-03-12T20:13:02.977996",
     "status": "completed"
    },
    "tags": []
   },
   "outputs": [],
   "source": [
    "# remove any letter repeated 3 or more times\n",
    "n = 3\n",
    "data['text'] = data['text'].apply(nh.remove_repeated, args=(n,))"
   ]
  },
  {
   "cell_type": "code",
   "execution_count": 21,
   "id": "df551581",
   "metadata": {
    "execution": {
     "iopub.execute_input": "2022-03-12T20:13:39.427381Z",
     "iopub.status.busy": "2022-03-12T20:13:39.426677Z",
     "iopub.status.idle": "2022-03-12T20:13:39.430443Z",
     "shell.execute_reply": "2022-03-12T20:13:39.429770Z",
     "shell.execute_reply.started": "2022-03-12T20:07:51.285467Z"
    },
    "papermill": {
     "duration": 0.050246,
     "end_time": "2022-03-12T20:13:39.430598",
     "exception": false,
     "start_time": "2022-03-12T20:13:39.380352",
     "status": "completed"
    },
    "tags": []
   },
   "outputs": [
    {
     "data": {
      "text/plain": [
       "'اء  تخر شكل عند قرقاع نطق ثانيه  '"
      ]
     },
     "execution_count": 21,
     "metadata": {},
     "output_type": "execute_result"
    }
   ],
   "source": [
    "# example after removing\n",
    "data['text'][443704]"
   ]
  },
  {
   "cell_type": "markdown",
   "id": "20cdee9d",
   "metadata": {
    "papermill": {
     "duration": 0.041624,
     "end_time": "2022-03-12T20:13:39.515033",
     "exception": false,
     "start_time": "2022-03-12T20:13:39.473409",
     "status": "completed"
    },
    "tags": []
   },
   "source": [
    "### Tokenization"
   ]
  },
  {
   "cell_type": "code",
   "execution_count": 22,
   "id": "552769ae",
   "metadata": {
    "execution": {
     "iopub.execute_input": "2022-03-12T20:13:39.605471Z",
     "iopub.status.busy": "2022-03-12T20:13:39.604710Z",
     "iopub.status.idle": "2022-03-12T20:13:41.339643Z",
     "shell.execute_reply": "2022-03-12T20:13:41.339058Z",
     "shell.execute_reply.started": "2022-03-12T20:07:51.292894Z"
    },
    "papermill": {
     "duration": 1.782306,
     "end_time": "2022-03-12T20:13:41.339816",
     "exception": false,
     "start_time": "2022-03-12T20:13:39.557510",
     "status": "completed"
    },
    "tags": []
   },
   "outputs": [],
   "source": [
    "data['text'] = data['text'].apply(nh.tokenize)"
   ]
  },
  {
   "cell_type": "code",
   "execution_count": 23,
   "id": "0282d6cf",
   "metadata": {
    "execution": {
     "iopub.execute_input": "2022-03-12T20:13:41.426747Z",
     "iopub.status.busy": "2022-03-12T20:13:41.425756Z",
     "iopub.status.idle": "2022-03-12T20:13:41.433327Z",
     "shell.execute_reply": "2022-03-12T20:13:41.433767Z",
     "shell.execute_reply.started": "2022-03-12T20:07:53.949811Z"
    },
    "papermill": {
     "duration": 0.052521,
     "end_time": "2022-03-12T20:13:41.433945",
     "exception": false,
     "start_time": "2022-03-12T20:13:41.381424",
     "status": "completed"
    },
    "tags": []
   },
   "outputs": [
    {
     "data": {
      "text/plain": [
       "0                                 [لكن, نهي, نفض, يغر]\n",
       "1    [يعن, هذا, حسب, علي, بشر, حين, وحش, طلب, من, غ...\n",
       "2                                  [بين, من, كلم, خلج]\n",
       "3                                [لمل, رور, ورح, حلوه]\n",
       "4                              [وين, هل, غيب, اخ, حمد]\n",
       "Name: text, dtype: object"
      ]
     },
     "execution_count": 23,
     "metadata": {},
     "output_type": "execute_result"
    }
   ],
   "source": [
    "data['text'].head()"
   ]
  },
  {
   "cell_type": "markdown",
   "id": "b0443951",
   "metadata": {
    "papermill": {
     "duration": 0.041685,
     "end_time": "2022-03-12T20:13:41.517360",
     "exception": false,
     "start_time": "2022-03-12T20:13:41.475675",
     "status": "completed"
    },
    "tags": []
   },
   "source": [
    "### Remove stop words"
   ]
  },
  {
   "cell_type": "code",
   "execution_count": 24,
   "id": "cba05a84",
   "metadata": {
    "execution": {
     "iopub.execute_input": "2022-03-12T20:13:41.604785Z",
     "iopub.status.busy": "2022-03-12T20:13:41.603787Z",
     "iopub.status.idle": "2022-03-12T20:13:41.745134Z",
     "shell.execute_reply": "2022-03-12T20:13:41.745781Z",
     "shell.execute_reply.started": "2022-03-12T20:07:53.959065Z"
    },
    "papermill": {
     "duration": 0.187305,
     "end_time": "2022-03-12T20:13:41.746011",
     "exception": false,
     "start_time": "2022-03-12T20:13:41.558706",
     "status": "completed"
    },
    "tags": []
   },
   "outputs": [
    {
     "name": "stdout",
     "output_type": "stream",
     "text": [
      "[nltk_data] Downloading package stopwords to /usr/share/nltk_data...\n",
      "[nltk_data]   Package stopwords is already up-to-date!\n"
     ]
    },
    {
     "data": {
      "text/plain": [
       "True"
      ]
     },
     "execution_count": 24,
     "metadata": {},
     "output_type": "execute_result"
    }
   ],
   "source": [
    "nltk.download('stopwords')"
   ]
  },
  {
   "cell_type": "code",
   "execution_count": 25,
   "id": "694143e2",
   "metadata": {
    "execution": {
     "iopub.execute_input": "2022-03-12T20:13:41.837859Z",
     "iopub.status.busy": "2022-03-12T20:13:41.835823Z",
     "iopub.status.idle": "2022-03-12T20:13:41.865577Z",
     "shell.execute_reply": "2022-03-12T20:13:41.866080Z",
     "shell.execute_reply.started": "2022-03-12T20:07:54.116068Z"
    },
    "papermill": {
     "duration": 0.076646,
     "end_time": "2022-03-12T20:13:41.866290",
     "exception": false,
     "start_time": "2022-03-12T20:13:41.789644",
     "status": "completed"
    },
    "tags": []
   },
   "outputs": [
    {
     "data": {
      "text/plain": [
       "['إذ', 'إذا', 'إذما', 'إذن', 'أف', 'أقل', 'أكثر', 'ألا', 'إلا', 'التي']"
      ]
     },
     "execution_count": 25,
     "metadata": {},
     "output_type": "execute_result"
    }
   ],
   "source": [
    "arabic_stopwords = stopwords.words('arabic')\n",
    "arabic_stopwords[:10]"
   ]
  },
  {
   "cell_type": "code",
   "execution_count": 26,
   "id": "8aed58ac",
   "metadata": {
    "execution": {
     "iopub.execute_input": "2022-03-12T20:13:41.965930Z",
     "iopub.status.busy": "2022-03-12T20:13:41.956086Z",
     "iopub.status.idle": "2022-03-12T20:13:41.970131Z",
     "shell.execute_reply": "2022-03-12T20:13:41.969583Z",
     "shell.execute_reply.started": "2022-03-12T20:07:54.144296Z"
    },
    "papermill": {
     "duration": 0.060646,
     "end_time": "2022-03-12T20:13:41.970302",
     "exception": false,
     "start_time": "2022-03-12T20:13:41.909656",
     "status": "completed"
    },
    "tags": []
   },
   "outputs": [
    {
     "name": "stdout",
     "output_type": "stream",
     "text": [
      "Stop words length before processing: 754\n",
      "Stop words length after processing: 622\n"
     ]
    }
   ],
   "source": [
    "# before removing stop words we need to remove tashkeel and normalize them\n",
    "# I converted the result to \"set\" to remove duplicates after normalization\n",
    "# also sets are faster than lists in \"checking membership\"\n",
    "print('Stop words length before processing:', len(arabic_stopwords))\n",
    "arabic_stopwords = set(map(nh.remove_tashkeel, arabic_stopwords))\n",
    "arabic_stopwords = set(map(nh.normalize_text, arabic_stopwords))\n",
    "print('Stop words length after processing:', len(arabic_stopwords))"
   ]
  },
  {
   "cell_type": "code",
   "execution_count": 27,
   "id": "ac5dac3f",
   "metadata": {
    "execution": {
     "iopub.execute_input": "2022-03-12T20:13:42.067979Z",
     "iopub.status.busy": "2022-03-12T20:13:42.067225Z",
     "iopub.status.idle": "2022-03-12T20:13:42.069979Z",
     "shell.execute_reply": "2022-03-12T20:13:42.070496Z",
     "shell.execute_reply.started": "2022-03-12T20:07:54.164114Z"
    },
    "papermill": {
     "duration": 0.055429,
     "end_time": "2022-03-12T20:13:42.070656",
     "exception": false,
     "start_time": "2022-03-12T20:13:42.015227",
     "status": "completed"
    },
    "tags": []
   },
   "outputs": [
    {
     "data": {
      "text/plain": [
       "['لكن', 'نهي', 'نفض', 'يغر']"
      ]
     },
     "execution_count": 27,
     "metadata": {},
     "output_type": "execute_result"
    }
   ],
   "source": [
    "# example before removing stopwords\n",
    "data['text'][0]"
   ]
  },
  {
   "cell_type": "code",
   "execution_count": 28,
   "id": "51990837",
   "metadata": {
    "execution": {
     "iopub.execute_input": "2022-03-12T20:13:42.164223Z",
     "iopub.status.busy": "2022-03-12T20:13:42.163175Z",
     "iopub.status.idle": "2022-03-12T20:13:45.216448Z",
     "shell.execute_reply": "2022-03-12T20:13:45.215867Z",
     "shell.execute_reply.started": "2022-03-12T20:07:54.172492Z"
    },
    "papermill": {
     "duration": 3.101641,
     "end_time": "2022-03-12T20:13:45.216617",
     "exception": false,
     "start_time": "2022-03-12T20:13:42.114976",
     "status": "completed"
    },
    "tags": []
   },
   "outputs": [],
   "source": [
    "data['text'] = data['text'].apply(nh.remove_stopwords, args=(arabic_stopwords,))"
   ]
  },
  {
   "cell_type": "code",
   "execution_count": 29,
   "id": "666e87f3",
   "metadata": {
    "execution": {
     "iopub.execute_input": "2022-03-12T20:13:45.310722Z",
     "iopub.status.busy": "2022-03-12T20:13:45.309808Z",
     "iopub.status.idle": "2022-03-12T20:13:45.313913Z",
     "shell.execute_reply": "2022-03-12T20:13:45.313364Z",
     "shell.execute_reply.started": "2022-03-12T20:10:32.520994Z"
    },
    "papermill": {
     "duration": 0.053307,
     "end_time": "2022-03-12T20:13:45.314046",
     "exception": false,
     "start_time": "2022-03-12T20:13:45.260739",
     "status": "completed"
    },
    "tags": []
   },
   "outputs": [
    {
     "data": {
      "text/plain": [
       "['نهي', 'نفض', 'يغر']"
      ]
     },
     "execution_count": 29,
     "metadata": {},
     "output_type": "execute_result"
    }
   ],
   "source": [
    "# example after removing stopwords\n",
    "data['text'][0]"
   ]
  },
  {
   "cell_type": "code",
   "execution_count": 30,
   "id": "dcfe59d8",
   "metadata": {
    "execution": {
     "iopub.execute_input": "2022-03-12T20:13:45.414119Z",
     "iopub.status.busy": "2022-03-12T20:13:45.413120Z",
     "iopub.status.idle": "2022-03-12T20:13:47.893331Z",
     "shell.execute_reply": "2022-03-12T20:13:47.893883Z",
     "shell.execute_reply.started": "2022-03-12T20:11:12.155749Z"
    },
    "papermill": {
     "duration": 2.535615,
     "end_time": "2022-03-12T20:13:47.894075",
     "exception": false,
     "start_time": "2022-03-12T20:13:45.358460",
     "status": "completed"
    },
    "tags": []
   },
   "outputs": [],
   "source": [
    "nh.save_pickle_file(data, 'preprocessed_data_with_stem.obj')"
   ]
  },
  {
   "cell_type": "code",
   "execution_count": null,
   "id": "91dfe258",
   "metadata": {
    "papermill": {
     "duration": 0.044847,
     "end_time": "2022-03-12T20:13:47.983354",
     "exception": false,
     "start_time": "2022-03-12T20:13:47.938507",
     "status": "completed"
    },
    "tags": []
   },
   "outputs": [],
   "source": []
  }
 ],
 "metadata": {
  "kernelspec": {
   "display_name": "Python 3",
   "language": "python",
   "name": "python3"
  },
  "language_info": {
   "codemirror_mode": {
    "name": "ipython",
    "version": 3
   },
   "file_extension": ".py",
   "mimetype": "text/x-python",
   "name": "python",
   "nbconvert_exporter": "python",
   "pygments_lexer": "ipython3",
   "version": "3.7.12"
  },
  "papermill": {
   "default_parameters": {},
   "duration": 141.516875,
   "end_time": "2022-03-12T20:13:49.442858",
   "environment_variables": {},
   "exception": null,
   "input_path": "__notebook__.ipynb",
   "output_path": "__notebook__.ipynb",
   "parameters": {},
   "start_time": "2022-03-12T20:11:27.925983",
   "version": "2.3.3"
  }
 },
 "nbformat": 4,
 "nbformat_minor": 5
}
