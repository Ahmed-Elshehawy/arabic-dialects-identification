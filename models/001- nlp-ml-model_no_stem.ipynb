{
 "cells": [
  {
   "cell_type": "code",
   "execution_count": 1,
   "id": "a93b6d60",
   "metadata": {
    "id": "1i3LMy0i7LI4",
    "papermill": {
     "duration": 3.426326,
     "end_time": "2022-03-11T21:34:34.503065",
     "exception": false,
     "start_time": "2022-03-11T21:34:31.076739",
     "status": "completed"
    },
    "tags": []
   },
   "outputs": [],
   "source": [
    "import os\n",
    "import pandas as pd\n",
    "import numpy as np\n",
    "import pickle\n",
    "from sklearn.model_selection import train_test_split\n",
    "from sklearn.utils.class_weight import compute_class_weight\n",
    "from sklearn.feature_extraction.text import TfidfVectorizer\n",
    "from sklearn.pipeline import Pipeline\n",
    "from sklearn.linear_model import LogisticRegression\n",
    "from sklearn.naive_bayes import MultinomialNB\n",
    "from sklearn.svm import SVC\n",
    "from sklearn.ensemble import RandomForestClassifier\n",
    "import daar.nlp_helpers as nh"
   ]
  },
  {
   "cell_type": "code",
   "execution_count": 2,
   "id": "65951073",
   "metadata": {
    "execution": {
     "iopub.execute_input": "2022-03-11T21:34:34.561356Z",
     "iopub.status.busy": "2022-03-11T21:34:34.560632Z",
     "iopub.status.idle": "2022-03-11T21:34:34.564036Z",
     "shell.execute_reply": "2022-03-11T21:34:34.564605Z",
     "shell.execute_reply.started": "2022-03-11T21:32:39.341888Z"
    },
    "id": "oD9ZydTJ7hY-",
    "papermill": {
     "duration": 0.033873,
     "end_time": "2022-03-11T21:34:34.564784",
     "exception": false,
     "start_time": "2022-03-11T21:34:34.530911",
     "status": "completed"
    },
    "tags": []
   },
   "outputs": [],
   "source": [
    "# Load the data, and vocab\n",
    "    \n",
    "data_path = '../input/dialect-processed-data/preprocessed_data_no_stem.obj'\n",
    "# vocab_path = os.path.join(root_path, 'vocab_no_stem.obj')\n",
    "# labels_path = os.path.join(root_path, 'labels_to_int.obj')"
   ]
  },
  {
   "cell_type": "code",
   "execution_count": 3,
   "id": "0bd75add",
   "metadata": {
    "execution": {
     "iopub.execute_input": "2022-03-11T21:34:34.623459Z",
     "iopub.status.busy": "2022-03-11T21:34:34.622763Z",
     "iopub.status.idle": "2022-03-11T21:34:38.135383Z",
     "shell.execute_reply": "2022-03-11T21:34:38.135961Z",
     "shell.execute_reply.started": "2022-03-11T21:32:39.348206Z"
    },
    "id": "CmQhb_3X86Ki",
    "papermill": {
     "duration": 3.544402,
     "end_time": "2022-03-11T21:34:38.136185",
     "exception": false,
     "start_time": "2022-03-11T21:34:34.591783",
     "status": "completed"
    },
    "tags": []
   },
   "outputs": [],
   "source": [
    "data = nh.load_pickle_file(data_path)"
   ]
  },
  {
   "cell_type": "code",
   "execution_count": 4,
   "id": "ad93a1fc",
   "metadata": {
    "execution": {
     "iopub.execute_input": "2022-03-11T21:34:38.193966Z",
     "iopub.status.busy": "2022-03-11T21:34:38.193284Z",
     "iopub.status.idle": "2022-03-11T21:34:38.215300Z",
     "shell.execute_reply": "2022-03-11T21:34:38.215875Z",
     "shell.execute_reply.started": "2022-03-11T21:32:42.318176Z"
    },
    "id": "p_Jb08vZJrBg",
    "outputId": "dc03bc7c-22f0-411a-c052-bd5df5bd5a4b",
    "papermill": {
     "duration": 0.052269,
     "end_time": "2022-03-11T21:34:38.216050",
     "exception": false,
     "start_time": "2022-03-11T21:34:38.163781",
     "status": "completed"
    },
    "tags": []
   },
   "outputs": [
    {
     "data": {
      "text/html": [
       "<div>\n",
       "<style scoped>\n",
       "    .dataframe tbody tr th:only-of-type {\n",
       "        vertical-align: middle;\n",
       "    }\n",
       "\n",
       "    .dataframe tbody tr th {\n",
       "        vertical-align: top;\n",
       "    }\n",
       "\n",
       "    .dataframe thead th {\n",
       "        text-align: right;\n",
       "    }\n",
       "</style>\n",
       "<table border=\"1\" class=\"dataframe\">\n",
       "  <thead>\n",
       "    <tr style=\"text-align: right;\">\n",
       "      <th></th>\n",
       "      <th>id</th>\n",
       "      <th>text</th>\n",
       "      <th>dialect</th>\n",
       "    </tr>\n",
       "  </thead>\n",
       "  <tbody>\n",
       "    <tr>\n",
       "      <th>0</th>\n",
       "      <td>1175358310087892992</td>\n",
       "      <td>[بالنهايه, ينتفض, يغير]</td>\n",
       "      <td>IQ</td>\n",
       "    </tr>\n",
       "    <tr>\n",
       "      <th>1</th>\n",
       "      <td>1175416117793349632</td>\n",
       "      <td>[يعني, محسوب, البشر, حيونه, ووحشيه, وتطلبون, ا...</td>\n",
       "      <td>IQ</td>\n",
       "    </tr>\n",
       "    <tr>\n",
       "      <th>2</th>\n",
       "      <td>1175450108898565888</td>\n",
       "      <td>[مبين, كلامه, خليجي]</td>\n",
       "      <td>IQ</td>\n",
       "    </tr>\n",
       "    <tr>\n",
       "      <th>3</th>\n",
       "      <td>1175471073770573824</td>\n",
       "      <td>[يسلملي, مرورك, وروحك, الحلوه]</td>\n",
       "      <td>IQ</td>\n",
       "    </tr>\n",
       "    <tr>\n",
       "      <th>4</th>\n",
       "      <td>1175496913145217024</td>\n",
       "      <td>[وين, الغيبه, محمد]</td>\n",
       "      <td>IQ</td>\n",
       "    </tr>\n",
       "  </tbody>\n",
       "</table>\n",
       "</div>"
      ],
      "text/plain": [
       "                    id                                               text  \\\n",
       "0  1175358310087892992                            [بالنهايه, ينتفض, يغير]   \n",
       "1  1175416117793349632  [يعني, محسوب, البشر, حيونه, ووحشيه, وتطلبون, ا...   \n",
       "2  1175450108898565888                               [مبين, كلامه, خليجي]   \n",
       "3  1175471073770573824                     [يسلملي, مرورك, وروحك, الحلوه]   \n",
       "4  1175496913145217024                                [وين, الغيبه, محمد]   \n",
       "\n",
       "  dialect  \n",
       "0      IQ  \n",
       "1      IQ  \n",
       "2      IQ  \n",
       "3      IQ  \n",
       "4      IQ  "
      ]
     },
     "execution_count": 4,
     "metadata": {},
     "output_type": "execute_result"
    }
   ],
   "source": [
    "data.head()"
   ]
  },
  {
   "cell_type": "code",
   "execution_count": 5,
   "id": "feae7c01",
   "metadata": {
    "execution": {
     "iopub.execute_input": "2022-03-11T21:34:38.275415Z",
     "iopub.status.busy": "2022-03-11T21:34:38.274752Z",
     "iopub.status.idle": "2022-03-11T21:34:38.279105Z",
     "shell.execute_reply": "2022-03-11T21:34:38.279643Z",
     "shell.execute_reply.started": "2022-03-11T21:32:42.347191Z"
    },
    "papermill": {
     "duration": 0.035369,
     "end_time": "2022-03-11T21:34:38.279815",
     "exception": false,
     "start_time": "2022-03-11T21:34:38.244446",
     "status": "completed"
    },
    "tags": []
   },
   "outputs": [
    {
     "data": {
      "text/plain": [
       "458197"
      ]
     },
     "execution_count": 5,
     "metadata": {},
     "output_type": "execute_result"
    }
   ],
   "source": [
    "len(data)"
   ]
  },
  {
   "cell_type": "code",
   "execution_count": 6,
   "id": "42029616",
   "metadata": {
    "execution": {
     "iopub.execute_input": "2022-03-11T21:34:38.344713Z",
     "iopub.status.busy": "2022-03-11T21:34:38.343920Z",
     "iopub.status.idle": "2022-03-11T21:34:38.613224Z",
     "shell.execute_reply": "2022-03-11T21:34:38.613741Z",
     "shell.execute_reply.started": "2022-03-11T21:32:42.356211Z"
    },
    "papermill": {
     "duration": 0.30502,
     "end_time": "2022-03-11T21:34:38.613929",
     "exception": false,
     "start_time": "2022-03-11T21:34:38.308909",
     "status": "completed"
    },
    "tags": []
   },
   "outputs": [],
   "source": [
    "data['tweet_length'] = [len(tweet) for tweet in data['text']]"
   ]
  },
  {
   "cell_type": "code",
   "execution_count": 7,
   "id": "8084f146",
   "metadata": {
    "execution": {
     "iopub.execute_input": "2022-03-11T21:34:38.676326Z",
     "iopub.status.busy": "2022-03-11T21:34:38.675592Z",
     "iopub.status.idle": "2022-03-11T21:34:38.707906Z",
     "shell.execute_reply": "2022-03-11T21:34:38.707368Z",
     "shell.execute_reply.started": "2022-03-11T21:32:42.538017Z"
    },
    "papermill": {
     "duration": 0.062988,
     "end_time": "2022-03-11T21:34:38.708058",
     "exception": false,
     "start_time": "2022-03-11T21:34:38.645070",
     "status": "completed"
    },
    "tags": []
   },
   "outputs": [],
   "source": [
    "threshold = 2\n",
    "data = data[data['tweet_length'] > threshold]"
   ]
  },
  {
   "cell_type": "code",
   "execution_count": 8,
   "id": "231c354e",
   "metadata": {
    "execution": {
     "iopub.execute_input": "2022-03-11T21:34:38.768998Z",
     "iopub.status.busy": "2022-03-11T21:34:38.767802Z",
     "iopub.status.idle": "2022-03-11T21:34:38.769679Z",
     "shell.execute_reply": "2022-03-11T21:34:38.770174Z",
     "shell.execute_reply.started": "2022-03-11T21:32:42.569687Z"
    },
    "papermill": {
     "duration": 0.034632,
     "end_time": "2022-03-11T21:34:38.770339",
     "exception": false,
     "start_time": "2022-03-11T21:34:38.735707",
     "status": "completed"
    },
    "tags": []
   },
   "outputs": [],
   "source": [
    "data.reset_index(inplace=True, drop=True)"
   ]
  },
  {
   "cell_type": "code",
   "execution_count": 9,
   "id": "c1642bda",
   "metadata": {
    "execution": {
     "iopub.execute_input": "2022-03-11T21:34:38.831386Z",
     "iopub.status.busy": "2022-03-11T21:34:38.830423Z",
     "iopub.status.idle": "2022-03-11T21:34:38.834280Z",
     "shell.execute_reply": "2022-03-11T21:34:38.833753Z",
     "shell.execute_reply.started": "2022-03-11T21:32:42.575775Z"
    },
    "papermill": {
     "duration": 0.036471,
     "end_time": "2022-03-11T21:34:38.834430",
     "exception": false,
     "start_time": "2022-03-11T21:34:38.797959",
     "status": "completed"
    },
    "tags": []
   },
   "outputs": [
    {
     "data": {
      "text/plain": [
       "449784"
      ]
     },
     "execution_count": 9,
     "metadata": {},
     "output_type": "execute_result"
    }
   ],
   "source": [
    "len(data)"
   ]
  },
  {
   "cell_type": "markdown",
   "id": "d6f07212",
   "metadata": {
    "papermill": {
     "duration": 0.027847,
     "end_time": "2022-03-11T21:34:38.890341",
     "exception": false,
     "start_time": "2022-03-11T21:34:38.862494",
     "status": "completed"
    },
    "tags": []
   },
   "source": [
    "### Convert each tweet to one string\n",
    "Each tweet is a list of words, we want to return it back as one string separated by spaces"
   ]
  },
  {
   "cell_type": "code",
   "execution_count": 10,
   "id": "be4e04b2",
   "metadata": {
    "execution": {
     "iopub.execute_input": "2022-03-11T21:34:38.950433Z",
     "iopub.status.busy": "2022-03-11T21:34:38.949785Z",
     "iopub.status.idle": "2022-03-11T21:34:39.364441Z",
     "shell.execute_reply": "2022-03-11T21:34:39.364915Z",
     "shell.execute_reply.started": "2022-03-11T21:32:42.590572Z"
    },
    "id": "F97UhbFVKQfg",
    "outputId": "c808f441-ff45-40b7-9e81-04b4d0de2dc2",
    "papermill": {
     "duration": 0.445979,
     "end_time": "2022-03-11T21:34:39.365100",
     "exception": false,
     "start_time": "2022-03-11T21:34:38.919121",
     "status": "completed"
    },
    "tags": []
   },
   "outputs": [],
   "source": [
    "data_string = data['text'].apply(nh.get_one_string)"
   ]
  },
  {
   "cell_type": "code",
   "execution_count": 11,
   "id": "acc4866f",
   "metadata": {
    "execution": {
     "iopub.execute_input": "2022-03-11T21:34:39.424471Z",
     "iopub.status.busy": "2022-03-11T21:34:39.423835Z",
     "iopub.status.idle": "2022-03-11T21:34:39.430231Z",
     "shell.execute_reply": "2022-03-11T21:34:39.430700Z",
     "shell.execute_reply.started": "2022-03-11T21:32:42.910106Z"
    },
    "papermill": {
     "duration": 0.037596,
     "end_time": "2022-03-11T21:34:39.430872",
     "exception": false,
     "start_time": "2022-03-11T21:34:39.393276",
     "status": "completed"
    },
    "tags": []
   },
   "outputs": [
    {
     "data": {
      "text/plain": [
       "0                                  بالنهايه ينتفض يغير\n",
       "1    يعني محسوب البشر حيونه ووحشيه وتطلبون الغرب يح...\n",
       "2                                     مبين كلامه خليجي\n",
       "3                            يسلملي مرورك وروحك الحلوه\n",
       "4                                      وين الغيبه محمد\n",
       "Name: text, dtype: object"
      ]
     },
     "execution_count": 11,
     "metadata": {},
     "output_type": "execute_result"
    }
   ],
   "source": [
    "data_string.head()"
   ]
  },
  {
   "cell_type": "code",
   "execution_count": 12,
   "id": "b00711fb",
   "metadata": {
    "execution": {
     "iopub.execute_input": "2022-03-11T21:34:39.491588Z",
     "iopub.status.busy": "2022-03-11T21:34:39.490853Z",
     "iopub.status.idle": "2022-03-11T21:34:39.531275Z",
     "shell.execute_reply": "2022-03-11T21:34:39.530564Z",
     "shell.execute_reply.started": "2022-03-11T21:32:42.920242Z"
    },
    "papermill": {
     "duration": 0.072089,
     "end_time": "2022-03-11T21:34:39.531417",
     "exception": false,
     "start_time": "2022-03-11T21:34:39.459328",
     "status": "completed"
    },
    "tags": []
   },
   "outputs": [],
   "source": [
    "# labels_to_int: dictionary, where its keys are the labels,\n",
    "# and its values are integers starting from 0\n",
    "labels = data['dialect'].unique()\n",
    "labels_to_int, int_to_labels = nh.get_mappings(labels, i=0)"
   ]
  },
  {
   "cell_type": "code",
   "execution_count": 13,
   "id": "a4d84c90",
   "metadata": {
    "execution": {
     "iopub.execute_input": "2022-03-11T21:34:39.594357Z",
     "iopub.status.busy": "2022-03-11T21:34:39.593682Z",
     "iopub.status.idle": "2022-03-11T21:34:39.598321Z",
     "shell.execute_reply": "2022-03-11T21:34:39.597785Z",
     "shell.execute_reply.started": "2022-03-11T21:32:42.962634Z"
    },
    "papermill": {
     "duration": 0.037648,
     "end_time": "2022-03-11T21:34:39.598466",
     "exception": false,
     "start_time": "2022-03-11T21:34:39.560818",
     "status": "completed"
    },
    "tags": []
   },
   "outputs": [],
   "source": [
    "# save labels_to_int, and int_to_labels, they will be needed in inference\n",
    "nh.save_pickle_file(labels_to_int, 'labels_to_int.obj')\n",
    "nh.save_pickle_file(int_to_labels, 'int_to_labels.obj')"
   ]
  },
  {
   "cell_type": "code",
   "execution_count": 14,
   "id": "88e58752",
   "metadata": {
    "execution": {
     "iopub.execute_input": "2022-03-11T21:34:39.693404Z",
     "iopub.status.busy": "2022-03-11T21:34:39.677379Z",
     "iopub.status.idle": "2022-03-11T21:34:40.616225Z",
     "shell.execute_reply": "2022-03-11T21:34:40.615618Z",
     "shell.execute_reply.started": "2022-03-11T21:32:42.969522Z"
    },
    "id": "YjYD9YblEQUY",
    "outputId": "0374b93a-2e88-4be6-b9d2-9f31f6a2e540",
    "papermill": {
     "duration": 0.989411,
     "end_time": "2022-03-11T21:34:40.616379",
     "exception": false,
     "start_time": "2022-03-11T21:34:39.626968",
     "status": "completed"
    },
    "tags": []
   },
   "outputs": [
    {
     "name": "stdout",
     "output_type": "stream",
     "text": [
      "\t\t\tFeatures Shapes:\n",
      "Train set: \t\t(359827,) \n",
      "Validation set: \t(44978,) \n",
      "Test set: \t\t(44979,)\n"
     ]
    }
   ],
   "source": [
    "split_frac = 0.2\n",
    "\n",
    "## split data into training, validation, and test data (features and labels, x and y)\n",
    "X = data_string.values\n",
    "y = data['dialect'].values\n",
    "\n",
    "X_train, X_val, y_train, y_val = train_test_split(X, y, test_size=split_frac, shuffle=True, \n",
    "                                                  random_state=42, stratify=y)\n",
    "X_val, X_test, y_val, y_test = train_test_split(X_val, y_val, test_size=0.5, shuffle=True, \n",
    "                                                random_state=42, stratify=y_val)\n",
    "## print out the shapes of your resultant feature data\n",
    "print('\\t\\t\\tFeatures Shapes:')\n",
    "print('Train set: \\t\\t{}'.format(X_train.shape),\n",
    "     '\\nValidation set: \\t{}'.format(X_val.shape),\n",
    "     '\\nTest set: \\t\\t{}'.format(X_test.shape))"
   ]
  },
  {
   "cell_type": "code",
   "execution_count": 15,
   "id": "9f0e6566",
   "metadata": {
    "execution": {
     "iopub.execute_input": "2022-03-11T21:34:40.715866Z",
     "iopub.status.busy": "2022-03-11T21:34:40.678718Z",
     "iopub.status.idle": "2022-03-11T21:35:20.240423Z",
     "shell.execute_reply": "2022-03-11T21:35:20.240955Z",
     "shell.execute_reply.started": "2022-03-11T21:32:43.534675Z"
    },
    "id": "uUwdTB7uE4l9",
    "outputId": "ed3ad41a-0b59-4ebb-e71d-aec6dcfe361b",
    "papermill": {
     "duration": 39.595411,
     "end_time": "2022-03-11T21:35:20.241124",
     "exception": false,
     "start_time": "2022-03-11T21:34:40.645713",
     "status": "completed"
    },
    "tags": []
   },
   "outputs": [
    {
     "data": {
      "text/plain": [
       "Pipeline(steps=[('vectorizer', TfidfVectorizer(ngram_range=(1, 2))),\n",
       "                ('classifier', MultinomialNB())])"
      ]
     },
     "execution_count": 15,
     "metadata": {},
     "output_type": "execute_result"
    }
   ],
   "source": [
    "# setting ngram_range to (1, 2) to count individual words and bigram words (sequence of two words)\n",
    "tfidf = TfidfVectorizer(ngram_range=(1, 2), dtype=np.float64)\n",
    "classifier = MultinomialNB()\n",
    "\n",
    "pipe = Pipeline([('vectorizer', tfidf), ('classifier', classifier)])\n",
    "pipe.fit(X_train, y_train)"
   ]
  },
  {
   "cell_type": "code",
   "execution_count": 16,
   "id": "11ff7a0b",
   "metadata": {
    "execution": {
     "iopub.execute_input": "2022-03-11T21:35:20.311111Z",
     "iopub.status.busy": "2022-03-11T21:35:20.310030Z",
     "iopub.status.idle": "2022-03-11T21:35:22.144357Z",
     "shell.execute_reply": "2022-03-11T21:35:22.143603Z",
     "shell.execute_reply.started": "2022-03-11T21:33:15.079436Z"
    },
    "id": "HVLnM7l_hu03",
    "papermill": {
     "duration": 1.873458,
     "end_time": "2022-03-11T21:35:22.144504",
     "exception": false,
     "start_time": "2022-03-11T21:35:20.271046",
     "status": "completed"
    },
    "tags": []
   },
   "outputs": [],
   "source": [
    "y_hat = pipe.predict(X_test)"
   ]
  },
  {
   "cell_type": "code",
   "execution_count": 17,
   "id": "9534d174",
   "metadata": {
    "execution": {
     "iopub.execute_input": "2022-03-11T21:35:22.210654Z",
     "iopub.status.busy": "2022-03-11T21:35:22.209887Z",
     "iopub.status.idle": "2022-03-11T21:35:22.212995Z",
     "shell.execute_reply": "2022-03-11T21:35:22.213569Z",
     "shell.execute_reply.started": "2022-03-11T21:33:16.507754Z"
    },
    "id": "3NSE_Dexifjj",
    "outputId": "ffec85a6-6b24-4dcd-c804-ac2899c67626",
    "papermill": {
     "duration": 0.03896,
     "end_time": "2022-03-11T21:35:22.213751",
     "exception": false,
     "start_time": "2022-03-11T21:35:22.174791",
     "status": "completed"
    },
    "tags": []
   },
   "outputs": [
    {
     "name": "stdout",
     "output_type": "stream",
     "text": [
      "Predicted:\n",
      " ['PL' 'PL' 'EG' ... 'PL' 'EG' 'KW']\n",
      "Actual:\n",
      " ['JO' 'PL' 'EG' ... 'PL' 'AE' 'BH']\n"
     ]
    }
   ],
   "source": [
    "print('Predicted:\\n', y_hat)\n",
    "print('Actual:\\n', y_test)"
   ]
  },
  {
   "cell_type": "code",
   "execution_count": 18,
   "id": "cc8b0e30",
   "metadata": {
    "execution": {
     "iopub.execute_input": "2022-03-11T21:35:22.278839Z",
     "iopub.status.busy": "2022-03-11T21:35:22.278089Z",
     "iopub.status.idle": "2022-03-11T21:35:22.626407Z",
     "shell.execute_reply": "2022-03-11T21:35:22.626960Z",
     "shell.execute_reply.started": "2022-03-11T21:33:16.515218Z"
    },
    "id": "D3XEULBQHD3F",
    "outputId": "264dd1a6-26eb-448c-c785-6cb43911d2b3",
    "papermill": {
     "duration": 0.382829,
     "end_time": "2022-03-11T21:35:22.627137",
     "exception": false,
     "start_time": "2022-03-11T21:35:22.244308",
     "status": "completed"
    },
    "tags": []
   },
   "outputs": [
    {
     "data": {
      "text/plain": [
       "0.24427983971932546"
      ]
     },
     "execution_count": 18,
     "metadata": {},
     "output_type": "execute_result"
    }
   ],
   "source": [
    "from sklearn.metrics import f1_score\n",
    "\n",
    "f1_score(y_test, y_hat, average='macro')"
   ]
  },
  {
   "cell_type": "code",
   "execution_count": 19,
   "id": "87ba9002",
   "metadata": {
    "execution": {
     "iopub.execute_input": "2022-03-11T21:35:22.691736Z",
     "iopub.status.busy": "2022-03-11T21:35:22.691029Z",
     "iopub.status.idle": "2022-03-11T21:35:22.694218Z",
     "shell.execute_reply": "2022-03-11T21:35:22.694766Z",
     "shell.execute_reply.started": "2022-03-11T21:33:16.726031Z"
    },
    "id": "PIz1pJDhhtS4",
    "papermill": {
     "duration": 0.036566,
     "end_time": "2022-03-11T21:35:22.694927",
     "exception": false,
     "start_time": "2022-03-11T21:35:22.658361",
     "status": "completed"
    },
    "tags": []
   },
   "outputs": [],
   "source": [
    "\n",
    "# pipe2 = Pipeline([('vectorizer', tfidf), ('classifier', SVC())])\n",
    "\n",
    "# pipe2.fit(X_train, y_train)"
   ]
  },
  {
   "cell_type": "code",
   "execution_count": 20,
   "id": "34cbdb04",
   "metadata": {
    "execution": {
     "iopub.execute_input": "2022-03-11T21:35:22.759995Z",
     "iopub.status.busy": "2022-03-11T21:35:22.759004Z",
     "iopub.status.idle": "2022-03-11T21:35:24.624845Z",
     "shell.execute_reply": "2022-03-11T21:35:24.624254Z",
     "shell.execute_reply.started": "2022-03-11T21:33:16.731673Z"
    },
    "id": "NaiPrg4BjgF2",
    "outputId": "91c787c7-08af-4125-abac-3590b5d829b5",
    "papermill": {
     "duration": 1.899511,
     "end_time": "2022-03-11T21:35:24.624998",
     "exception": false,
     "start_time": "2022-03-11T21:35:22.725487",
     "status": "completed"
    },
    "tags": []
   },
   "outputs": [
    {
     "name": "stdout",
     "output_type": "stream",
     "text": [
      "['PL' 'PL' 'EG' ... 'PL' 'EG' 'KW']\n",
      "['JO' 'PL' 'EG' ... 'PL' 'AE' 'BH']\n"
     ]
    }
   ],
   "source": [
    "y_hat = pipe.predict(X_test)\n",
    "print(y_hat)\n",
    "print(y_test)"
   ]
  },
  {
   "cell_type": "code",
   "execution_count": 21,
   "id": "f84a39eb",
   "metadata": {
    "execution": {
     "iopub.execute_input": "2022-03-11T21:35:24.736922Z",
     "iopub.status.busy": "2022-03-11T21:35:24.700277Z",
     "iopub.status.idle": "2022-03-11T21:35:26.862168Z",
     "shell.execute_reply": "2022-03-11T21:35:26.861551Z",
     "shell.execute_reply.started": "2022-03-11T21:33:18.138426Z"
    },
    "id": "IbDUivDbj1vE",
    "outputId": "e5e1ad91-325d-4a24-b19a-13a6ee8905bd",
    "papermill": {
     "duration": 2.20633,
     "end_time": "2022-03-11T21:35:26.862312",
     "exception": false,
     "start_time": "2022-03-11T21:35:24.655982",
     "status": "completed"
    },
    "tags": []
   },
   "outputs": [
    {
     "data": {
      "text/plain": [
       "0.24172671478331006"
      ]
     },
     "execution_count": 21,
     "metadata": {},
     "output_type": "execute_result"
    }
   ],
   "source": [
    "y_hat = pipe.predict(X_val)\n",
    "f1_score(y_val, y_hat, average='macro')"
   ]
  },
  {
   "cell_type": "code",
   "execution_count": 22,
   "id": "b0383b04",
   "metadata": {
    "execution": {
     "iopub.execute_input": "2022-03-11T21:35:26.932301Z",
     "iopub.status.busy": "2022-03-11T21:35:26.931269Z",
     "iopub.status.idle": "2022-03-11T21:35:26.933389Z",
     "shell.execute_reply": "2022-03-11T21:35:26.933916Z",
     "shell.execute_reply.started": "2022-03-11T21:33:19.908610Z"
    },
    "id": "1ZmMUVsIktUL",
    "papermill": {
     "duration": 0.0406,
     "end_time": "2022-03-11T21:35:26.934094",
     "exception": false,
     "start_time": "2022-03-11T21:35:26.893494",
     "status": "completed"
    },
    "tags": []
   },
   "outputs": [],
   "source": [
    "def test(classifier):\n",
    "    pipe_line = Pipeline([('vectorizer', tfidf), ('classifier', classifier)])\n",
    "    pipe_line.fit(X_train, y_train)\n",
    "\n",
    "    y_hat = pipe_line.predict(X_val)\n",
    "\n",
    "    print('Predicted:\\n', y_hat)\n",
    "    print('Actual:\\n', y_val)\n",
    "    print(f1_score(y_val, y_hat, average='macro'))\n",
    "    nh.save_pickle_file(pipe_line, 'pipe_rf_20.obj')\n",
    "    return f1_score(y_val, y_hat, average='macro')"
   ]
  },
  {
   "cell_type": "code",
   "execution_count": 23,
   "id": "c952f730",
   "metadata": {
    "execution": {
     "iopub.execute_input": "2022-03-11T21:35:27.037354Z",
     "iopub.status.busy": "2022-03-11T21:35:27.000201Z",
     "iopub.status.idle": "2022-03-12T04:47:14.939175Z",
     "shell.execute_reply": "2022-03-12T04:47:14.939977Z",
     "shell.execute_reply.started": "2022-03-11T21:33:19.918286Z"
    },
    "id": "9clyH6uBnaRd",
    "papermill": {
     "duration": 25907.974878,
     "end_time": "2022-03-12T04:47:14.940334",
     "exception": false,
     "start_time": "2022-03-11T21:35:26.965456",
     "status": "completed"
    },
    "tags": []
   },
   "outputs": [
    {
     "name": "stdout",
     "output_type": "stream",
     "text": [
      "Predicted:\n",
      " ['LY' 'EG' 'EG' ... 'SA' 'KW' 'PL']\n",
      "Actual:\n",
      " ['BH' 'PL' 'DZ' ... 'SA' 'OM' 'PL']\n",
      "0.3585734302190894\n"
     ]
    },
    {
     "data": {
      "text/plain": [
       "0.3585734302190894"
      ]
     },
     "execution_count": 23,
     "metadata": {},
     "output_type": "execute_result"
    }
   ],
   "source": [
    "rf = RandomForestClassifier(n_estimators=20, random_state=42, class_weight='balanced')\n",
    "test(rf)"
   ]
  },
  {
   "cell_type": "code",
   "execution_count": 24,
   "id": "009a7add",
   "metadata": {
    "execution": {
     "iopub.execute_input": "2022-03-12T04:47:18.958632Z",
     "iopub.status.busy": "2022-03-12T04:47:18.957555Z",
     "iopub.status.idle": "2022-03-12T04:47:29.866843Z",
     "shell.execute_reply": "2022-03-12T04:47:29.864274Z",
     "shell.execute_reply.started": "2022-03-11T21:33:33.513449Z"
    },
    "papermill": {
     "duration": 14.891722,
     "end_time": "2022-03-12T04:47:29.867505",
     "exception": false,
     "start_time": "2022-03-12T04:47:14.975783",
     "status": "completed"
    },
    "tags": []
   },
   "outputs": [],
   "source": [
    "nh.save_pickle_file(rf, 'rf_20.obj')"
   ]
  },
  {
   "cell_type": "code",
   "execution_count": null,
   "id": "6965cd8e",
   "metadata": {
    "papermill": {
     "duration": 0.098354,
     "end_time": "2022-03-12T04:47:30.071841",
     "exception": false,
     "start_time": "2022-03-12T04:47:29.973487",
     "status": "completed"
    },
    "tags": []
   },
   "outputs": [],
   "source": []
  },
  {
   "cell_type": "code",
   "execution_count": null,
   "id": "eb6dcf42",
   "metadata": {
    "papermill": {
     "duration": 0.104929,
     "end_time": "2022-03-12T04:47:30.683058",
     "exception": false,
     "start_time": "2022-03-12T04:47:30.578129",
     "status": "completed"
    },
    "tags": []
   },
   "outputs": [],
   "source": []
  }
 ],
 "metadata": {
  "kernelspec": {
   "display_name": "Python 3 (ipykernel)",
   "language": "python",
   "name": "python3"
  },
  "language_info": {
   "codemirror_mode": {
    "name": "ipython",
    "version": 3
   },
   "file_extension": ".py",
   "mimetype": "text/x-python",
   "name": "python",
   "nbconvert_exporter": "python",
   "pygments_lexer": "ipython3",
   "version": "3.8.10"
  },
  "papermill": {
   "default_parameters": {},
   "duration": 25993.265291,
   "end_time": "2022-03-12T04:47:33.666506",
   "environment_variables": {},
   "exception": null,
   "input_path": "__notebook__.ipynb",
   "output_path": "__notebook__.ipynb",
   "parameters": {},
   "start_time": "2022-03-11T21:34:20.401215",
   "version": "2.3.3"
  }
 },
 "nbformat": 4,
 "nbformat_minor": 5
}
