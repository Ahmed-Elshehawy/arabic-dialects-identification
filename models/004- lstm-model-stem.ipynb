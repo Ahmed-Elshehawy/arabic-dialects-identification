{
 "cells": [
  {
   "cell_type": "code",
   "execution_count": 1,
   "id": "2dc7025e",
   "metadata": {
    "execution": {
     "iopub.execute_input": "2022-03-12T22:06:19.507286Z",
     "iopub.status.busy": "2022-03-12T22:06:19.505761Z",
     "iopub.status.idle": "2022-03-12T22:06:22.303993Z",
     "shell.execute_reply": "2022-03-12T22:06:22.305017Z",
     "shell.execute_reply.started": "2022-03-12T22:01:55.092257Z"
    },
    "executionInfo": {
     "elapsed": 18,
     "status": "ok",
     "timestamp": 1646806729425,
     "user": {
      "displayName": "Ahmed Elshehawy",
      "photoUrl": "https://lh3.googleusercontent.com/a/default-user=s64",
      "userId": "14316704093209259342"
     },
     "user_tz": -120
    },
    "id": "cnDyigVzCum_",
    "papermill": {
     "duration": 2.846512,
     "end_time": "2022-03-12T22:06:22.305408",
     "exception": false,
     "start_time": "2022-03-12T22:06:19.458896",
     "status": "completed"
    },
    "tags": []
   },
   "outputs": [],
   "source": [
    "import numpy as np\n",
    "import pandas as pd\n",
    "from sklearn.model_selection import train_test_split\n",
    "from sklearn.utils.class_weight import compute_class_weight\n",
    "import torch\n",
    "import torch.nn as nn\n",
    "from torch.nn import init\n",
    "import torch.nn.functional as F\n",
    "from torch.utils.data import TensorDataset, DataLoader\n",
    "import torch.optim as optim\n",
    "import nlp_helpers as nh\n",
    "from lstm_helpers import DialectRNN\n",
    "import lstm_helpers as lh"
   ]
  },
  {
   "cell_type": "markdown",
   "id": "1cde67a2",
   "metadata": {
    "id": "_Ta9myRFChMI",
    "papermill": {
     "duration": 0.065808,
     "end_time": "2022-03-12T22:06:22.441249",
     "exception": false,
     "start_time": "2022-03-12T22:06:22.375441",
     "status": "completed"
    },
    "tags": []
   },
   "source": [
    "### Load preocessed data, using data with stem"
   ]
  },
  {
   "cell_type": "code",
   "execution_count": 2,
   "id": "8d8900ff",
   "metadata": {
    "execution": {
     "iopub.execute_input": "2022-03-12T22:06:22.553530Z",
     "iopub.status.busy": "2022-03-12T22:06:22.552659Z",
     "iopub.status.idle": "2022-03-12T22:06:22.554895Z",
     "shell.execute_reply": "2022-03-12T22:06:22.554354Z",
     "shell.execute_reply.started": "2022-03-12T22:01:58.467239Z"
    },
    "executionInfo": {
     "elapsed": 16,
     "status": "ok",
     "timestamp": 1646806729429,
     "user": {
      "displayName": "Ahmed Elshehawy",
      "photoUrl": "https://lh3.googleusercontent.com/a/default-user=s64",
      "userId": "14316704093209259342"
     },
     "user_tz": -120
    },
    "id": "k1F1ciXeCsTk",
    "papermill": {
     "duration": 0.048203,
     "end_time": "2022-03-12T22:06:22.555004",
     "exception": false,
     "start_time": "2022-03-12T22:06:22.506801",
     "status": "completed"
    },
    "tags": []
   },
   "outputs": [],
   "source": [
    "data_with_stem_path = '../input/preprocessing-with-stem/preprocessed_data_with_stem.obj'"
   ]
  },
  {
   "cell_type": "code",
   "execution_count": 3,
   "id": "8cd90bcc",
   "metadata": {
    "execution": {
     "iopub.execute_input": "2022-03-12T22:06:22.633916Z",
     "iopub.status.busy": "2022-03-12T22:06:22.633395Z",
     "iopub.status.idle": "2022-03-12T22:06:25.352906Z",
     "shell.execute_reply": "2022-03-12T22:06:25.352321Z",
     "shell.execute_reply.started": "2022-03-12T22:01:58.474539Z"
    },
    "executionInfo": {
     "elapsed": 2834,
     "status": "ok",
     "timestamp": 1646806732248,
     "user": {
      "displayName": "Ahmed Elshehawy",
      "photoUrl": "https://lh3.googleusercontent.com/a/default-user=s64",
      "userId": "14316704093209259342"
     },
     "user_tz": -120
    },
    "id": "UNi56LhiCKTO",
    "papermill": {
     "duration": 2.759907,
     "end_time": "2022-03-12T22:06:25.353035",
     "exception": false,
     "start_time": "2022-03-12T22:06:22.593128",
     "status": "completed"
    },
    "tags": []
   },
   "outputs": [],
   "source": [
    "data_with_stem = nh.load_pickle_file(data_with_stem_path)"
   ]
  },
  {
   "cell_type": "code",
   "execution_count": 4,
   "id": "5feff2d3",
   "metadata": {
    "execution": {
     "iopub.execute_input": "2022-03-12T22:06:25.435882Z",
     "iopub.status.busy": "2022-03-12T22:06:25.435139Z",
     "iopub.status.idle": "2022-03-12T22:06:25.449521Z",
     "shell.execute_reply": "2022-03-12T22:06:25.449940Z",
     "shell.execute_reply.started": "2022-03-12T22:02:01.748844Z"
    },
    "papermill": {
     "duration": 0.05876,
     "end_time": "2022-03-12T22:06:25.450063",
     "exception": false,
     "start_time": "2022-03-12T22:06:25.391303",
     "status": "completed"
    },
    "tags": []
   },
   "outputs": [
    {
     "data": {
      "text/html": [
       "<div>\n",
       "<style scoped>\n",
       "    .dataframe tbody tr th:only-of-type {\n",
       "        vertical-align: middle;\n",
       "    }\n",
       "\n",
       "    .dataframe tbody tr th {\n",
       "        vertical-align: top;\n",
       "    }\n",
       "\n",
       "    .dataframe thead th {\n",
       "        text-align: right;\n",
       "    }\n",
       "</style>\n",
       "<table border=\"1\" class=\"dataframe\">\n",
       "  <thead>\n",
       "    <tr style=\"text-align: right;\">\n",
       "      <th></th>\n",
       "      <th>id</th>\n",
       "      <th>text</th>\n",
       "      <th>dialect</th>\n",
       "    </tr>\n",
       "  </thead>\n",
       "  <tbody>\n",
       "    <tr>\n",
       "      <th>0</th>\n",
       "      <td>1175358310087892992</td>\n",
       "      <td>[نهي, نفض, يغر]</td>\n",
       "      <td>IQ</td>\n",
       "    </tr>\n",
       "    <tr>\n",
       "      <th>1</th>\n",
       "      <td>1175416117793349632</td>\n",
       "      <td>[يعن, بشر, وحش, طلب, غرب, حرم, يءم, بدن, ينع, ...</td>\n",
       "      <td>IQ</td>\n",
       "    </tr>\n",
       "    <tr>\n",
       "      <th>2</th>\n",
       "      <td>1175450108898565888</td>\n",
       "      <td>[كلم, خلج]</td>\n",
       "      <td>IQ</td>\n",
       "    </tr>\n",
       "    <tr>\n",
       "      <th>3</th>\n",
       "      <td>1175471073770573824</td>\n",
       "      <td>[لمل, رور, ورح, حلوه]</td>\n",
       "      <td>IQ</td>\n",
       "    </tr>\n",
       "    <tr>\n",
       "      <th>4</th>\n",
       "      <td>1175496913145217024</td>\n",
       "      <td>[وين, غيب, حمد]</td>\n",
       "      <td>IQ</td>\n",
       "    </tr>\n",
       "  </tbody>\n",
       "</table>\n",
       "</div>"
      ],
      "text/plain": [
       "                    id                                               text  \\\n",
       "0  1175358310087892992                                    [نهي, نفض, يغر]   \n",
       "1  1175416117793349632  [يعن, بشر, وحش, طلب, غرب, حرم, يءم, بدن, ينع, ...   \n",
       "2  1175450108898565888                                         [كلم, خلج]   \n",
       "3  1175471073770573824                              [لمل, رور, ورح, حلوه]   \n",
       "4  1175496913145217024                                    [وين, غيب, حمد]   \n",
       "\n",
       "  dialect  \n",
       "0      IQ  \n",
       "1      IQ  \n",
       "2      IQ  \n",
       "3      IQ  \n",
       "4      IQ  "
      ]
     },
     "execution_count": 4,
     "metadata": {},
     "output_type": "execute_result"
    }
   ],
   "source": [
    "data_with_stem.head()"
   ]
  },
  {
   "cell_type": "code",
   "execution_count": 5,
   "id": "4e5e3743",
   "metadata": {
    "execution": {
     "iopub.execute_input": "2022-03-12T22:06:25.567529Z",
     "iopub.status.busy": "2022-03-12T22:06:25.562169Z",
     "iopub.status.idle": "2022-03-12T22:06:25.765690Z",
     "shell.execute_reply": "2022-03-12T22:06:25.766154Z",
     "shell.execute_reply.started": "2022-03-12T22:02:01.775314Z"
    },
    "executionInfo": {
     "elapsed": 37,
     "status": "ok",
     "timestamp": 1646806732251,
     "user": {
      "displayName": "Ahmed Elshehawy",
      "photoUrl": "https://lh3.googleusercontent.com/a/default-user=s64",
      "userId": "14316704093209259342"
     },
     "user_tz": -120
    },
    "id": "Fu-DAwUuRMTW",
    "papermill": {
     "duration": 0.277507,
     "end_time": "2022-03-12T22:06:25.766307",
     "exception": false,
     "start_time": "2022-03-12T22:06:25.488800",
     "status": "completed"
    },
    "tags": []
   },
   "outputs": [],
   "source": [
    "data_with_stem['tweet_length'] = [len(tweet) for tweet in data_with_stem['text']]"
   ]
  },
  {
   "cell_type": "code",
   "execution_count": 6,
   "id": "7420d0c8",
   "metadata": {
    "execution": {
     "iopub.execute_input": "2022-03-12T22:06:25.854201Z",
     "iopub.status.busy": "2022-03-12T22:06:25.853574Z",
     "iopub.status.idle": "2022-03-12T22:06:25.856673Z",
     "shell.execute_reply": "2022-03-12T22:06:25.857099Z",
     "shell.execute_reply.started": "2022-03-12T22:02:02.049565Z"
    },
    "executionInfo": {
     "elapsed": 37,
     "status": "ok",
     "timestamp": 1646806732253,
     "user": {
      "displayName": "Ahmed Elshehawy",
      "photoUrl": "https://lh3.googleusercontent.com/a/default-user=s64",
      "userId": "14316704093209259342"
     },
     "user_tz": -120
    },
    "id": "0TrpN5BMRWFJ",
    "outputId": "75899a15-b1bf-46b9-ac11-14161f3e51d5",
    "papermill": {
     "duration": 0.052368,
     "end_time": "2022-03-12T22:06:25.857248",
     "exception": false,
     "start_time": "2022-03-12T22:06:25.804880",
     "status": "completed"
    },
    "tags": []
   },
   "outputs": [
    {
     "data": {
      "text/html": [
       "<div>\n",
       "<style scoped>\n",
       "    .dataframe tbody tr th:only-of-type {\n",
       "        vertical-align: middle;\n",
       "    }\n",
       "\n",
       "    .dataframe tbody tr th {\n",
       "        vertical-align: top;\n",
       "    }\n",
       "\n",
       "    .dataframe thead th {\n",
       "        text-align: right;\n",
       "    }\n",
       "</style>\n",
       "<table border=\"1\" class=\"dataframe\">\n",
       "  <thead>\n",
       "    <tr style=\"text-align: right;\">\n",
       "      <th></th>\n",
       "      <th>id</th>\n",
       "      <th>text</th>\n",
       "      <th>dialect</th>\n",
       "      <th>tweet_length</th>\n",
       "    </tr>\n",
       "  </thead>\n",
       "  <tbody>\n",
       "    <tr>\n",
       "      <th>0</th>\n",
       "      <td>1175358310087892992</td>\n",
       "      <td>[نهي, نفض, يغر]</td>\n",
       "      <td>IQ</td>\n",
       "      <td>3</td>\n",
       "    </tr>\n",
       "    <tr>\n",
       "      <th>1</th>\n",
       "      <td>1175416117793349632</td>\n",
       "      <td>[يعن, بشر, وحش, طلب, غرب, حرم, يءم, بدن, ينع, ...</td>\n",
       "      <td>IQ</td>\n",
       "      <td>10</td>\n",
       "    </tr>\n",
       "    <tr>\n",
       "      <th>2</th>\n",
       "      <td>1175450108898565888</td>\n",
       "      <td>[كلم, خلج]</td>\n",
       "      <td>IQ</td>\n",
       "      <td>2</td>\n",
       "    </tr>\n",
       "    <tr>\n",
       "      <th>3</th>\n",
       "      <td>1175471073770573824</td>\n",
       "      <td>[لمل, رور, ورح, حلوه]</td>\n",
       "      <td>IQ</td>\n",
       "      <td>4</td>\n",
       "    </tr>\n",
       "    <tr>\n",
       "      <th>4</th>\n",
       "      <td>1175496913145217024</td>\n",
       "      <td>[وين, غيب, حمد]</td>\n",
       "      <td>IQ</td>\n",
       "      <td>3</td>\n",
       "    </tr>\n",
       "  </tbody>\n",
       "</table>\n",
       "</div>"
      ],
      "text/plain": [
       "                    id                                               text  \\\n",
       "0  1175358310087892992                                    [نهي, نفض, يغر]   \n",
       "1  1175416117793349632  [يعن, بشر, وحش, طلب, غرب, حرم, يءم, بدن, ينع, ...   \n",
       "2  1175450108898565888                                         [كلم, خلج]   \n",
       "3  1175471073770573824                              [لمل, رور, ورح, حلوه]   \n",
       "4  1175496913145217024                                    [وين, غيب, حمد]   \n",
       "\n",
       "  dialect  tweet_length  \n",
       "0      IQ             3  \n",
       "1      IQ            10  \n",
       "2      IQ             2  \n",
       "3      IQ             4  \n",
       "4      IQ             3  "
      ]
     },
     "execution_count": 6,
     "metadata": {},
     "output_type": "execute_result"
    }
   ],
   "source": [
    "data_with_stem.head()"
   ]
  },
  {
   "cell_type": "code",
   "execution_count": 7,
   "id": "379299f7",
   "metadata": {
    "execution": {
     "iopub.execute_input": "2022-03-12T22:06:25.940529Z",
     "iopub.status.busy": "2022-03-12T22:06:25.939471Z",
     "iopub.status.idle": "2022-03-12T22:06:25.942443Z",
     "shell.execute_reply": "2022-03-12T22:06:25.942844Z",
     "shell.execute_reply.started": "2022-03-12T22:02:02.064916Z"
    },
    "executionInfo": {
     "elapsed": 35,
     "status": "ok",
     "timestamp": 1646806732254,
     "user": {
      "displayName": "Ahmed Elshehawy",
      "photoUrl": "https://lh3.googleusercontent.com/a/default-user=s64",
      "userId": "14316704093209259342"
     },
     "user_tz": -120
    },
    "id": "yPkxLYPyRqAY",
    "outputId": "90fb310c-6f7e-48a7-d1d3-2da217e193ea",
    "papermill": {
     "duration": 0.04679,
     "end_time": "2022-03-12T22:06:25.942953",
     "exception": false,
     "start_time": "2022-03-12T22:06:25.896163",
     "status": "completed"
    },
    "tags": []
   },
   "outputs": [
    {
     "data": {
      "text/plain": [
       "458197"
      ]
     },
     "execution_count": 7,
     "metadata": {},
     "output_type": "execute_result"
    }
   ],
   "source": [
    "len(data_with_stem)"
   ]
  },
  {
   "cell_type": "markdown",
   "id": "cb00eed6",
   "metadata": {
    "papermill": {
     "duration": 0.038617,
     "end_time": "2022-03-12T22:06:26.020392",
     "exception": false,
     "start_time": "2022-03-12T22:06:25.981775",
     "status": "completed"
    },
    "tags": []
   },
   "source": [
    "### Delete too short tweets"
   ]
  },
  {
   "cell_type": "code",
   "execution_count": 8,
   "id": "0e8a33c5",
   "metadata": {
    "execution": {
     "iopub.execute_input": "2022-03-12T22:06:26.104926Z",
     "iopub.status.busy": "2022-03-12T22:06:26.103952Z",
     "iopub.status.idle": "2022-03-12T22:06:26.133200Z",
     "shell.execute_reply": "2022-03-12T22:06:26.133642Z",
     "shell.execute_reply.started": "2022-03-12T22:02:02.077918Z"
    },
    "executionInfo": {
     "elapsed": 43,
     "status": "ok",
     "timestamp": 1646806732723,
     "user": {
      "displayName": "Ahmed Elshehawy",
      "photoUrl": "https://lh3.googleusercontent.com/a/default-user=s64",
      "userId": "14316704093209259342"
     },
     "user_tz": -120
    },
    "id": "fLkfmzoXRkRc",
    "papermill": {
     "duration": 0.072749,
     "end_time": "2022-03-12T22:06:26.133792",
     "exception": false,
     "start_time": "2022-03-12T22:06:26.061043",
     "status": "completed"
    },
    "tags": []
   },
   "outputs": [],
   "source": [
    "threshold = 2\n",
    "data_with_stem = data_with_stem[data_with_stem['tweet_length'] > threshold]"
   ]
  },
  {
   "cell_type": "code",
   "execution_count": 9,
   "id": "45ba910c",
   "metadata": {
    "execution": {
     "iopub.execute_input": "2022-03-12T22:06:26.217280Z",
     "iopub.status.busy": "2022-03-12T22:06:26.215733Z",
     "iopub.status.idle": "2022-03-12T22:06:26.217986Z",
     "shell.execute_reply": "2022-03-12T22:06:26.218483Z",
     "shell.execute_reply.started": "2022-03-12T22:02:02.117516Z"
    },
    "executionInfo": {
     "elapsed": 41,
     "status": "ok",
     "timestamp": 1646806732724,
     "user": {
      "displayName": "Ahmed Elshehawy",
      "photoUrl": "https://lh3.googleusercontent.com/a/default-user=s64",
      "userId": "14316704093209259342"
     },
     "user_tz": -120
    },
    "id": "0-G3LhqbRuMF",
    "papermill": {
     "duration": 0.045229,
     "end_time": "2022-03-12T22:06:26.218619",
     "exception": false,
     "start_time": "2022-03-12T22:06:26.173390",
     "status": "completed"
    },
    "tags": []
   },
   "outputs": [],
   "source": [
    "data_with_stem.reset_index(inplace=True, drop=True)"
   ]
  },
  {
   "cell_type": "code",
   "execution_count": 10,
   "id": "150ec701",
   "metadata": {
    "execution": {
     "iopub.execute_input": "2022-03-12T22:06:26.302191Z",
     "iopub.status.busy": "2022-03-12T22:06:26.301097Z",
     "iopub.status.idle": "2022-03-12T22:06:26.304083Z",
     "shell.execute_reply": "2022-03-12T22:06:26.304511Z",
     "shell.execute_reply.started": "2022-03-12T22:02:02.128846Z"
    },
    "executionInfo": {
     "elapsed": 41,
     "status": "ok",
     "timestamp": 1646806732726,
     "user": {
      "displayName": "Ahmed Elshehawy",
      "photoUrl": "https://lh3.googleusercontent.com/a/default-user=s64",
      "userId": "14316704093209259342"
     },
     "user_tz": -120
    },
    "id": "osJH4BCKRrxa",
    "outputId": "5bd17a2c-8889-4d34-e4e9-16d6c8de0b1a",
    "papermill": {
     "duration": 0.047054,
     "end_time": "2022-03-12T22:06:26.304632",
     "exception": false,
     "start_time": "2022-03-12T22:06:26.257578",
     "status": "completed"
    },
    "tags": []
   },
   "outputs": [
    {
     "data": {
      "text/plain": [
       "445111"
      ]
     },
     "execution_count": 10,
     "metadata": {},
     "output_type": "execute_result"
    }
   ],
   "source": [
    "len(data_with_stem)"
   ]
  },
  {
   "cell_type": "markdown",
   "id": "eb689f05",
   "metadata": {
    "id": "p-gOTqdgF8_y",
    "papermill": {
     "duration": 0.039049,
     "end_time": "2022-03-12T22:06:26.382947",
     "exception": false,
     "start_time": "2022-03-12T22:06:26.343898",
     "status": "completed"
    },
    "tags": []
   },
   "source": [
    "### Create vocabulary"
   ]
  },
  {
   "cell_type": "code",
   "execution_count": 11,
   "id": "0a4612c6",
   "metadata": {
    "execution": {
     "iopub.execute_input": "2022-03-12T22:06:26.465976Z",
     "iopub.status.busy": "2022-03-12T22:06:26.465110Z",
     "iopub.status.idle": "2022-03-12T22:06:27.310286Z",
     "shell.execute_reply": "2022-03-12T22:06:27.309830Z",
     "shell.execute_reply.started": "2022-03-12T22:02:02.138627Z"
    },
    "executionInfo": {
     "elapsed": 1280,
     "status": "ok",
     "timestamp": 1646806733974,
     "user": {
      "displayName": "Ahmed Elshehawy",
      "photoUrl": "https://lh3.googleusercontent.com/a/default-user=s64",
      "userId": "14316704093209259342"
     },
     "user_tz": -120
    },
    "id": "ycqUJJ7gCz0Q",
    "papermill": {
     "duration": 0.888128,
     "end_time": "2022-03-12T22:06:27.310440",
     "exception": false,
     "start_time": "2022-03-12T22:06:26.422312",
     "status": "completed"
    },
    "tags": []
   },
   "outputs": [],
   "source": [
    "# first, get all words in this corpus\n",
    "words = nh.get_corpus_words(data_with_stem['text'])"
   ]
  },
  {
   "cell_type": "code",
   "execution_count": 12,
   "id": "2d86d134",
   "metadata": {
    "execution": {
     "iopub.execute_input": "2022-03-12T22:06:27.397530Z",
     "iopub.status.busy": "2022-03-12T22:06:27.396296Z",
     "iopub.status.idle": "2022-03-12T22:06:27.401103Z",
     "shell.execute_reply": "2022-03-12T22:06:27.400689Z",
     "shell.execute_reply.started": "2022-03-12T22:02:03.089448Z"
    },
    "executionInfo": {
     "elapsed": 13,
     "status": "ok",
     "timestamp": 1646806733975,
     "user": {
      "displayName": "Ahmed Elshehawy",
      "photoUrl": "https://lh3.googleusercontent.com/a/default-user=s64",
      "userId": "14316704093209259342"
     },
     "user_tz": -120
    },
    "id": "82geTn91GBm9",
    "outputId": "4b41c1c7-8826-4144-a9bd-5b89332926a8",
    "papermill": {
     "duration": 0.051005,
     "end_time": "2022-03-12T22:06:27.401206",
     "exception": false,
     "start_time": "2022-03-12T22:06:27.350201",
     "status": "completed"
    },
    "tags": []
   },
   "outputs": [
    {
     "name": "stdout",
     "output_type": "stream",
     "text": [
      "The number of words in our this corpus: 4512842\n",
      "Sample words\n"
     ]
    },
    {
     "data": {
      "text/plain": [
       "['نهي', 'نفض', 'يغر', 'يعن', 'بشر', 'وحش', 'طلب', 'غرب', 'حرم', 'يءم']"
      ]
     },
     "execution_count": 12,
     "metadata": {},
     "output_type": "execute_result"
    }
   ],
   "source": [
    "print('The number of words in our this corpus:', len(words))\n",
    "print('Sample words')\n",
    "words[:10]"
   ]
  },
  {
   "cell_type": "code",
   "execution_count": 13,
   "id": "40a7dc7b",
   "metadata": {
    "execution": {
     "iopub.execute_input": "2022-03-12T22:06:28.128149Z",
     "iopub.status.busy": "2022-03-12T22:06:28.127299Z",
     "iopub.status.idle": "2022-03-12T22:06:28.129549Z",
     "shell.execute_reply": "2022-03-12T22:06:28.129973Z",
     "shell.execute_reply.started": "2022-03-12T22:02:04.174860Z"
    },
    "executionInfo": {
     "elapsed": 375,
     "status": "ok",
     "timestamp": 1646806735834,
     "user": {
      "displayName": "Ahmed Elshehawy",
      "photoUrl": "https://lh3.googleusercontent.com/a/default-user=s64",
      "userId": "14316704093209259342"
     },
     "user_tz": -120
    },
    "id": "s4cLLACWGD69",
    "papermill": {
     "duration": 0.688816,
     "end_time": "2022-03-12T22:06:28.130123",
     "exception": false,
     "start_time": "2022-03-12T22:06:27.441307",
     "status": "completed"
    },
    "tags": []
   },
   "outputs": [],
   "source": [
    "# vocab: contains unique words only, ordered form most frequent to least frequent\n",
    "vocab = nh.get_vocab(words)"
   ]
  },
  {
   "cell_type": "code",
   "execution_count": 14,
   "id": "ffaccc67",
   "metadata": {
    "execution": {
     "iopub.execute_input": "2022-03-12T22:06:28.217158Z",
     "iopub.status.busy": "2022-03-12T22:06:28.216256Z",
     "iopub.status.idle": "2022-03-12T22:06:28.220649Z",
     "shell.execute_reply": "2022-03-12T22:06:28.221050Z",
     "shell.execute_reply.started": "2022-03-12T22:02:05.273902Z"
    },
    "executionInfo": {
     "elapsed": 13,
     "status": "ok",
     "timestamp": 1646806735836,
     "user": {
      "displayName": "Ahmed Elshehawy",
      "photoUrl": "https://lh3.googleusercontent.com/a/default-user=s64",
      "userId": "14316704093209259342"
     },
     "user_tz": -120
    },
    "id": "9UZnVzbqGNhS",
    "outputId": "c7a959dd-a51b-4f59-c7bd-57c22dbe1042",
    "papermill": {
     "duration": 0.04994,
     "end_time": "2022-03-12T22:06:28.221175",
     "exception": false,
     "start_time": "2022-03-12T22:06:28.171235",
     "status": "completed"
    },
    "tags": []
   },
   "outputs": [
    {
     "name": "stdout",
     "output_type": "stream",
     "text": [
      "The number of unique words: 131093\n",
      "Sample of most frequent words\n"
     ]
    },
    {
     "data": {
      "text/plain": [
       "['الل', 'مش', 'ولل', 'عرف', 'وحد', 'كلم', 'ناس', 'شي', 'عمل', 'طلع']"
      ]
     },
     "execution_count": 14,
     "metadata": {},
     "output_type": "execute_result"
    }
   ],
   "source": [
    "print('The number of unique words:', len(vocab))\n",
    "print('Sample of most frequent words')\n",
    "vocab[:10]"
   ]
  },
  {
   "cell_type": "code",
   "execution_count": 15,
   "id": "3cfe6f6f",
   "metadata": {
    "execution": {
     "iopub.execute_input": "2022-03-12T22:06:28.340614Z",
     "iopub.status.busy": "2022-03-12T22:06:28.329130Z",
     "iopub.status.idle": "2022-03-12T22:06:28.355795Z",
     "shell.execute_reply": "2022-03-12T22:06:28.355316Z",
     "shell.execute_reply.started": "2022-03-12T22:02:05.289092Z"
    },
    "executionInfo": {
     "elapsed": 461,
     "status": "ok",
     "timestamp": 1646806736289,
     "user": {
      "displayName": "Ahmed Elshehawy",
      "photoUrl": "https://lh3.googleusercontent.com/a/default-user=s64",
      "userId": "14316704093209259342"
     },
     "user_tz": -120
    },
    "id": "CyfXH4uvGanW",
    "papermill": {
     "duration": 0.094199,
     "end_time": "2022-03-12T22:06:28.355908",
     "exception": false,
     "start_time": "2022-03-12T22:06:28.261709",
     "status": "completed"
    },
    "tags": []
   },
   "outputs": [],
   "source": [
    "# vocab_to_int: dictionay, where its keys are the vocab words, \n",
    "# and its values are integers starting from 1\n",
    "# 0 will be used later for padding and for unknown words \n",
    "# int_to_vocab, keys are integers (starting from 1), values are the words in our vocab\n",
    "vocab_to_int, int_to_vocab = nh.get_mappings(vocab, i=1)"
   ]
  },
  {
   "cell_type": "code",
   "execution_count": 16,
   "id": "b0087cd7",
   "metadata": {
    "execution": {
     "iopub.execute_input": "2022-03-12T22:06:28.491601Z",
     "iopub.status.busy": "2022-03-12T22:06:28.444167Z",
     "iopub.status.idle": "2022-03-12T22:06:28.538748Z",
     "shell.execute_reply": "2022-03-12T22:06:28.538198Z",
     "shell.execute_reply.started": "2022-03-12T22:02:44.286306Z"
    },
    "executionInfo": {
     "elapsed": 343,
     "status": "ok",
     "timestamp": 1646806736627,
     "user": {
      "displayName": "Ahmed Elshehawy",
      "photoUrl": "https://lh3.googleusercontent.com/a/default-user=s64",
      "userId": "14316704093209259342"
     },
     "user_tz": -120
    },
    "id": "QjddoXxBG-8t",
    "papermill": {
     "duration": 0.141908,
     "end_time": "2022-03-12T22:06:28.538880",
     "exception": false,
     "start_time": "2022-03-12T22:06:28.396972",
     "status": "completed"
    },
    "tags": []
   },
   "outputs": [],
   "source": [
    "# save vocab_to_int, and int_to_vocab, will be needed in inference\n",
    "nh.save_pickle_file(vocab_to_int, 'vocab_to_int_with_stem.obj')\n",
    "nh.save_pickle_file(int_to_vocab, 'int_to_vocab_with_stem.obj')"
   ]
  },
  {
   "cell_type": "markdown",
   "id": "3e221e18",
   "metadata": {
    "papermill": {
     "duration": 0.04151,
     "end_time": "2022-03-12T22:06:28.621874",
     "exception": false,
     "start_time": "2022-03-12T22:06:28.580364",
     "status": "completed"
    },
    "tags": []
   },
   "source": [
    "### Encode text"
   ]
  },
  {
   "cell_type": "code",
   "execution_count": 17,
   "id": "3eb60421",
   "metadata": {
    "execution": {
     "iopub.execute_input": "2022-03-12T22:06:28.712832Z",
     "iopub.status.busy": "2022-03-12T22:06:28.707960Z",
     "iopub.status.idle": "2022-03-12T22:06:30.928750Z",
     "shell.execute_reply": "2022-03-12T22:06:30.928133Z",
     "shell.execute_reply.started": "2022-03-12T22:02:47.700802Z"
    },
    "executionInfo": {
     "elapsed": 3172,
     "status": "ok",
     "timestamp": 1646806739796,
     "user": {
      "displayName": "Ahmed Elshehawy",
      "photoUrl": "https://lh3.googleusercontent.com/a/default-user=s64",
      "userId": "14316704093209259342"
     },
     "user_tz": -120
    },
    "id": "jO3saJcvHXkC",
    "papermill": {
     "duration": 2.265844,
     "end_time": "2022-03-12T22:06:30.928873",
     "exception": false,
     "start_time": "2022-03-12T22:06:28.663029",
     "status": "completed"
    },
    "tags": []
   },
   "outputs": [],
   "source": [
    "data_with_stem['text'] = data_with_stem['text'].apply(nh.encode, args=(vocab_to_int,))"
   ]
  },
  {
   "cell_type": "code",
   "execution_count": 18,
   "id": "b99b72c6",
   "metadata": {
    "execution": {
     "iopub.execute_input": "2022-03-12T22:06:31.022443Z",
     "iopub.status.busy": "2022-03-12T22:06:31.021819Z",
     "iopub.status.idle": "2022-03-12T22:06:31.025655Z",
     "shell.execute_reply": "2022-03-12T22:06:31.025184Z",
     "shell.execute_reply.started": "2022-03-12T22:02:51.132405Z"
    },
    "executionInfo": {
     "elapsed": 80,
     "status": "ok",
     "timestamp": 1646806739798,
     "user": {
      "displayName": "Ahmed Elshehawy",
      "photoUrl": "https://lh3.googleusercontent.com/a/default-user=s64",
      "userId": "14316704093209259342"
     },
     "user_tz": -120
    },
    "id": "T_lpREKIHcZY",
    "outputId": "7b165dc3-9af0-4d8e-b04a-74fc70372a73",
    "papermill": {
     "duration": 0.055331,
     "end_time": "2022-03-12T22:06:31.025767",
     "exception": false,
     "start_time": "2022-03-12T22:06:30.970436",
     "status": "completed"
    },
    "tags": []
   },
   "outputs": [
    {
     "data": {
      "text/html": [
       "<div>\n",
       "<style scoped>\n",
       "    .dataframe tbody tr th:only-of-type {\n",
       "        vertical-align: middle;\n",
       "    }\n",
       "\n",
       "    .dataframe tbody tr th {\n",
       "        vertical-align: top;\n",
       "    }\n",
       "\n",
       "    .dataframe thead th {\n",
       "        text-align: right;\n",
       "    }\n",
       "</style>\n",
       "<table border=\"1\" class=\"dataframe\">\n",
       "  <thead>\n",
       "    <tr style=\"text-align: right;\">\n",
       "      <th></th>\n",
       "      <th>id</th>\n",
       "      <th>text</th>\n",
       "      <th>dialect</th>\n",
       "      <th>tweet_length</th>\n",
       "    </tr>\n",
       "  </thead>\n",
       "  <tbody>\n",
       "    <tr>\n",
       "      <th>0</th>\n",
       "      <td>1175358310087892992</td>\n",
       "      <td>[248, 1572, 1052]</td>\n",
       "      <td>IQ</td>\n",
       "      <td>3</td>\n",
       "    </tr>\n",
       "    <tr>\n",
       "      <th>1</th>\n",
       "      <td>1175416117793349632</td>\n",
       "      <td>[17, 225, 587, 88, 96, 40, 7251, 112, 4660, 559]</td>\n",
       "      <td>IQ</td>\n",
       "      <td>10</td>\n",
       "    </tr>\n",
       "    <tr>\n",
       "      <th>2</th>\n",
       "      <td>1175471073770573824</td>\n",
       "      <td>[1471, 1722, 467, 2661]</td>\n",
       "      <td>IQ</td>\n",
       "      <td>4</td>\n",
       "    </tr>\n",
       "    <tr>\n",
       "      <th>3</th>\n",
       "      <td>1175496913145217024</td>\n",
       "      <td>[36, 482, 25]</td>\n",
       "      <td>IQ</td>\n",
       "      <td>3</td>\n",
       "    </tr>\n",
       "    <tr>\n",
       "      <th>4</th>\n",
       "      <td>1175668034146643968</td>\n",
       "      <td>[1282, 559, 390, 12, 792, 36, 11, 556, 45395, ...</td>\n",
       "      <td>IQ</td>\n",
       "      <td>30</td>\n",
       "    </tr>\n",
       "  </tbody>\n",
       "</table>\n",
       "</div>"
      ],
      "text/plain": [
       "                    id                                               text  \\\n",
       "0  1175358310087892992                                  [248, 1572, 1052]   \n",
       "1  1175416117793349632   [17, 225, 587, 88, 96, 40, 7251, 112, 4660, 559]   \n",
       "2  1175471073770573824                            [1471, 1722, 467, 2661]   \n",
       "3  1175496913145217024                                      [36, 482, 25]   \n",
       "4  1175668034146643968  [1282, 559, 390, 12, 792, 36, 11, 556, 45395, ...   \n",
       "\n",
       "  dialect  tweet_length  \n",
       "0      IQ             3  \n",
       "1      IQ            10  \n",
       "2      IQ             4  \n",
       "3      IQ             3  \n",
       "4      IQ            30  "
      ]
     },
     "execution_count": 18,
     "metadata": {},
     "output_type": "execute_result"
    }
   ],
   "source": [
    "data_with_stem.head()"
   ]
  },
  {
   "cell_type": "markdown",
   "id": "a4a77aa2",
   "metadata": {
    "id": "zH9UhFLqHwoj",
    "papermill": {
     "duration": 0.041031,
     "end_time": "2022-03-12T22:06:31.107731",
     "exception": false,
     "start_time": "2022-03-12T22:06:31.066700",
     "status": "completed"
    },
    "tags": []
   },
   "source": [
    "We also need to encode labels (`dialect`) to be able to feed them into the DL models"
   ]
  },
  {
   "cell_type": "code",
   "execution_count": 19,
   "id": "0ce17b77",
   "metadata": {
    "execution": {
     "iopub.execute_input": "2022-03-12T22:06:31.217431Z",
     "iopub.status.busy": "2022-03-12T22:06:31.216689Z",
     "iopub.status.idle": "2022-03-12T22:06:31.224122Z",
     "shell.execute_reply": "2022-03-12T22:06:31.223660Z",
     "shell.execute_reply.started": "2022-03-12T22:02:57.341555Z"
    },
    "executionInfo": {
     "elapsed": 81,
     "status": "ok",
     "timestamp": 1646806739803,
     "user": {
      "displayName": "Ahmed Elshehawy",
      "photoUrl": "https://lh3.googleusercontent.com/a/default-user=s64",
      "userId": "14316704093209259342"
     },
     "user_tz": -120
    },
    "id": "H7UoY1tSHi7u",
    "papermill": {
     "duration": 0.07518,
     "end_time": "2022-03-12T22:06:31.224226",
     "exception": false,
     "start_time": "2022-03-12T22:06:31.149046",
     "status": "completed"
    },
    "tags": []
   },
   "outputs": [],
   "source": [
    "# labels_to_int: dictionary, where its keys are the labels,\n",
    "# and its values are integers starting from 0\n",
    "labels = data_with_stem['dialect'].unique()\n",
    "labels_to_int, int_to_labels = nh.get_mappings(labels, i=0)"
   ]
  },
  {
   "cell_type": "code",
   "execution_count": 20,
   "id": "3ad19129",
   "metadata": {
    "execution": {
     "iopub.execute_input": "2022-03-12T22:06:31.309407Z",
     "iopub.status.busy": "2022-03-12T22:06:31.308898Z",
     "iopub.status.idle": "2022-03-12T22:06:31.312751Z",
     "shell.execute_reply": "2022-03-12T22:06:31.312307Z",
     "shell.execute_reply.started": "2022-03-12T22:03:03.611756Z"
    },
    "executionInfo": {
     "elapsed": 82,
     "status": "ok",
     "timestamp": 1646806739806,
     "user": {
      "displayName": "Ahmed Elshehawy",
      "photoUrl": "https://lh3.googleusercontent.com/a/default-user=s64",
      "userId": "14316704093209259342"
     },
     "user_tz": -120
    },
    "id": "aCg8wtVCH9Ja",
    "papermill": {
     "duration": 0.047679,
     "end_time": "2022-03-12T22:06:31.312860",
     "exception": false,
     "start_time": "2022-03-12T22:06:31.265181",
     "status": "completed"
    },
    "tags": []
   },
   "outputs": [],
   "source": [
    "# save labels_to_int, and int_to_labels, they will be needed in inference\n",
    "nh.save_pickle_file(labels_to_int, 'labels_to_int.obj')\n",
    "nh.save_pickle_file(int_to_labels, 'int_to_labels.obj')"
   ]
  },
  {
   "cell_type": "code",
   "execution_count": 21,
   "id": "1183ba0d",
   "metadata": {
    "execution": {
     "iopub.execute_input": "2022-03-12T22:06:31.398890Z",
     "iopub.status.busy": "2022-03-12T22:06:31.398299Z",
     "iopub.status.idle": "2022-03-12T22:06:31.401214Z",
     "shell.execute_reply": "2022-03-12T22:06:31.401827Z",
     "shell.execute_reply.started": "2022-03-12T22:03:07.522362Z"
    },
    "executionInfo": {
     "elapsed": 81,
     "status": "ok",
     "timestamp": 1646806739807,
     "user": {
      "displayName": "Ahmed Elshehawy",
      "photoUrl": "https://lh3.googleusercontent.com/a/default-user=s64",
      "userId": "14316704093209259342"
     },
     "user_tz": -120
    },
    "id": "7P-zqg28IM5S",
    "outputId": "0d8f0713-7ebe-4184-dd02-21a95090a2be",
    "papermill": {
     "duration": 0.048221,
     "end_time": "2022-03-12T22:06:31.401986",
     "exception": false,
     "start_time": "2022-03-12T22:06:31.353765",
     "status": "completed"
    },
    "tags": []
   },
   "outputs": [
    {
     "name": "stdout",
     "output_type": "stream",
     "text": [
      "Number of labels (classes): 18\n",
      "Labels:\n",
      "{'IQ': 0, 'LY': 1, 'QA': 2, 'PL': 3, 'SY': 4, 'TN': 5, 'JO': 6, 'MA': 7, 'SA': 8, 'YE': 9, 'DZ': 10, 'EG': 11, 'LB': 12, 'KW': 13, 'OM': 14, 'SD': 15, 'AE': 16, 'BH': 17}\n"
     ]
    }
   ],
   "source": [
    "print('Number of labels (classes):', len(labels))\n",
    "print('Labels:')\n",
    "print(labels_to_int)"
   ]
  },
  {
   "cell_type": "code",
   "execution_count": 22,
   "id": "c0c8f1cf",
   "metadata": {
    "execution": {
     "iopub.execute_input": "2022-03-12T22:06:31.524955Z",
     "iopub.status.busy": "2022-03-12T22:06:31.524022Z",
     "iopub.status.idle": "2022-03-12T22:06:31.536211Z",
     "shell.execute_reply": "2022-03-12T22:06:31.535794Z",
     "shell.execute_reply.started": "2022-03-12T22:03:10.499642Z"
    },
    "executionInfo": {
     "elapsed": 73,
     "status": "ok",
     "timestamp": 1646806739809,
     "user": {
      "displayName": "Ahmed Elshehawy",
      "photoUrl": "https://lh3.googleusercontent.com/a/default-user=s64",
      "userId": "14316704093209259342"
     },
     "user_tz": -120
    },
    "id": "iOZt2vvZIRwC",
    "papermill": {
     "duration": 0.092124,
     "end_time": "2022-03-12T22:06:31.536328",
     "exception": false,
     "start_time": "2022-03-12T22:06:31.444204",
     "status": "completed"
    },
    "tags": []
   },
   "outputs": [],
   "source": [
    "# having labels_to_int, we can encode dialects\n",
    "data_with_stem['dialect'] = data_with_stem['dialect'].map(labels_to_int)"
   ]
  },
  {
   "cell_type": "code",
   "execution_count": 23,
   "id": "a9560fa0",
   "metadata": {
    "execution": {
     "iopub.execute_input": "2022-03-12T22:06:31.628710Z",
     "iopub.status.busy": "2022-03-12T22:06:31.628048Z",
     "iopub.status.idle": "2022-03-12T22:06:31.630778Z",
     "shell.execute_reply": "2022-03-12T22:06:31.631173Z",
     "shell.execute_reply.started": "2022-03-12T22:03:12.697609Z"
    },
    "executionInfo": {
     "elapsed": 76,
     "status": "ok",
     "timestamp": 1646806739813,
     "user": {
      "displayName": "Ahmed Elshehawy",
      "photoUrl": "https://lh3.googleusercontent.com/a/default-user=s64",
      "userId": "14316704093209259342"
     },
     "user_tz": -120
    },
    "id": "qme_EEWwIaFT",
    "outputId": "da03a516-f0ae-4283-d1a8-6aad9d977613",
    "papermill": {
     "duration": 0.053609,
     "end_time": "2022-03-12T22:06:31.631302",
     "exception": false,
     "start_time": "2022-03-12T22:06:31.577693",
     "status": "completed"
    },
    "tags": []
   },
   "outputs": [
    {
     "data": {
      "text/html": [
       "<div>\n",
       "<style scoped>\n",
       "    .dataframe tbody tr th:only-of-type {\n",
       "        vertical-align: middle;\n",
       "    }\n",
       "\n",
       "    .dataframe tbody tr th {\n",
       "        vertical-align: top;\n",
       "    }\n",
       "\n",
       "    .dataframe thead th {\n",
       "        text-align: right;\n",
       "    }\n",
       "</style>\n",
       "<table border=\"1\" class=\"dataframe\">\n",
       "  <thead>\n",
       "    <tr style=\"text-align: right;\">\n",
       "      <th></th>\n",
       "      <th>id</th>\n",
       "      <th>text</th>\n",
       "      <th>dialect</th>\n",
       "      <th>tweet_length</th>\n",
       "    </tr>\n",
       "  </thead>\n",
       "  <tbody>\n",
       "    <tr>\n",
       "      <th>0</th>\n",
       "      <td>1175358310087892992</td>\n",
       "      <td>[248, 1572, 1052]</td>\n",
       "      <td>0</td>\n",
       "      <td>3</td>\n",
       "    </tr>\n",
       "    <tr>\n",
       "      <th>1</th>\n",
       "      <td>1175416117793349632</td>\n",
       "      <td>[17, 225, 587, 88, 96, 40, 7251, 112, 4660, 559]</td>\n",
       "      <td>0</td>\n",
       "      <td>10</td>\n",
       "    </tr>\n",
       "    <tr>\n",
       "      <th>2</th>\n",
       "      <td>1175471073770573824</td>\n",
       "      <td>[1471, 1722, 467, 2661]</td>\n",
       "      <td>0</td>\n",
       "      <td>4</td>\n",
       "    </tr>\n",
       "    <tr>\n",
       "      <th>3</th>\n",
       "      <td>1175496913145217024</td>\n",
       "      <td>[36, 482, 25]</td>\n",
       "      <td>0</td>\n",
       "      <td>3</td>\n",
       "    </tr>\n",
       "    <tr>\n",
       "      <th>4</th>\n",
       "      <td>1175668034146643968</td>\n",
       "      <td>[1282, 559, 390, 12, 792, 36, 11, 556, 45395, ...</td>\n",
       "      <td>0</td>\n",
       "      <td>30</td>\n",
       "    </tr>\n",
       "  </tbody>\n",
       "</table>\n",
       "</div>"
      ],
      "text/plain": [
       "                    id                                               text  \\\n",
       "0  1175358310087892992                                  [248, 1572, 1052]   \n",
       "1  1175416117793349632   [17, 225, 587, 88, 96, 40, 7251, 112, 4660, 559]   \n",
       "2  1175471073770573824                            [1471, 1722, 467, 2661]   \n",
       "3  1175496913145217024                                      [36, 482, 25]   \n",
       "4  1175668034146643968  [1282, 559, 390, 12, 792, 36, 11, 556, 45395, ...   \n",
       "\n",
       "   dialect  tweet_length  \n",
       "0        0             3  \n",
       "1        0            10  \n",
       "2        0             4  \n",
       "3        0             3  \n",
       "4        0            30  "
      ]
     },
     "execution_count": 23,
     "metadata": {},
     "output_type": "execute_result"
    }
   ],
   "source": [
    "data_with_stem.head()"
   ]
  },
  {
   "cell_type": "markdown",
   "id": "5233156a",
   "metadata": {
    "id": "jEmVf-fRJOgi",
    "papermill": {
     "duration": 0.041632,
     "end_time": "2022-03-12T22:06:31.715419",
     "exception": false,
     "start_time": "2022-03-12T22:06:31.673787",
     "status": "completed"
    },
    "tags": []
   },
   "source": [
    "### Pad tweets\n"
   ]
  },
  {
   "cell_type": "markdown",
   "id": "c620c7ab",
   "metadata": {
    "papermill": {
     "duration": 0.043814,
     "end_time": "2022-03-12T22:06:31.804403",
     "exception": false,
     "start_time": "2022-03-12T22:06:31.760589",
     "status": "completed"
    },
    "tags": []
   },
   "source": [
    "From EDA notebook, we know that about 75% of tweets have less than 13 words"
   ]
  },
  {
   "cell_type": "code",
   "execution_count": 24,
   "id": "d55e31e7",
   "metadata": {
    "execution": {
     "iopub.execute_input": "2022-03-12T22:06:31.939042Z",
     "iopub.status.busy": "2022-03-12T22:06:31.923587Z",
     "iopub.status.idle": "2022-03-12T22:06:32.856976Z",
     "shell.execute_reply": "2022-03-12T22:06:32.857427Z",
     "shell.execute_reply.started": "2022-03-12T22:03:18.228640Z"
    },
    "executionInfo": {
     "elapsed": 925,
     "status": "ok",
     "timestamp": 1646806741918,
     "user": {
      "displayName": "Ahmed Elshehawy",
      "photoUrl": "https://lh3.googleusercontent.com/a/default-user=s64",
      "userId": "14316704093209259342"
     },
     "user_tz": -120
    },
    "id": "cuBq2YwnSU8r",
    "outputId": "32d60468-4a84-4041-bd86-fc33b158f6f2",
    "papermill": {
     "duration": 1.010337,
     "end_time": "2022-03-12T22:06:32.857599",
     "exception": false,
     "start_time": "2022-03-12T22:06:31.847262",
     "status": "completed"
    },
    "tags": []
   },
   "outputs": [],
   "source": [
    "seq_length = 20\n",
    "features = nh.pad_docs(data_with_stem['text'], seq_length)"
   ]
  },
  {
   "cell_type": "code",
   "execution_count": 25,
   "id": "a856f724",
   "metadata": {
    "execution": {
     "iopub.execute_input": "2022-03-12T22:06:32.948501Z",
     "iopub.status.busy": "2022-03-12T22:06:32.947808Z",
     "iopub.status.idle": "2022-03-12T22:06:32.950349Z",
     "shell.execute_reply": "2022-03-12T22:06:32.950762Z",
     "shell.execute_reply.started": "2022-03-12T22:03:19.324426Z"
    },
    "executionInfo": {
     "elapsed": 10,
     "status": "ok",
     "timestamp": 1646806757491,
     "user": {
      "displayName": "Ahmed Elshehawy",
      "photoUrl": "https://lh3.googleusercontent.com/a/default-user=s64",
      "userId": "14316704093209259342"
     },
     "user_tz": -120
    },
    "id": "ONQ5-F_oU20Z",
    "outputId": "9e7c48bb-f45c-47bc-f1a6-ce68357d856b",
    "papermill": {
     "duration": 0.050096,
     "end_time": "2022-03-12T22:06:32.950884",
     "exception": false,
     "start_time": "2022-03-12T22:06:32.900788",
     "status": "completed"
    },
    "tags": []
   },
   "outputs": [
    {
     "data": {
      "text/plain": [
       "array([[   0,    0,    0,    0,    0,    0,    0,    0,    0,    0,    0,\n",
       "           0,    0,    0,    0,    0,    0,  248, 1572, 1052],\n",
       "       [   0,    0,    0,    0,    0,    0,    0,    0,    0,    0,   17,\n",
       "         225,  587,   88,   96,   40, 7251,  112, 4660,  559],\n",
       "       [   0,    0,    0,    0,    0,    0,    0,    0,    0,    0,    0,\n",
       "           0,    0,    0,    0,    0, 1471, 1722,  467, 2661]])"
      ]
     },
     "execution_count": 25,
     "metadata": {},
     "output_type": "execute_result"
    }
   ],
   "source": [
    "features[:3, :]"
   ]
  },
  {
   "cell_type": "markdown",
   "id": "7c7a53d8",
   "metadata": {
    "papermill": {
     "duration": 0.081878,
     "end_time": "2022-03-12T22:06:33.087203",
     "exception": false,
     "start_time": "2022-03-12T22:06:33.005325",
     "status": "completed"
    },
    "tags": []
   },
   "source": [
    "### Split data into train, valdiation, and test sets"
   ]
  },
  {
   "cell_type": "code",
   "execution_count": 26,
   "id": "bd3e9f47",
   "metadata": {
    "execution": {
     "iopub.execute_input": "2022-03-12T22:06:33.248241Z",
     "iopub.status.busy": "2022-03-12T22:06:33.247161Z",
     "iopub.status.idle": "2022-03-12T22:06:33.625109Z",
     "shell.execute_reply": "2022-03-12T22:06:33.624515Z",
     "shell.execute_reply.started": "2022-03-12T22:03:20.884478Z"
    },
    "executionInfo": {
     "elapsed": 35,
     "status": "error",
     "timestamp": 1646806764075,
     "user": {
      "displayName": "Ahmed Elshehawy",
      "photoUrl": "https://lh3.googleusercontent.com/a/default-user=s64",
      "userId": "14316704093209259342"
     },
     "user_tz": -120
    },
    "id": "OYysBdahIbz3",
    "outputId": "a6dfd45b-127c-41e2-f7de-2ec8bef50a1e",
    "papermill": {
     "duration": 0.464813,
     "end_time": "2022-03-12T22:06:33.625264",
     "exception": false,
     "start_time": "2022-03-12T22:06:33.160451",
     "status": "completed"
    },
    "tags": []
   },
   "outputs": [
    {
     "name": "stdout",
     "output_type": "stream",
     "text": [
      "\t\t\tFeatures Shapes:\n",
      "Train set: \t\t(356088, 20) \n",
      "Validation set: \t(44511, 20) \n",
      "Test set: \t\t(44512, 20)\n"
     ]
    }
   ],
   "source": [
    "split_fracion = 0.2\n",
    "\n",
    "## split data into training, validation, and test data (features and labels, x and y)\n",
    "X = features.astype(np.int64)\n",
    "y = data_with_stem['dialect'].values\n",
    "\n",
    "splitted_sets = lh.features_split(X, y, split_fraction=split_fracion)\n",
    "\n",
    "X_train, y_train = splitted_sets['train']\n",
    "X_val, y_val = splitted_sets['val']\n",
    "X_test, y_test = splitted_sets['test']\n",
    "# print out the shapes of the new data sets\n",
    "print('\\t\\t\\tFeatures Shapes:')\n",
    "print('Train set: \\t\\t{}'.format(X_train.shape),\n",
    "     '\\nValidation set: \\t{}'.format(X_val.shape),\n",
    "     '\\nTest set: \\t\\t{}'.format(X_test.shape))"
   ]
  },
  {
   "cell_type": "code",
   "execution_count": 27,
   "id": "86f5fa0e",
   "metadata": {
    "execution": {
     "iopub.execute_input": "2022-03-12T22:06:33.725798Z",
     "iopub.status.busy": "2022-03-12T22:06:33.724341Z",
     "iopub.status.idle": "2022-03-12T22:06:33.733914Z",
     "shell.execute_reply": "2022-03-12T22:06:33.733483Z",
     "shell.execute_reply.started": "2022-03-12T22:04:24.105180Z"
    },
    "papermill": {
     "duration": 0.059191,
     "end_time": "2022-03-12T22:06:33.734021",
     "exception": false,
     "start_time": "2022-03-12T22:06:33.674830",
     "status": "completed"
    },
    "tags": []
   },
   "outputs": [],
   "source": [
    "nh.save_pickle_file(X_test, 'X_test_with_stem_lstm.obj')\n",
    "nh.save_pickle_file(y_test, 'y_test_with_stem_lstm.obj')"
   ]
  },
  {
   "cell_type": "markdown",
   "id": "48faee17",
   "metadata": {
    "papermill": {
     "duration": 0.041961,
     "end_time": "2022-03-12T22:06:33.819000",
     "exception": false,
     "start_time": "2022-03-12T22:06:33.777039",
     "status": "completed"
    },
    "tags": []
   },
   "source": [
    "To feed data to pytorch models, we need first ot convert data from numpy arrays to Pytorch tensors.  \n",
    "After that we can create our datasets"
   ]
  },
  {
   "cell_type": "code",
   "execution_count": 28,
   "id": "13312ac4",
   "metadata": {
    "execution": {
     "iopub.execute_input": "2022-03-12T22:06:33.907787Z",
     "iopub.status.busy": "2022-03-12T22:06:33.907018Z",
     "iopub.status.idle": "2022-03-12T22:06:33.915073Z",
     "shell.execute_reply": "2022-03-12T22:06:33.914639Z",
     "shell.execute_reply.started": "2022-03-12T22:05:00.385397Z"
    },
    "id": "l2XMSpRPVQWd",
    "papermill": {
     "duration": 0.053365,
     "end_time": "2022-03-12T22:06:33.915177",
     "exception": false,
     "start_time": "2022-03-12T22:06:33.861812",
     "status": "completed"
    },
    "tags": []
   },
   "outputs": [],
   "source": [
    "# create Tensor datasets\n",
    "train_data = TensorDataset(torch.from_numpy(X_train), torch.from_numpy(y_train))\n",
    "valid_data = TensorDataset(torch.from_numpy(X_val), torch.from_numpy(y_val))\n",
    "test_data = TensorDataset(torch.from_numpy(X_test), torch.from_numpy(y_test))\n",
    "\n",
    "# dataloaders\n",
    "batch_size = 128\n",
    "\n",
    "train_loader = DataLoader(train_data, shuffle=True, batch_size=batch_size)\n",
    "val_loader = DataLoader(valid_data, shuffle=True, batch_size=batch_size)\n",
    "test_loader = DataLoader(test_data, shuffle=True, batch_size=batch_size)\n",
    "\n",
    "loaders = {'train': train_loader, 'val': val_loader, 'test': test_loader}"
   ]
  },
  {
   "cell_type": "code",
   "execution_count": 29,
   "id": "c5358d3c",
   "metadata": {
    "execution": {
     "iopub.execute_input": "2022-03-12T22:06:34.048694Z",
     "iopub.status.busy": "2022-03-12T22:06:34.047961Z",
     "iopub.status.idle": "2022-03-12T22:06:34.050901Z",
     "shell.execute_reply": "2022-03-12T22:06:34.051306Z",
     "shell.execute_reply.started": "2022-03-12T22:05:01.343626Z"
    },
    "id": "sRqvRWiYVa7i",
    "papermill": {
     "duration": 0.093987,
     "end_time": "2022-03-12T22:06:34.051445",
     "exception": false,
     "start_time": "2022-03-12T22:06:33.957458",
     "status": "completed"
    },
    "tags": []
   },
   "outputs": [
    {
     "name": "stdout",
     "output_type": "stream",
     "text": [
      "Training on GPU.\n"
     ]
    }
   ],
   "source": [
    "# First checking if GPU is available\n",
    "train_on_gpu=torch.cuda.is_available()\n",
    "\n",
    "if(train_on_gpu):\n",
    "    print('Training on GPU.')\n",
    "else:\n",
    "    print('No GPU available, training on CPU.')\n"
   ]
  },
  {
   "cell_type": "code",
   "execution_count": 30,
   "id": "9aecae65",
   "metadata": {
    "execution": {
     "iopub.execute_input": "2022-03-12T22:06:34.143151Z",
     "iopub.status.busy": "2022-03-12T22:06:34.142619Z",
     "iopub.status.idle": "2022-03-12T22:06:34.627698Z",
     "shell.execute_reply": "2022-03-12T22:06:34.628122Z",
     "shell.execute_reply.started": "2022-03-12T22:05:02.920374Z"
    },
    "papermill": {
     "duration": 0.533749,
     "end_time": "2022-03-12T22:06:34.628285",
     "exception": false,
     "start_time": "2022-03-12T22:06:34.094536",
     "status": "completed"
    },
    "tags": []
   },
   "outputs": [
    {
     "name": "stdout",
     "output_type": "stream",
     "text": [
      "DialectRNN(\n",
      "  (embedding): Embedding(131094, 400)\n",
      "  (lstm): LSTM(400, 256, num_layers=2, batch_first=True, dropout=0.3)\n",
      "  (dropout): Dropout(p=0.3, inplace=False)\n",
      "  (fc1): Sequential(\n",
      "    (0): Linear(in_features=256, out_features=64, bias=True)\n",
      "  )\n",
      "  (fc2): Sequential(\n",
      "    (0): Linear(in_features=64, out_features=18, bias=True)\n",
      "  )\n",
      ")\n"
     ]
    }
   ],
   "source": [
    "# Instantiate the model with hyperparams\n",
    "vocab_size = len(vocab_to_int) + 1 # +1 for 0 padding\n",
    "output_size = len(labels_to_int) # Dialect index\n",
    "embedding_dim = 400\n",
    "hidden_dim = 256\n",
    "n_layers = 2\n",
    "drop_prob = 0.3\n",
    "\n",
    "model = DialectRNN(vocab_size, output_size, embedding_dim, hidden_dim, \n",
    "                 n_layers, seq_length, drop_prob=drop_prob)\n",
    "print(model)"
   ]
  },
  {
   "cell_type": "code",
   "execution_count": 31,
   "id": "abd12e39",
   "metadata": {
    "execution": {
     "iopub.execute_input": "2022-03-12T22:06:34.720116Z",
     "iopub.status.busy": "2022-03-12T22:06:34.719315Z",
     "iopub.status.idle": "2022-03-12T22:06:37.816586Z",
     "shell.execute_reply": "2022-03-12T22:06:37.816089Z",
     "shell.execute_reply.started": "2022-03-12T22:05:08.278378Z"
    },
    "papermill": {
     "duration": 3.145431,
     "end_time": "2022-03-12T22:06:37.816717",
     "exception": false,
     "start_time": "2022-03-12T22:06:34.671286",
     "status": "completed"
    },
    "tags": []
   },
   "outputs": [
    {
     "name": "stdout",
     "output_type": "stream",
     "text": [
      "tensor([1.6439, 0.7020, 0.8124, 0.5842, 1.5641, 2.7362, 0.9202, 2.2054, 0.9472,\n",
      "        2.5982, 1.5742, 0.4378, 0.9200, 0.6006, 1.3496, 1.7698, 0.9674, 0.9727],\n",
      "       device='cuda:0')\n"
     ]
    }
   ],
   "source": [
    "class_weights = compute_class_weight('balanced', classes=np.unique(y_train), y=y_train)\n",
    "class_weights = torch.tensor(class_weights, dtype=torch.float)\n",
    "if train_on_gpu:\n",
    "    class_weights = class_weights.cuda()\n",
    "print(class_weights)"
   ]
  },
  {
   "cell_type": "code",
   "execution_count": 32,
   "id": "9d559992",
   "metadata": {
    "execution": {
     "iopub.execute_input": "2022-03-12T22:06:37.911818Z",
     "iopub.status.busy": "2022-03-12T22:06:37.911141Z",
     "iopub.status.idle": "2022-03-12T22:06:37.913825Z",
     "shell.execute_reply": "2022-03-12T22:06:37.913406Z",
     "shell.execute_reply.started": "2022-03-12T22:05:12.655821Z"
    },
    "papermill": {
     "duration": 0.051507,
     "end_time": "2022-03-12T22:06:37.913932",
     "exception": false,
     "start_time": "2022-03-12T22:06:37.862425",
     "status": "completed"
    },
    "tags": []
   },
   "outputs": [],
   "source": [
    "# loss and optimization functions\n",
    "lr=0.001\n",
    "\n",
    "criterion = nn.CrossEntropyLoss(weight=class_weights, reduction='mean')\n",
    "optimizer = optim.Adam(model.parameters(), lr=lr)\n",
    "\n",
    "# training params\n",
    "n_epochs = 20\n",
    "print_every = 1\n",
    "clip=5 # gradient clipping\n",
    "\n",
    "save_path = 'models'\n",
    "\n",
    "# setting gamma to 1 cancels scheduler effect\n",
    "scheduler = optim.lr_scheduler.MultiStepLR(optimizer, milestones=[10], gamma=.2) "
   ]
  },
  {
   "cell_type": "code",
   "execution_count": 33,
   "id": "20a39f75",
   "metadata": {
    "execution": {
     "iopub.execute_input": "2022-03-12T22:06:38.031208Z",
     "iopub.status.busy": "2022-03-12T22:06:38.003524Z",
     "iopub.status.idle": "2022-03-12T22:06:38.696822Z",
     "shell.execute_reply": "2022-03-12T22:06:38.696144Z",
     "shell.execute_reply.started": "2022-03-12T22:05:21.842214Z"
    },
    "papermill": {
     "duration": 0.740133,
     "end_time": "2022-03-12T22:06:38.696959",
     "exception": false,
     "start_time": "2022-03-12T22:06:37.956826",
     "status": "completed"
    },
    "tags": []
   },
   "outputs": [],
   "source": [
    "!mkdir models"
   ]
  },
  {
   "cell_type": "code",
   "execution_count": 34,
   "id": "8a894621",
   "metadata": {
    "execution": {
     "iopub.execute_input": "2022-03-12T22:06:38.787732Z",
     "iopub.status.busy": "2022-03-12T22:06:38.786943Z",
     "iopub.status.idle": "2022-03-12T22:24:43.587501Z",
     "shell.execute_reply": "2022-03-12T22:24:43.587926Z",
     "shell.execute_reply.started": "2022-03-12T22:05:24.237566Z"
    },
    "papermill": {
     "duration": 1084.846771,
     "end_time": "2022-03-12T22:24:43.588073",
     "exception": false,
     "start_time": "2022-03-12T22:06:38.741302",
     "status": "completed"
    },
    "tags": []
   },
   "outputs": [
    {
     "name": "stdout",
     "output_type": "stream",
     "text": [
      "Start Training on \"GPU\" for 20 epochs...\n",
      "\n",
      "Epoch: 1 train...\n"
     ]
    },
    {
     "name": "stderr",
     "output_type": "stream",
     "text": [
      "100%|█████████▉| 2781/2782 [00:52<00:00, 52.73it/s]\n"
     ]
    },
    {
     "name": "stdout",
     "output_type": "stream",
     "text": [
      "validation...\n"
     ]
    },
    {
     "name": "stderr",
     "output_type": "stream",
     "text": [
      "100%|█████████▉| 347/348 [00:00<00:00, 368.69it/s]\n"
     ]
    },
    {
     "name": "stdout",
     "output_type": "stream",
     "text": [
      "Epoch: 1/20... Train Score: 0.251868... Val Score: 0.325629\n",
      "F1 Score Macro increased form: 0.000000, to: 0.325629\tSAVING MODEL...                 in Epoch: 1\n",
      "===============================================================\n",
      "\n",
      "Epoch: 2 train...\n"
     ]
    },
    {
     "name": "stderr",
     "output_type": "stream",
     "text": [
      "100%|█████████▉| 2781/2782 [00:51<00:00, 53.68it/s]\n"
     ]
    },
    {
     "name": "stdout",
     "output_type": "stream",
     "text": [
      "validation...\n"
     ]
    },
    {
     "name": "stderr",
     "output_type": "stream",
     "text": [
      "100%|█████████▉| 347/348 [00:00<00:00, 366.90it/s]\n"
     ]
    },
    {
     "name": "stdout",
     "output_type": "stream",
     "text": [
      "Epoch: 2/20... Train Score: 0.362045... Val Score: 0.350262\n",
      "F1 Score Macro increased form: 0.325629, to: 0.350262\tSAVING MODEL...                 in Epoch: 2\n",
      "===============================================================\n",
      "\n",
      "Epoch: 3 train...\n"
     ]
    },
    {
     "name": "stderr",
     "output_type": "stream",
     "text": [
      "100%|█████████▉| 2781/2782 [00:51<00:00, 53.57it/s]\n"
     ]
    },
    {
     "name": "stdout",
     "output_type": "stream",
     "text": [
      "validation...\n"
     ]
    },
    {
     "name": "stderr",
     "output_type": "stream",
     "text": [
      "100%|█████████▉| 347/348 [00:00<00:00, 369.71it/s]\n"
     ]
    },
    {
     "name": "stdout",
     "output_type": "stream",
     "text": [
      "Epoch: 3/20... Train Score: 0.420026... Val Score: 0.365881\n",
      "F1 Score Macro increased form: 0.350262, to: 0.365881\tSAVING MODEL...                 in Epoch: 3\n",
      "===============================================================\n",
      "\n",
      "Epoch: 4 train...\n"
     ]
    },
    {
     "name": "stderr",
     "output_type": "stream",
     "text": [
      "100%|█████████▉| 2781/2782 [00:51<00:00, 53.68it/s]\n"
     ]
    },
    {
     "name": "stdout",
     "output_type": "stream",
     "text": [
      "validation...\n"
     ]
    },
    {
     "name": "stderr",
     "output_type": "stream",
     "text": [
      "100%|█████████▉| 347/348 [00:00<00:00, 349.32it/s]\n"
     ]
    },
    {
     "name": "stdout",
     "output_type": "stream",
     "text": [
      "Epoch: 4/20... Train Score: 0.470865... Val Score: 0.368832\n",
      "F1 Score Macro increased form: 0.365881, to: 0.368832\tSAVING MODEL...                 in Epoch: 4\n",
      "===============================================================\n",
      "\n",
      "Epoch: 5 train...\n"
     ]
    },
    {
     "name": "stderr",
     "output_type": "stream",
     "text": [
      "100%|█████████▉| 2781/2782 [00:51<00:00, 53.72it/s]\n"
     ]
    },
    {
     "name": "stdout",
     "output_type": "stream",
     "text": [
      "validation...\n"
     ]
    },
    {
     "name": "stderr",
     "output_type": "stream",
     "text": [
      "100%|█████████▉| 347/348 [00:00<00:00, 370.22it/s]\n"
     ]
    },
    {
     "name": "stdout",
     "output_type": "stream",
     "text": [
      "Epoch: 5/20... Train Score: 0.515104... Val Score: 0.367840\n",
      "===============================================================\n",
      "\n",
      "Epoch: 6 train...\n"
     ]
    },
    {
     "name": "stderr",
     "output_type": "stream",
     "text": [
      "100%|█████████▉| 2781/2782 [00:51<00:00, 53.77it/s]\n"
     ]
    },
    {
     "name": "stdout",
     "output_type": "stream",
     "text": [
      "validation...\n"
     ]
    },
    {
     "name": "stderr",
     "output_type": "stream",
     "text": [
      "100%|█████████▉| 347/348 [00:00<00:00, 351.95it/s]\n"
     ]
    },
    {
     "name": "stdout",
     "output_type": "stream",
     "text": [
      "Epoch: 6/20... Train Score: 0.551090... Val Score: 0.369399\n",
      "F1 Score Macro increased form: 0.368832, to: 0.369399\tSAVING MODEL...                 in Epoch: 6\n",
      "===============================================================\n",
      "\n",
      "Epoch: 7 train...\n"
     ]
    },
    {
     "name": "stderr",
     "output_type": "stream",
     "text": [
      "100%|█████████▉| 2781/2782 [00:51<00:00, 53.62it/s]\n"
     ]
    },
    {
     "name": "stdout",
     "output_type": "stream",
     "text": [
      "validation...\n"
     ]
    },
    {
     "name": "stderr",
     "output_type": "stream",
     "text": [
      "100%|█████████▉| 347/348 [00:00<00:00, 354.33it/s]\n"
     ]
    },
    {
     "name": "stdout",
     "output_type": "stream",
     "text": [
      "Epoch: 7/20... Train Score: 0.581769... Val Score: 0.367143\n",
      "===============================================================\n",
      "\n",
      "Epoch: 8 train...\n"
     ]
    },
    {
     "name": "stderr",
     "output_type": "stream",
     "text": [
      "100%|█████████▉| 2781/2782 [00:51<00:00, 53.71it/s]\n"
     ]
    },
    {
     "name": "stdout",
     "output_type": "stream",
     "text": [
      "validation...\n"
     ]
    },
    {
     "name": "stderr",
     "output_type": "stream",
     "text": [
      "100%|█████████▉| 347/348 [00:00<00:00, 357.30it/s]\n"
     ]
    },
    {
     "name": "stdout",
     "output_type": "stream",
     "text": [
      "Epoch: 8/20... Train Score: 0.608381... Val Score: 0.368543\n",
      "===============================================================\n",
      "\n",
      "Epoch: 9 train...\n"
     ]
    },
    {
     "name": "stderr",
     "output_type": "stream",
     "text": [
      "100%|█████████▉| 2781/2782 [00:51<00:00, 53.63it/s]\n"
     ]
    },
    {
     "name": "stdout",
     "output_type": "stream",
     "text": [
      "validation...\n"
     ]
    },
    {
     "name": "stderr",
     "output_type": "stream",
     "text": [
      "100%|█████████▉| 347/348 [00:00<00:00, 368.91it/s]\n"
     ]
    },
    {
     "name": "stdout",
     "output_type": "stream",
     "text": [
      "Epoch: 9/20... Train Score: 0.631546... Val Score: 0.369116\n",
      "===============================================================\n",
      "\n",
      "Epoch: 10 train...\n"
     ]
    },
    {
     "name": "stderr",
     "output_type": "stream",
     "text": [
      "100%|█████████▉| 2781/2782 [00:52<00:00, 53.10it/s]\n"
     ]
    },
    {
     "name": "stdout",
     "output_type": "stream",
     "text": [
      "validation...\n"
     ]
    },
    {
     "name": "stderr",
     "output_type": "stream",
     "text": [
      "100%|█████████▉| 347/348 [00:00<00:00, 369.74it/s]\n"
     ]
    },
    {
     "name": "stdout",
     "output_type": "stream",
     "text": [
      "Epoch: 10/20... Train Score: 0.649756... Val Score: 0.366377\n",
      "===============================================================\n",
      "\n",
      "Epoch: 11 train...\n"
     ]
    },
    {
     "name": "stderr",
     "output_type": "stream",
     "text": [
      "100%|█████████▉| 2781/2782 [00:52<00:00, 53.46it/s]\n"
     ]
    },
    {
     "name": "stdout",
     "output_type": "stream",
     "text": [
      "validation...\n"
     ]
    },
    {
     "name": "stderr",
     "output_type": "stream",
     "text": [
      "100%|█████████▉| 347/348 [00:00<00:00, 369.08it/s]\n"
     ]
    },
    {
     "name": "stdout",
     "output_type": "stream",
     "text": [
      "Epoch: 11/20... Train Score: 0.703282... Val Score: 0.375086\n",
      "F1 Score Macro increased form: 0.369399, to: 0.375086\tSAVING MODEL...                 in Epoch: 11\n",
      "===============================================================\n",
      "\n",
      "Epoch: 12 train...\n"
     ]
    },
    {
     "name": "stderr",
     "output_type": "stream",
     "text": [
      "100%|█████████▉| 2781/2782 [00:52<00:00, 53.26it/s]\n"
     ]
    },
    {
     "name": "stdout",
     "output_type": "stream",
     "text": [
      "validation...\n"
     ]
    },
    {
     "name": "stderr",
     "output_type": "stream",
     "text": [
      "100%|█████████▉| 347/348 [00:00<00:00, 368.65it/s]\n"
     ]
    },
    {
     "name": "stdout",
     "output_type": "stream",
     "text": [
      "Epoch: 12/20... Train Score: 0.731739... Val Score: 0.375885\n",
      "F1 Score Macro increased form: 0.375086, to: 0.375885\tSAVING MODEL...                 in Epoch: 12\n",
      "===============================================================\n",
      "\n",
      "Epoch: 13 train...\n"
     ]
    },
    {
     "name": "stderr",
     "output_type": "stream",
     "text": [
      "100%|█████████▉| 2781/2782 [00:52<00:00, 53.29it/s]\n"
     ]
    },
    {
     "name": "stdout",
     "output_type": "stream",
     "text": [
      "validation...\n"
     ]
    },
    {
     "name": "stderr",
     "output_type": "stream",
     "text": [
      "100%|█████████▉| 347/348 [00:00<00:00, 367.12it/s]\n"
     ]
    },
    {
     "name": "stdout",
     "output_type": "stream",
     "text": [
      "Epoch: 13/20... Train Score: 0.748037... Val Score: 0.374720\n",
      "===============================================================\n",
      "\n",
      "Epoch: 14 train...\n"
     ]
    },
    {
     "name": "stderr",
     "output_type": "stream",
     "text": [
      "100%|█████████▉| 2781/2782 [00:51<00:00, 53.48it/s]\n"
     ]
    },
    {
     "name": "stdout",
     "output_type": "stream",
     "text": [
      "validation...\n"
     ]
    },
    {
     "name": "stderr",
     "output_type": "stream",
     "text": [
      "100%|█████████▉| 347/348 [00:00<00:00, 367.12it/s]\n"
     ]
    },
    {
     "name": "stdout",
     "output_type": "stream",
     "text": [
      "Epoch: 14/20... Train Score: 0.761601... Val Score: 0.374985\n",
      "===============================================================\n",
      "\n",
      "Epoch: 15 train...\n"
     ]
    },
    {
     "name": "stderr",
     "output_type": "stream",
     "text": [
      "100%|█████████▉| 2781/2782 [00:51<00:00, 53.68it/s]\n"
     ]
    },
    {
     "name": "stdout",
     "output_type": "stream",
     "text": [
      "validation...\n"
     ]
    },
    {
     "name": "stderr",
     "output_type": "stream",
     "text": [
      "100%|█████████▉| 347/348 [00:00<00:00, 370.77it/s]\n"
     ]
    },
    {
     "name": "stdout",
     "output_type": "stream",
     "text": [
      "Epoch: 15/20... Train Score: 0.771081... Val Score: 0.371676\n",
      "===============================================================\n",
      "\n",
      "Epoch: 16 train...\n"
     ]
    },
    {
     "name": "stderr",
     "output_type": "stream",
     "text": [
      "100%|█████████▉| 2781/2782 [00:51<00:00, 53.77it/s]\n"
     ]
    },
    {
     "name": "stdout",
     "output_type": "stream",
     "text": [
      "validation...\n"
     ]
    },
    {
     "name": "stderr",
     "output_type": "stream",
     "text": [
      "100%|█████████▉| 347/348 [00:00<00:00, 370.49it/s]\n"
     ]
    },
    {
     "name": "stdout",
     "output_type": "stream",
     "text": [
      "Epoch: 16/20... Train Score: 0.781035... Val Score: 0.372442\n",
      "===============================================================\n",
      "\n",
      "Epoch: 17 train...\n"
     ]
    },
    {
     "name": "stderr",
     "output_type": "stream",
     "text": [
      "100%|█████████▉| 2781/2782 [00:52<00:00, 53.18it/s]\n"
     ]
    },
    {
     "name": "stdout",
     "output_type": "stream",
     "text": [
      "validation...\n"
     ]
    },
    {
     "name": "stderr",
     "output_type": "stream",
     "text": [
      "100%|█████████▉| 347/348 [00:00<00:00, 368.77it/s]\n"
     ]
    },
    {
     "name": "stdout",
     "output_type": "stream",
     "text": [
      "Epoch: 17/20... Train Score: 0.789580... Val Score: 0.370121\n",
      "===============================================================\n",
      "\n",
      "Epoch: 18 train...\n"
     ]
    },
    {
     "name": "stderr",
     "output_type": "stream",
     "text": [
      "100%|█████████▉| 2781/2782 [00:51<00:00, 53.49it/s]\n"
     ]
    },
    {
     "name": "stdout",
     "output_type": "stream",
     "text": [
      "validation...\n"
     ]
    },
    {
     "name": "stderr",
     "output_type": "stream",
     "text": [
      "100%|█████████▉| 347/348 [00:01<00:00, 338.04it/s]\n"
     ]
    },
    {
     "name": "stdout",
     "output_type": "stream",
     "text": [
      "Epoch: 18/20... Train Score: 0.796167... Val Score: 0.370530\n",
      "===============================================================\n",
      "\n",
      "Epoch: 19 train...\n"
     ]
    },
    {
     "name": "stderr",
     "output_type": "stream",
     "text": [
      "100%|█████████▉| 2781/2782 [00:52<00:00, 53.47it/s]\n"
     ]
    },
    {
     "name": "stdout",
     "output_type": "stream",
     "text": [
      "validation...\n"
     ]
    },
    {
     "name": "stderr",
     "output_type": "stream",
     "text": [
      "100%|█████████▉| 347/348 [00:01<00:00, 257.98it/s]\n"
     ]
    },
    {
     "name": "stdout",
     "output_type": "stream",
     "text": [
      "Epoch: 19/20... Train Score: 0.802895... Val Score: 0.369429\n",
      "===============================================================\n",
      "\n",
      "Epoch: 20 train...\n"
     ]
    },
    {
     "name": "stderr",
     "output_type": "stream",
     "text": [
      "100%|█████████▉| 2781/2782 [00:52<00:00, 53.44it/s]\n"
     ]
    },
    {
     "name": "stdout",
     "output_type": "stream",
     "text": [
      "validation...\n"
     ]
    },
    {
     "name": "stderr",
     "output_type": "stream",
     "text": [
      "100%|█████████▉| 347/348 [00:01<00:00, 321.00it/s]\n"
     ]
    },
    {
     "name": "stdout",
     "output_type": "stream",
     "text": [
      "Epoch: 20/20... Train Score: 0.808420... Val Score: 0.370836\n",
      "===============================================================\n"
     ]
    }
   ],
   "source": [
    "criteria = 'score'\n",
    "history = lh.train_lstm(model, n_epochs, optimizer, criterion, scheduler, loaders, \n",
    "                        train_on_gpu, save_path, criteria, print_every=print_every, clip=clip)"
   ]
  },
  {
   "cell_type": "code",
   "execution_count": 35,
   "id": "6ecdf77a",
   "metadata": {
    "execution": {
     "iopub.execute_input": "2022-03-12T22:24:49.488282Z",
     "iopub.status.busy": "2022-03-12T22:24:49.487353Z",
     "iopub.status.idle": "2022-03-12T22:24:49.659232Z",
     "shell.execute_reply": "2022-03-12T22:24:49.659778Z"
    },
    "papermill": {
     "duration": 3.11847,
     "end_time": "2022-03-12T22:24:49.659932",
     "exception": false,
     "start_time": "2022-03-12T22:24:46.541462",
     "status": "completed"
    },
    "tags": []
   },
   "outputs": [
    {
     "data": {
      "text/plain": [
       "<All keys matched successfully>"
      ]
     },
     "execution_count": 35,
     "metadata": {},
     "output_type": "execute_result"
    }
   ],
   "source": [
    "model.load_state_dict(torch.load(save_path+'/best_model.pt'))"
   ]
  },
  {
   "cell_type": "code",
   "execution_count": 36,
   "id": "acbf8d18",
   "metadata": {
    "execution": {
     "iopub.execute_input": "2022-03-12T22:24:56.346063Z",
     "iopub.status.busy": "2022-03-12T22:24:56.345307Z",
     "iopub.status.idle": "2022-03-12T22:24:57.339805Z",
     "shell.execute_reply": "2022-03-12T22:24:57.340307Z"
    },
    "papermill": {
     "duration": 4.096189,
     "end_time": "2022-03-12T22:24:57.340539",
     "exception": false,
     "start_time": "2022-03-12T22:24:53.244350",
     "status": "completed"
    },
    "tags": []
   },
   "outputs": [],
   "source": [
    "f1_score_macro, test_loss, test_acc = lh.test(model, loaders['val'], criterion, train_on_gpu)"
   ]
  },
  {
   "cell_type": "code",
   "execution_count": 37,
   "id": "947a1d02",
   "metadata": {
    "execution": {
     "iopub.execute_input": "2022-03-12T22:25:03.325050Z",
     "iopub.status.busy": "2022-03-12T22:25:03.323576Z",
     "iopub.status.idle": "2022-03-12T22:25:03.327647Z",
     "shell.execute_reply": "2022-03-12T22:25:03.327123Z"
    },
    "papermill": {
     "duration": 3.01984,
     "end_time": "2022-03-12T22:25:03.327768",
     "exception": false,
     "start_time": "2022-03-12T22:25:00.307928",
     "status": "completed"
    },
    "tags": []
   },
   "outputs": [
    {
     "name": "stdout",
     "output_type": "stream",
     "text": [
      "Test f1 score: 0.37678154467961555\n",
      "Test loss: 3.1449287868714126\n",
      "Test accuracy: 0.4022601154770731\n"
     ]
    }
   ],
   "source": [
    "print('Test f1 score:', f1_score_macro)\n",
    "print('Test loss:', test_loss)\n",
    "print('Test accuracy:', test_acc)"
   ]
  },
  {
   "cell_type": "code",
   "execution_count": 38,
   "id": "51784dbc",
   "metadata": {
    "execution": {
     "iopub.execute_input": "2022-03-12T22:25:09.601500Z",
     "iopub.status.busy": "2022-03-12T22:25:09.600837Z",
     "iopub.status.idle": "2022-03-12T22:25:33.954552Z",
     "shell.execute_reply": "2022-03-12T22:25:33.954955Z"
    },
    "papermill": {
     "duration": 27.315616,
     "end_time": "2022-03-12T22:25:33.955103",
     "exception": false,
     "start_time": "2022-03-12T22:25:06.639487",
     "status": "completed"
    },
    "tags": []
   },
   "outputs": [
    {
     "name": "stdout",
     "output_type": "stream",
     "text": [
      "model_0\n",
      "Test f1 score: 0.325490164993027\n",
      "Test loss: 2.087356202197006\n",
      "Test accuracy: 0.3500932353800184\n",
      "\n",
      "model_1\n",
      "Test f1 score: 0.3505386858496301\n",
      "Test loss: 2.0005100233754094\n",
      "Test accuracy: 0.3828716497045674\n",
      "\n",
      "model_2\n",
      "Test f1 score: 0.3662423425562194\n",
      "Test loss: 1.9893130596501682\n",
      "Test accuracy: 0.3883309743658871\n",
      "\n",
      "model_3\n",
      "Test f1 score: 0.36832682039833947\n",
      "Test loss: 2.053161740646582\n",
      "Test accuracy: 0.3926220484823976\n",
      "\n",
      "model_4\n",
      "Test f1 score: 0.36833239679334034\n",
      "Test loss: 2.1241801111430187\n",
      "Test accuracy: 0.3894542921974343\n",
      "\n",
      "model_5\n",
      "Test f1 score: 0.3691729637916338\n",
      "Test loss: 2.1867632134159978\n",
      "Test accuracy: 0.3929141111185999\n",
      "\n",
      "model_6\n",
      "Test f1 score: 0.3663857981692469\n",
      "Test loss: 2.324898838309802\n",
      "Test accuracy: 0.3889824987081845\n",
      "\n",
      "model_7\n",
      "Test f1 score: 0.3688019036292477\n",
      "Test loss: 2.4262146437889562\n",
      "Test accuracy: 0.39525061220821817\n",
      "\n",
      "model_8\n",
      "Test f1 score: 0.3696999535016988\n",
      "Test loss: 2.5376035012841567\n",
      "Test accuracy: 0.39316124104154027\n",
      "\n",
      "model_9\n",
      "Test f1 score: 0.36673733114954127\n",
      "Test loss: 2.588500647105126\n",
      "Test accuracy: 0.392060389566624\n",
      "\n",
      "model_10\n",
      "Test f1 score: 0.3749691238953515\n",
      "Test loss: 2.9118598716746833\n",
      "Test accuracy: 0.399833748960931\n",
      "\n",
      "model_11\n",
      "Test f1 score: 0.3770038011724613\n",
      "Test loss: 3.1437029481277685\n",
      "Test accuracy: 0.40234998090359686\n",
      "\n",
      "model_12\n",
      "Test f1 score: 0.37573830782706835\n",
      "Test loss: 3.3098922352969473\n",
      "Test accuracy: 0.4012041967154187\n",
      "\n",
      "model_13\n",
      "Test f1 score: 0.37415532249461597\n",
      "Test loss: 3.4866885211350938\n",
      "Test accuracy: 0.3989800274089551\n",
      "\n",
      "model_14\n",
      "Test f1 score: 0.3723082252387481\n",
      "Test loss: 3.651799094092949\n",
      "Test accuracy: 0.398193704926872\n",
      "\n",
      "model_15\n",
      "Test f1 score: 0.37169591171380406\n",
      "Test loss: 3.7719920828981426\n",
      "Test accuracy: 0.3975421805845746\n",
      "\n",
      "model_16\n",
      "Test f1 score: 0.3700623427097109\n",
      "Test loss: 3.8878402070971663\n",
      "Test accuracy: 0.39637393003976545\n",
      "\n",
      "model_17\n",
      "Test f1 score: 0.3713357951391426\n",
      "Test loss: 4.042772084216907\n",
      "Test accuracy: 0.3982386376401339\n",
      "\n",
      "model_18\n",
      "Test f1 score: 0.3707355101764929\n",
      "Test loss: 4.139376156611814\n",
      "Test accuracy: 0.39695805531217004\n",
      "\n",
      "model_19\n",
      "Test f1 score: 0.37091140033349285\n",
      "Test loss: 4.225408299168524\n",
      "Test accuracy: 0.39682325717238437\n",
      "\n"
     ]
    }
   ],
   "source": [
    "for i in range(n_epochs):\n",
    "    print('model_{}'.format(i))\n",
    "    model.load_state_dict(torch.load(save_path+'/model_{}.pt'.format(i)))    \n",
    "    f1_score_macro, test_loss, test_acc = lh.test(model, loaders['val'], criterion, train_on_gpu)    \n",
    "    print('Test f1 score:', f1_score_macro)\n",
    "    print('Test loss:', test_loss)\n",
    "    print('Test accuracy:', test_acc)\n",
    "    print()"
   ]
  },
  {
   "cell_type": "code",
   "execution_count": null,
   "id": "1027d2de",
   "metadata": {
    "papermill": {
     "duration": 3.430828,
     "end_time": "2022-03-12T22:25:40.376453",
     "exception": false,
     "start_time": "2022-03-12T22:25:36.945625",
     "status": "completed"
    },
    "tags": []
   },
   "outputs": [],
   "source": []
  }
 ],
 "metadata": {
  "kernelspec": {
   "display_name": "Python 3",
   "language": "python",
   "name": "python3"
  },
  "language_info": {
   "codemirror_mode": {
    "name": "ipython",
    "version": 3
   },
   "file_extension": ".py",
   "mimetype": "text/x-python",
   "name": "python",
   "nbconvert_exporter": "python",
   "pygments_lexer": "ipython3",
   "version": "3.7.12"
  },
  "papermill": {
   "default_parameters": {},
   "duration": 1174.14459,
   "end_time": "2022-03-12T22:25:45.692615",
   "environment_variables": {},
   "exception": null,
   "input_path": "__notebook__.ipynb",
   "output_path": "__notebook__.ipynb",
   "parameters": {},
   "start_time": "2022-03-12T22:06:11.548025",
   "version": "2.3.3"
  }
 },
 "nbformat": 4,
 "nbformat_minor": 5
}
