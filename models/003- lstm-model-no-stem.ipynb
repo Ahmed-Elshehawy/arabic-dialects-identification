{
 "cells": [
  {
   "cell_type": "code",
   "execution_count": 1,
   "id": "9a8a2dbf",
   "metadata": {
    "executionInfo": {
     "elapsed": 18,
     "status": "ok",
     "timestamp": 1646806729425,
     "user": {
      "displayName": "Ahmed Elshehawy",
      "photoUrl": "https://lh3.googleusercontent.com/a/default-user=s64",
      "userId": "14316704093209259342"
     },
     "user_tz": -120
    },
    "id": "cnDyigVzCum_",
    "papermill": {
     "duration": 2.883277,
     "end_time": "2022-03-12T17:45:43.006105",
     "exception": false,
     "start_time": "2022-03-12T17:45:40.122828",
     "status": "completed"
    },
    "tags": []
   },
   "outputs": [],
   "source": [
    "import numpy as np\n",
    "import pandas as pd\n",
    "from sklearn.model_selection import train_test_split\n",
    "from sklearn.utils.class_weight import compute_class_weight\n",
    "import torch\n",
    "import torch.nn as nn\n",
    "from torch.nn import init\n",
    "import torch.nn.functional as F\n",
    "from torch.utils.data import TensorDataset, DataLoader\n",
    "import torch.optim as optim\n",
    "from daar.lstm_helpers import DialectRNN\n",
    "import daar.lstm_helpers as lh\n",
    "import daar.nlp_helpers as nh"
   ]
  },
  {
   "cell_type": "markdown",
   "id": "38dc3efd",
   "metadata": {
    "id": "_Ta9myRFChMI",
    "papermill": {
     "duration": 0.062848,
     "end_time": "2022-03-12T17:45:43.132832",
     "exception": false,
     "start_time": "2022-03-12T17:45:43.069984",
     "status": "completed"
    },
    "tags": []
   },
   "source": [
    "### Load preocessed data"
   ]
  },
  {
   "cell_type": "code",
   "execution_count": 2,
   "id": "7abf8ea6",
   "metadata": {
    "execution": {
     "iopub.execute_input": "2022-03-12T17:45:43.263640Z",
     "iopub.status.busy": "2022-03-12T17:45:43.262670Z",
     "iopub.status.idle": "2022-03-12T17:45:43.265112Z",
     "shell.execute_reply": "2022-03-12T17:45:43.264467Z",
     "shell.execute_reply.started": "2022-03-12T17:43:52.458737Z"
    },
    "executionInfo": {
     "elapsed": 16,
     "status": "ok",
     "timestamp": 1646806729429,
     "user": {
      "displayName": "Ahmed Elshehawy",
      "photoUrl": "https://lh3.googleusercontent.com/a/default-user=s64",
      "userId": "14316704093209259342"
     },
     "user_tz": -120
    },
    "id": "k1F1ciXeCsTk",
    "papermill": {
     "duration": 0.070178,
     "end_time": "2022-03-12T17:45:43.265270",
     "exception": false,
     "start_time": "2022-03-12T17:45:43.195092",
     "status": "completed"
    },
    "tags": []
   },
   "outputs": [],
   "source": [
    "data_no_stem_path = '../input/dialect-processed-data/preprocessed_data_no_stem.obj'\n",
    "data_with_stem_path = '../input/dialect-processed-data/preprocessed_data_with_stem.obj'"
   ]
  },
  {
   "cell_type": "code",
   "execution_count": 3,
   "id": "f7dc7eb4",
   "metadata": {
    "execution": {
     "iopub.execute_input": "2022-03-12T17:45:43.353855Z",
     "iopub.status.busy": "2022-03-12T17:45:43.353330Z",
     "iopub.status.idle": "2022-03-12T17:45:49.088931Z",
     "shell.execute_reply": "2022-03-12T17:45:49.087870Z",
     "shell.execute_reply.started": "2022-03-12T17:43:52.464619Z"
    },
    "executionInfo": {
     "elapsed": 2834,
     "status": "ok",
     "timestamp": 1646806732248,
     "user": {
      "displayName": "Ahmed Elshehawy",
      "photoUrl": "https://lh3.googleusercontent.com/a/default-user=s64",
      "userId": "14316704093209259342"
     },
     "user_tz": -120
    },
    "id": "UNi56LhiCKTO",
    "papermill": {
     "duration": 5.776823,
     "end_time": "2022-03-12T17:45:49.089130",
     "exception": false,
     "start_time": "2022-03-12T17:45:43.312307",
     "status": "completed"
    },
    "tags": []
   },
   "outputs": [],
   "source": [
    "data_no_stem = nh.load_pickle_file(data_no_stem_path)\n",
    "data_with_stem = nh.load_pickle_file(data_with_stem_path)"
   ]
  },
  {
   "cell_type": "code",
   "execution_count": 4,
   "id": "c8ff0c29",
   "metadata": {
    "execution": {
     "iopub.execute_input": "2022-03-12T17:45:49.179841Z",
     "iopub.status.busy": "2022-03-12T17:45:49.179081Z",
     "iopub.status.idle": "2022-03-12T17:45:49.194001Z",
     "shell.execute_reply": "2022-03-12T17:45:49.194421Z",
     "shell.execute_reply.started": "2022-03-12T17:43:58.224370Z"
    },
    "executionInfo": {
     "elapsed": 41,
     "status": "ok",
     "timestamp": 1646806732250,
     "user": {
      "displayName": "Ahmed Elshehawy",
      "photoUrl": "https://lh3.googleusercontent.com/a/default-user=s64",
      "userId": "14316704093209259342"
     },
     "user_tz": -120
    },
    "id": "T7IjA5GGCydT",
    "outputId": "3b5b933d-fc04-4edf-984f-e3b5362bbaed",
    "papermill": {
     "duration": 0.064036,
     "end_time": "2022-03-12T17:45:49.194565",
     "exception": false,
     "start_time": "2022-03-12T17:45:49.130529",
     "status": "completed"
    },
    "tags": []
   },
   "outputs": [
    {
     "data": {
      "text/html": [
       "<div>\n",
       "<style scoped>\n",
       "    .dataframe tbody tr th:only-of-type {\n",
       "        vertical-align: middle;\n",
       "    }\n",
       "\n",
       "    .dataframe tbody tr th {\n",
       "        vertical-align: top;\n",
       "    }\n",
       "\n",
       "    .dataframe thead th {\n",
       "        text-align: right;\n",
       "    }\n",
       "</style>\n",
       "<table border=\"1\" class=\"dataframe\">\n",
       "  <thead>\n",
       "    <tr style=\"text-align: right;\">\n",
       "      <th></th>\n",
       "      <th>id</th>\n",
       "      <th>text</th>\n",
       "      <th>dialect</th>\n",
       "    </tr>\n",
       "  </thead>\n",
       "  <tbody>\n",
       "    <tr>\n",
       "      <th>0</th>\n",
       "      <td>1175358310087892992</td>\n",
       "      <td>[بالنهايه, ينتفض, يغير]</td>\n",
       "      <td>IQ</td>\n",
       "    </tr>\n",
       "    <tr>\n",
       "      <th>1</th>\n",
       "      <td>1175416117793349632</td>\n",
       "      <td>[يعني, محسوب, البشر, حيونه, ووحشيه, وتطلبون, ا...</td>\n",
       "      <td>IQ</td>\n",
       "    </tr>\n",
       "    <tr>\n",
       "      <th>2</th>\n",
       "      <td>1175450108898565888</td>\n",
       "      <td>[مبين, كلامه, خليجي]</td>\n",
       "      <td>IQ</td>\n",
       "    </tr>\n",
       "    <tr>\n",
       "      <th>3</th>\n",
       "      <td>1175471073770573824</td>\n",
       "      <td>[يسلملي, مرورك, وروحك, الحلوه]</td>\n",
       "      <td>IQ</td>\n",
       "    </tr>\n",
       "    <tr>\n",
       "      <th>4</th>\n",
       "      <td>1175496913145217024</td>\n",
       "      <td>[وين, الغيبه, محمد]</td>\n",
       "      <td>IQ</td>\n",
       "    </tr>\n",
       "  </tbody>\n",
       "</table>\n",
       "</div>"
      ],
      "text/plain": [
       "                    id                                               text  \\\n",
       "0  1175358310087892992                            [بالنهايه, ينتفض, يغير]   \n",
       "1  1175416117793349632  [يعني, محسوب, البشر, حيونه, ووحشيه, وتطلبون, ا...   \n",
       "2  1175450108898565888                               [مبين, كلامه, خليجي]   \n",
       "3  1175471073770573824                     [يسلملي, مرورك, وروحك, الحلوه]   \n",
       "4  1175496913145217024                                [وين, الغيبه, محمد]   \n",
       "\n",
       "  dialect  \n",
       "0      IQ  \n",
       "1      IQ  \n",
       "2      IQ  \n",
       "3      IQ  \n",
       "4      IQ  "
      ]
     },
     "execution_count": 4,
     "metadata": {},
     "output_type": "execute_result"
    }
   ],
   "source": [
    "data_no_stem.head()"
   ]
  },
  {
   "cell_type": "code",
   "execution_count": 5,
   "id": "2397950a",
   "metadata": {
    "execution": {
     "iopub.execute_input": "2022-03-12T17:45:49.288989Z",
     "iopub.status.busy": "2022-03-12T17:45:49.288230Z",
     "iopub.status.idle": "2022-03-12T17:45:49.291239Z",
     "shell.execute_reply": "2022-03-12T17:45:49.291685Z",
     "shell.execute_reply.started": "2022-03-12T17:43:58.247582Z"
    },
    "papermill": {
     "duration": 0.05494,
     "end_time": "2022-03-12T17:45:49.291811",
     "exception": false,
     "start_time": "2022-03-12T17:45:49.236871",
     "status": "completed"
    },
    "tags": []
   },
   "outputs": [
    {
     "data": {
      "text/html": [
       "<div>\n",
       "<style scoped>\n",
       "    .dataframe tbody tr th:only-of-type {\n",
       "        vertical-align: middle;\n",
       "    }\n",
       "\n",
       "    .dataframe tbody tr th {\n",
       "        vertical-align: top;\n",
       "    }\n",
       "\n",
       "    .dataframe thead th {\n",
       "        text-align: right;\n",
       "    }\n",
       "</style>\n",
       "<table border=\"1\" class=\"dataframe\">\n",
       "  <thead>\n",
       "    <tr style=\"text-align: right;\">\n",
       "      <th></th>\n",
       "      <th>id</th>\n",
       "      <th>text</th>\n",
       "      <th>dialect</th>\n",
       "    </tr>\n",
       "  </thead>\n",
       "  <tbody>\n",
       "    <tr>\n",
       "      <th>0</th>\n",
       "      <td>1175358310087892992</td>\n",
       "      <td>[نهي, نفض, يغر]</td>\n",
       "      <td>IQ</td>\n",
       "    </tr>\n",
       "    <tr>\n",
       "      <th>1</th>\n",
       "      <td>1175416117793349632</td>\n",
       "      <td>[يعن, بشر, وحش, طلب, غرب, حرم, يءم, بدن, ينع, ...</td>\n",
       "      <td>IQ</td>\n",
       "    </tr>\n",
       "    <tr>\n",
       "      <th>2</th>\n",
       "      <td>1175450108898565888</td>\n",
       "      <td>[كلم, خلج]</td>\n",
       "      <td>IQ</td>\n",
       "    </tr>\n",
       "    <tr>\n",
       "      <th>3</th>\n",
       "      <td>1175471073770573824</td>\n",
       "      <td>[لمل, رور, ورح, حلوه]</td>\n",
       "      <td>IQ</td>\n",
       "    </tr>\n",
       "    <tr>\n",
       "      <th>4</th>\n",
       "      <td>1175496913145217024</td>\n",
       "      <td>[وين, غيب, حمد]</td>\n",
       "      <td>IQ</td>\n",
       "    </tr>\n",
       "  </tbody>\n",
       "</table>\n",
       "</div>"
      ],
      "text/plain": [
       "                    id                                               text  \\\n",
       "0  1175358310087892992                                    [نهي, نفض, يغر]   \n",
       "1  1175416117793349632  [يعن, بشر, وحش, طلب, غرب, حرم, يءم, بدن, ينع, ...   \n",
       "2  1175450108898565888                                         [كلم, خلج]   \n",
       "3  1175471073770573824                              [لمل, رور, ورح, حلوه]   \n",
       "4  1175496913145217024                                    [وين, غيب, حمد]   \n",
       "\n",
       "  dialect  \n",
       "0      IQ  \n",
       "1      IQ  \n",
       "2      IQ  \n",
       "3      IQ  \n",
       "4      IQ  "
      ]
     },
     "execution_count": 5,
     "metadata": {},
     "output_type": "execute_result"
    }
   ],
   "source": [
    "data_with_stem.head()"
   ]
  },
  {
   "cell_type": "code",
   "execution_count": 6,
   "id": "f47ea657",
   "metadata": {
    "execution": {
     "iopub.execute_input": "2022-03-12T17:45:49.407796Z",
     "iopub.status.busy": "2022-03-12T17:45:49.402598Z",
     "iopub.status.idle": "2022-03-12T17:45:49.701744Z",
     "shell.execute_reply": "2022-03-12T17:45:49.702679Z",
     "shell.execute_reply.started": "2022-03-12T17:43:58.260017Z"
    },
    "executionInfo": {
     "elapsed": 37,
     "status": "ok",
     "timestamp": 1646806732251,
     "user": {
      "displayName": "Ahmed Elshehawy",
      "photoUrl": "https://lh3.googleusercontent.com/a/default-user=s64",
      "userId": "14316704093209259342"
     },
     "user_tz": -120
    },
    "id": "Fu-DAwUuRMTW",
    "papermill": {
     "duration": 0.368866,
     "end_time": "2022-03-12T17:45:49.702885",
     "exception": false,
     "start_time": "2022-03-12T17:45:49.334019",
     "status": "completed"
    },
    "tags": []
   },
   "outputs": [],
   "source": [
    "data_no_stem['tweet_length'] = [len(tweet) for tweet in data_no_stem['text']]"
   ]
  },
  {
   "cell_type": "code",
   "execution_count": 7,
   "id": "a9944ce6",
   "metadata": {
    "execution": {
     "iopub.execute_input": "2022-03-12T17:45:49.856171Z",
     "iopub.status.busy": "2022-03-12T17:45:49.855416Z",
     "iopub.status.idle": "2022-03-12T17:45:49.865339Z",
     "shell.execute_reply": "2022-03-12T17:45:49.865945Z",
     "shell.execute_reply.started": "2022-03-12T17:43:58.500449Z"
    },
    "executionInfo": {
     "elapsed": 37,
     "status": "ok",
     "timestamp": 1646806732253,
     "user": {
      "displayName": "Ahmed Elshehawy",
      "photoUrl": "https://lh3.googleusercontent.com/a/default-user=s64",
      "userId": "14316704093209259342"
     },
     "user_tz": -120
    },
    "id": "0TrpN5BMRWFJ",
    "outputId": "75899a15-b1bf-46b9-ac11-14161f3e51d5",
    "papermill": {
     "duration": 0.089983,
     "end_time": "2022-03-12T17:45:49.866129",
     "exception": false,
     "start_time": "2022-03-12T17:45:49.776146",
     "status": "completed"
    },
    "tags": []
   },
   "outputs": [
    {
     "data": {
      "text/html": [
       "<div>\n",
       "<style scoped>\n",
       "    .dataframe tbody tr th:only-of-type {\n",
       "        vertical-align: middle;\n",
       "    }\n",
       "\n",
       "    .dataframe tbody tr th {\n",
       "        vertical-align: top;\n",
       "    }\n",
       "\n",
       "    .dataframe thead th {\n",
       "        text-align: right;\n",
       "    }\n",
       "</style>\n",
       "<table border=\"1\" class=\"dataframe\">\n",
       "  <thead>\n",
       "    <tr style=\"text-align: right;\">\n",
       "      <th></th>\n",
       "      <th>id</th>\n",
       "      <th>text</th>\n",
       "      <th>dialect</th>\n",
       "      <th>tweet_length</th>\n",
       "    </tr>\n",
       "  </thead>\n",
       "  <tbody>\n",
       "    <tr>\n",
       "      <th>0</th>\n",
       "      <td>1175358310087892992</td>\n",
       "      <td>[بالنهايه, ينتفض, يغير]</td>\n",
       "      <td>IQ</td>\n",
       "      <td>3</td>\n",
       "    </tr>\n",
       "    <tr>\n",
       "      <th>1</th>\n",
       "      <td>1175416117793349632</td>\n",
       "      <td>[يعني, محسوب, البشر, حيونه, ووحشيه, وتطلبون, ا...</td>\n",
       "      <td>IQ</td>\n",
       "      <td>12</td>\n",
       "    </tr>\n",
       "    <tr>\n",
       "      <th>2</th>\n",
       "      <td>1175450108898565888</td>\n",
       "      <td>[مبين, كلامه, خليجي]</td>\n",
       "      <td>IQ</td>\n",
       "      <td>3</td>\n",
       "    </tr>\n",
       "    <tr>\n",
       "      <th>3</th>\n",
       "      <td>1175471073770573824</td>\n",
       "      <td>[يسلملي, مرورك, وروحك, الحلوه]</td>\n",
       "      <td>IQ</td>\n",
       "      <td>4</td>\n",
       "    </tr>\n",
       "    <tr>\n",
       "      <th>4</th>\n",
       "      <td>1175496913145217024</td>\n",
       "      <td>[وين, الغيبه, محمد]</td>\n",
       "      <td>IQ</td>\n",
       "      <td>3</td>\n",
       "    </tr>\n",
       "  </tbody>\n",
       "</table>\n",
       "</div>"
      ],
      "text/plain": [
       "                    id                                               text  \\\n",
       "0  1175358310087892992                            [بالنهايه, ينتفض, يغير]   \n",
       "1  1175416117793349632  [يعني, محسوب, البشر, حيونه, ووحشيه, وتطلبون, ا...   \n",
       "2  1175450108898565888                               [مبين, كلامه, خليجي]   \n",
       "3  1175471073770573824                     [يسلملي, مرورك, وروحك, الحلوه]   \n",
       "4  1175496913145217024                                [وين, الغيبه, محمد]   \n",
       "\n",
       "  dialect  tweet_length  \n",
       "0      IQ             3  \n",
       "1      IQ            12  \n",
       "2      IQ             3  \n",
       "3      IQ             4  \n",
       "4      IQ             3  "
      ]
     },
     "execution_count": 7,
     "metadata": {},
     "output_type": "execute_result"
    }
   ],
   "source": [
    "data_no_stem.head()"
   ]
  },
  {
   "cell_type": "code",
   "execution_count": 8,
   "id": "e8ac4aa1",
   "metadata": {
    "execution": {
     "iopub.execute_input": "2022-03-12T17:45:50.006735Z",
     "iopub.status.busy": "2022-03-12T17:45:50.005338Z",
     "iopub.status.idle": "2022-03-12T17:45:50.008733Z",
     "shell.execute_reply": "2022-03-12T17:45:50.006027Z",
     "shell.execute_reply.started": "2022-03-12T17:43:58.514876Z"
    },
    "executionInfo": {
     "elapsed": 35,
     "status": "ok",
     "timestamp": 1646806732254,
     "user": {
      "displayName": "Ahmed Elshehawy",
      "photoUrl": "https://lh3.googleusercontent.com/a/default-user=s64",
      "userId": "14316704093209259342"
     },
     "user_tz": -120
    },
    "id": "yPkxLYPyRqAY",
    "outputId": "90fb310c-6f7e-48a7-d1d3-2da217e193ea",
    "papermill": {
     "duration": 0.079431,
     "end_time": "2022-03-12T17:45:50.008887",
     "exception": false,
     "start_time": "2022-03-12T17:45:49.929456",
     "status": "completed"
    },
    "tags": []
   },
   "outputs": [
    {
     "data": {
      "text/plain": [
       "458197"
      ]
     },
     "execution_count": 8,
     "metadata": {},
     "output_type": "execute_result"
    }
   ],
   "source": [
    "len(data_no_stem)"
   ]
  },
  {
   "cell_type": "markdown",
   "id": "0e02fa79",
   "metadata": {
    "papermill": {
     "duration": 0.064533,
     "end_time": "2022-03-12T17:45:50.138107",
     "exception": false,
     "start_time": "2022-03-12T17:45:50.073574",
     "status": "completed"
    },
    "tags": []
   },
   "source": [
    "### Delete too short tweets"
   ]
  },
  {
   "cell_type": "code",
   "execution_count": 9,
   "id": "d82abd30",
   "metadata": {
    "execution": {
     "iopub.execute_input": "2022-03-12T17:45:50.288294Z",
     "iopub.status.busy": "2022-03-12T17:45:50.287258Z",
     "iopub.status.idle": "2022-03-12T17:45:50.318450Z",
     "shell.execute_reply": "2022-03-12T17:45:50.319189Z",
     "shell.execute_reply.started": "2022-03-12T17:43:58.522191Z"
    },
    "executionInfo": {
     "elapsed": 43,
     "status": "ok",
     "timestamp": 1646806732723,
     "user": {
      "displayName": "Ahmed Elshehawy",
      "photoUrl": "https://lh3.googleusercontent.com/a/default-user=s64",
      "userId": "14316704093209259342"
     },
     "user_tz": -120
    },
    "id": "fLkfmzoXRkRc",
    "papermill": {
     "duration": 0.113048,
     "end_time": "2022-03-12T17:45:50.319407",
     "exception": false,
     "start_time": "2022-03-12T17:45:50.206359",
     "status": "completed"
    },
    "tags": []
   },
   "outputs": [],
   "source": [
    "threshold = 2\n",
    "data_no_stem = data_no_stem[data_no_stem['tweet_length'] > threshold]"
   ]
  },
  {
   "cell_type": "code",
   "execution_count": 10,
   "id": "b3d3fdee",
   "metadata": {
    "execution": {
     "iopub.execute_input": "2022-03-12T17:45:50.463915Z",
     "iopub.status.busy": "2022-03-12T17:45:50.463139Z",
     "iopub.status.idle": "2022-03-12T17:45:50.466282Z",
     "shell.execute_reply": "2022-03-12T17:45:50.466898Z",
     "shell.execute_reply.started": "2022-03-12T17:43:58.559324Z"
    },
    "executionInfo": {
     "elapsed": 41,
     "status": "ok",
     "timestamp": 1646806732724,
     "user": {
      "displayName": "Ahmed Elshehawy",
      "photoUrl": "https://lh3.googleusercontent.com/a/default-user=s64",
      "userId": "14316704093209259342"
     },
     "user_tz": -120
    },
    "id": "0-G3LhqbRuMF",
    "papermill": {
     "duration": 0.078584,
     "end_time": "2022-03-12T17:45:50.467097",
     "exception": false,
     "start_time": "2022-03-12T17:45:50.388513",
     "status": "completed"
    },
    "tags": []
   },
   "outputs": [],
   "source": [
    "data_no_stem.reset_index(inplace=True, drop=True)"
   ]
  },
  {
   "cell_type": "code",
   "execution_count": 11,
   "id": "7cd92319",
   "metadata": {
    "execution": {
     "iopub.execute_input": "2022-03-12T17:45:50.607562Z",
     "iopub.status.busy": "2022-03-12T17:45:50.606843Z",
     "iopub.status.idle": "2022-03-12T17:45:50.610316Z",
     "shell.execute_reply": "2022-03-12T17:45:50.610844Z",
     "shell.execute_reply.started": "2022-03-12T17:43:58.565141Z"
    },
    "executionInfo": {
     "elapsed": 41,
     "status": "ok",
     "timestamp": 1646806732726,
     "user": {
      "displayName": "Ahmed Elshehawy",
      "photoUrl": "https://lh3.googleusercontent.com/a/default-user=s64",
      "userId": "14316704093209259342"
     },
     "user_tz": -120
    },
    "id": "osJH4BCKRrxa",
    "outputId": "5bd17a2c-8889-4d34-e4e9-16d6c8de0b1a",
    "papermill": {
     "duration": 0.07407,
     "end_time": "2022-03-12T17:45:50.611038",
     "exception": false,
     "start_time": "2022-03-12T17:45:50.536968",
     "status": "completed"
    },
    "tags": []
   },
   "outputs": [
    {
     "data": {
      "text/plain": [
       "449784"
      ]
     },
     "execution_count": 11,
     "metadata": {},
     "output_type": "execute_result"
    }
   ],
   "source": [
    "len(data_no_stem)"
   ]
  },
  {
   "cell_type": "markdown",
   "id": "9986ae65",
   "metadata": {
    "id": "p-gOTqdgF8_y",
    "papermill": {
     "duration": 0.044038,
     "end_time": "2022-03-12T17:45:50.700763",
     "exception": false,
     "start_time": "2022-03-12T17:45:50.656725",
     "status": "completed"
    },
    "tags": []
   },
   "source": [
    "### Create vocabulary"
   ]
  },
  {
   "cell_type": "code",
   "execution_count": 12,
   "id": "277e6fdf",
   "metadata": {
    "execution": {
     "iopub.execute_input": "2022-03-12T17:45:50.807240Z",
     "iopub.status.busy": "2022-03-12T17:45:50.806277Z",
     "iopub.status.idle": "2022-03-12T17:45:51.806795Z",
     "shell.execute_reply": "2022-03-12T17:45:51.806256Z",
     "shell.execute_reply.started": "2022-03-12T17:43:58.576410Z"
    },
    "executionInfo": {
     "elapsed": 1280,
     "status": "ok",
     "timestamp": 1646806733974,
     "user": {
      "displayName": "Ahmed Elshehawy",
      "photoUrl": "https://lh3.googleusercontent.com/a/default-user=s64",
      "userId": "14316704093209259342"
     },
     "user_tz": -120
    },
    "id": "ycqUJJ7gCz0Q",
    "papermill": {
     "duration": 1.051172,
     "end_time": "2022-03-12T17:45:51.806923",
     "exception": false,
     "start_time": "2022-03-12T17:45:50.755751",
     "status": "completed"
    },
    "tags": []
   },
   "outputs": [],
   "source": [
    "# first, get all words in this corpus\n",
    "words = nh.get_corpus_words(data_no_stem['text'])"
   ]
  },
  {
   "cell_type": "code",
   "execution_count": 13,
   "id": "a7deb491",
   "metadata": {
    "execution": {
     "iopub.execute_input": "2022-03-12T17:45:51.895235Z",
     "iopub.status.busy": "2022-03-12T17:45:51.894716Z",
     "iopub.status.idle": "2022-03-12T17:45:51.901766Z",
     "shell.execute_reply": "2022-03-12T17:45:51.901294Z",
     "shell.execute_reply.started": "2022-03-12T17:43:59.576147Z"
    },
    "executionInfo": {
     "elapsed": 13,
     "status": "ok",
     "timestamp": 1646806733975,
     "user": {
      "displayName": "Ahmed Elshehawy",
      "photoUrl": "https://lh3.googleusercontent.com/a/default-user=s64",
      "userId": "14316704093209259342"
     },
     "user_tz": -120
    },
    "id": "82geTn91GBm9",
    "outputId": "4b41c1c7-8826-4144-a9bd-5b89332926a8",
    "papermill": {
     "duration": 0.053154,
     "end_time": "2022-03-12T17:45:51.901881",
     "exception": false,
     "start_time": "2022-03-12T17:45:51.848727",
     "status": "completed"
    },
    "tags": []
   },
   "outputs": [
    {
     "name": "stdout",
     "output_type": "stream",
     "text": [
      "The number of words in our this corpus: 4764500\n",
      "Sample words\n"
     ]
    },
    {
     "data": {
      "text/plain": [
       "['بالنهايه',\n",
       " 'ينتفض',\n",
       " 'يغير',\n",
       " 'يعني',\n",
       " 'محسوب',\n",
       " 'البشر',\n",
       " 'حيونه',\n",
       " 'ووحشيه',\n",
       " 'وتطلبون',\n",
       " 'الغرب']"
      ]
     },
     "execution_count": 13,
     "metadata": {},
     "output_type": "execute_result"
    }
   ],
   "source": [
    "print('The number of words in our this corpus:', len(words))\n",
    "print('Sample words')\n",
    "words[:10]"
   ]
  },
  {
   "cell_type": "code",
   "execution_count": 14,
   "id": "6d19ab26",
   "metadata": {
    "execution": {
     "iopub.execute_input": "2022-03-12T17:45:53.074289Z",
     "iopub.status.busy": "2022-03-12T17:45:53.065611Z",
     "iopub.status.idle": "2022-03-12T17:45:53.077081Z",
     "shell.execute_reply": "2022-03-12T17:45:53.076364Z",
     "shell.execute_reply.started": "2022-03-12T17:43:59.667241Z"
    },
    "executionInfo": {
     "elapsed": 375,
     "status": "ok",
     "timestamp": 1646806735834,
     "user": {
      "displayName": "Ahmed Elshehawy",
      "photoUrl": "https://lh3.googleusercontent.com/a/default-user=s64",
      "userId": "14316704093209259342"
     },
     "user_tz": -120
    },
    "id": "s4cLLACWGD69",
    "papermill": {
     "duration": 1.134122,
     "end_time": "2022-03-12T17:45:53.077218",
     "exception": false,
     "start_time": "2022-03-12T17:45:51.943096",
     "status": "completed"
    },
    "tags": []
   },
   "outputs": [],
   "source": [
    "# vocab: contains unique words only, ordered form most frequent to least frequent\n",
    "vocab = nh.get_vocab(words)"
   ]
  },
  {
   "cell_type": "code",
   "execution_count": 15,
   "id": "fde27b09",
   "metadata": {
    "execution": {
     "iopub.execute_input": "2022-03-12T17:45:53.166672Z",
     "iopub.status.busy": "2022-03-12T17:45:53.166049Z",
     "iopub.status.idle": "2022-03-12T17:45:53.170150Z",
     "shell.execute_reply": "2022-03-12T17:45:53.169706Z",
     "shell.execute_reply.started": "2022-03-12T17:44:00.779935Z"
    },
    "executionInfo": {
     "elapsed": 13,
     "status": "ok",
     "timestamp": 1646806735836,
     "user": {
      "displayName": "Ahmed Elshehawy",
      "photoUrl": "https://lh3.googleusercontent.com/a/default-user=s64",
      "userId": "14316704093209259342"
     },
     "user_tz": -120
    },
    "id": "9UZnVzbqGNhS",
    "outputId": "c7a959dd-a51b-4f59-c7bd-57c22dbe1042",
    "papermill": {
     "duration": 0.051529,
     "end_time": "2022-03-12T17:45:53.170254",
     "exception": false,
     "start_time": "2022-03-12T17:45:53.118725",
     "status": "completed"
    },
    "tags": []
   },
   "outputs": [
    {
     "name": "stdout",
     "output_type": "stream",
     "text": [
      "The number of unique words: 421597\n",
      "Sample of most frequent words\n"
     ]
    },
    {
     "data": {
      "text/plain": [
       "['اللي', 'الله', 'مش', 'والله', 'شي', 'يعني', 'الناس', 'عشان', 'مو', 'ده']"
      ]
     },
     "execution_count": 15,
     "metadata": {},
     "output_type": "execute_result"
    }
   ],
   "source": [
    "print('The number of unique words:', len(vocab))\n",
    "print('Sample of most frequent words')\n",
    "vocab[:10]"
   ]
  },
  {
   "cell_type": "code",
   "execution_count": 16,
   "id": "7b364b43",
   "metadata": {
    "execution": {
     "iopub.execute_input": "2022-03-12T17:45:53.265533Z",
     "iopub.status.busy": "2022-03-12T17:45:53.264630Z",
     "iopub.status.idle": "2022-03-12T17:45:53.491542Z",
     "shell.execute_reply": "2022-03-12T17:45:53.491038Z",
     "shell.execute_reply.started": "2022-03-12T17:44:00.794020Z"
    },
    "executionInfo": {
     "elapsed": 461,
     "status": "ok",
     "timestamp": 1646806736289,
     "user": {
      "displayName": "Ahmed Elshehawy",
      "photoUrl": "https://lh3.googleusercontent.com/a/default-user=s64",
      "userId": "14316704093209259342"
     },
     "user_tz": -120
    },
    "id": "CyfXH4uvGanW",
    "papermill": {
     "duration": 0.274977,
     "end_time": "2022-03-12T17:45:53.491689",
     "exception": false,
     "start_time": "2022-03-12T17:45:53.216712",
     "status": "completed"
    },
    "tags": []
   },
   "outputs": [],
   "source": [
    "# vocab_to_int: dictionay, where its keys are the vocab words, \n",
    "# and its values are integers starting from 1\n",
    "# 0 will be used later for padding and for unknown words \n",
    "# int_to_vocab, keys are integers (starting from 1), values are the words in our vocab\n",
    "vocab_to_int, int_to_vocab = nh.get_mappings(vocab, i=1)"
   ]
  },
  {
   "cell_type": "code",
   "execution_count": 17,
   "id": "dc60136d",
   "metadata": {
    "execution": {
     "iopub.execute_input": "2022-03-12T17:45:53.580526Z",
     "iopub.status.busy": "2022-03-12T17:45:53.579768Z",
     "iopub.status.idle": "2022-03-12T17:45:54.063272Z",
     "shell.execute_reply": "2022-03-12T17:45:54.064514Z",
     "shell.execute_reply.started": "2022-03-12T17:44:01.024360Z"
    },
    "executionInfo": {
     "elapsed": 343,
     "status": "ok",
     "timestamp": 1646806736627,
     "user": {
      "displayName": "Ahmed Elshehawy",
      "photoUrl": "https://lh3.googleusercontent.com/a/default-user=s64",
      "userId": "14316704093209259342"
     },
     "user_tz": -120
    },
    "id": "QjddoXxBG-8t",
    "papermill": {
     "duration": 0.530952,
     "end_time": "2022-03-12T17:45:54.064736",
     "exception": false,
     "start_time": "2022-03-12T17:45:53.533784",
     "status": "completed"
    },
    "tags": []
   },
   "outputs": [],
   "source": [
    "# save vocab_to_int, and int_to_vocab, will be needed in inference\n",
    "nh.save_pickle_file(vocab_to_int, 'vocab_to_int_no_stem.obj')\n",
    "nh.save_pickle_file(int_to_vocab, 'int_to_vocab_no_stem.obj')"
   ]
  },
  {
   "cell_type": "markdown",
   "id": "cf68f3c5",
   "metadata": {
    "papermill": {
     "duration": 0.068851,
     "end_time": "2022-03-12T17:45:54.203004",
     "exception": false,
     "start_time": "2022-03-12T17:45:54.134153",
     "status": "completed"
    },
    "tags": []
   },
   "source": [
    "### Encode text"
   ]
  },
  {
   "cell_type": "code",
   "execution_count": 18,
   "id": "bb561d63",
   "metadata": {
    "execution": {
     "iopub.execute_input": "2022-03-12T17:45:54.338276Z",
     "iopub.status.busy": "2022-03-12T17:45:54.337338Z",
     "iopub.status.idle": "2022-03-12T17:45:57.039477Z",
     "shell.execute_reply": "2022-03-12T17:45:57.038980Z",
     "shell.execute_reply.started": "2022-03-12T17:44:01.401422Z"
    },
    "executionInfo": {
     "elapsed": 3172,
     "status": "ok",
     "timestamp": 1646806739796,
     "user": {
      "displayName": "Ahmed Elshehawy",
      "photoUrl": "https://lh3.googleusercontent.com/a/default-user=s64",
      "userId": "14316704093209259342"
     },
     "user_tz": -120
    },
    "id": "jO3saJcvHXkC",
    "papermill": {
     "duration": 2.768523,
     "end_time": "2022-03-12T17:45:57.039611",
     "exception": false,
     "start_time": "2022-03-12T17:45:54.271088",
     "status": "completed"
    },
    "tags": []
   },
   "outputs": [],
   "source": [
    "data_no_stem['text'] = data_no_stem['text'].apply(nh.encode, args=(vocab_to_int,))"
   ]
  },
  {
   "cell_type": "code",
   "execution_count": 19,
   "id": "fe9c0ec1",
   "metadata": {
    "execution": {
     "iopub.execute_input": "2022-03-12T17:45:57.135280Z",
     "iopub.status.busy": "2022-03-12T17:45:57.134177Z",
     "iopub.status.idle": "2022-03-12T17:45:57.137347Z",
     "shell.execute_reply": "2022-03-12T17:45:57.137780Z",
     "shell.execute_reply.started": "2022-03-12T17:44:04.103722Z"
    },
    "executionInfo": {
     "elapsed": 80,
     "status": "ok",
     "timestamp": 1646806739798,
     "user": {
      "displayName": "Ahmed Elshehawy",
      "photoUrl": "https://lh3.googleusercontent.com/a/default-user=s64",
      "userId": "14316704093209259342"
     },
     "user_tz": -120
    },
    "id": "T_lpREKIHcZY",
    "outputId": "7b165dc3-9af0-4d8e-b04a-74fc70372a73",
    "papermill": {
     "duration": 0.055668,
     "end_time": "2022-03-12T17:45:57.137902",
     "exception": false,
     "start_time": "2022-03-12T17:45:57.082234",
     "status": "completed"
    },
    "tags": []
   },
   "outputs": [
    {
     "data": {
      "text/html": [
       "<div>\n",
       "<style scoped>\n",
       "    .dataframe tbody tr th:only-of-type {\n",
       "        vertical-align: middle;\n",
       "    }\n",
       "\n",
       "    .dataframe tbody tr th {\n",
       "        vertical-align: top;\n",
       "    }\n",
       "\n",
       "    .dataframe thead th {\n",
       "        text-align: right;\n",
       "    }\n",
       "</style>\n",
       "<table border=\"1\" class=\"dataframe\">\n",
       "  <thead>\n",
       "    <tr style=\"text-align: right;\">\n",
       "      <th></th>\n",
       "      <th>id</th>\n",
       "      <th>text</th>\n",
       "      <th>dialect</th>\n",
       "      <th>tweet_length</th>\n",
       "    </tr>\n",
       "  </thead>\n",
       "  <tbody>\n",
       "    <tr>\n",
       "      <th>0</th>\n",
       "      <td>1175358310087892992</td>\n",
       "      <td>[3145, 3059, 2155]</td>\n",
       "      <td>IQ</td>\n",
       "      <td>3</td>\n",
       "    </tr>\n",
       "    <tr>\n",
       "      <th>1</th>\n",
       "      <td>1175416117793349632</td>\n",
       "      <td>[6, 9276, 750, 41217, 126103, 71597, 3163, 126...</td>\n",
       "      <td>IQ</td>\n",
       "      <td>12</td>\n",
       "    </tr>\n",
       "    <tr>\n",
       "      <th>2</th>\n",
       "      <td>1175450108898565888</td>\n",
       "      <td>[1857, 867, 3826]</td>\n",
       "      <td>IQ</td>\n",
       "      <td>3</td>\n",
       "    </tr>\n",
       "    <tr>\n",
       "      <th>3</th>\n",
       "      <td>1175471073770573824</td>\n",
       "      <td>[8553, 20020, 13756, 515]</td>\n",
       "      <td>IQ</td>\n",
       "      <td>4</td>\n",
       "    </tr>\n",
       "    <tr>\n",
       "      <th>4</th>\n",
       "      <td>1175496913145217024</td>\n",
       "      <td>[16, 5936, 75]</td>\n",
       "      <td>IQ</td>\n",
       "      <td>3</td>\n",
       "    </tr>\n",
       "  </tbody>\n",
       "</table>\n",
       "</div>"
      ],
      "text/plain": [
       "                    id                                               text  \\\n",
       "0  1175358310087892992                                 [3145, 3059, 2155]   \n",
       "1  1175416117793349632  [6, 9276, 750, 41217, 126103, 71597, 3163, 126...   \n",
       "2  1175450108898565888                                  [1857, 867, 3826]   \n",
       "3  1175471073770573824                          [8553, 20020, 13756, 515]   \n",
       "4  1175496913145217024                                     [16, 5936, 75]   \n",
       "\n",
       "  dialect  tweet_length  \n",
       "0      IQ             3  \n",
       "1      IQ            12  \n",
       "2      IQ             3  \n",
       "3      IQ             4  \n",
       "4      IQ             3  "
      ]
     },
     "execution_count": 19,
     "metadata": {},
     "output_type": "execute_result"
    }
   ],
   "source": [
    "data_no_stem.head()"
   ]
  },
  {
   "cell_type": "markdown",
   "id": "31cddc59",
   "metadata": {
    "id": "zH9UhFLqHwoj",
    "papermill": {
     "duration": 0.04266,
     "end_time": "2022-03-12T17:45:57.222706",
     "exception": false,
     "start_time": "2022-03-12T17:45:57.180046",
     "status": "completed"
    },
    "tags": []
   },
   "source": [
    "We also need to encode labels (`dialect`) to be able to feed them into the DL models"
   ]
  },
  {
   "cell_type": "code",
   "execution_count": 20,
   "id": "b35893be",
   "metadata": {
    "execution": {
     "iopub.execute_input": "2022-03-12T17:45:57.335826Z",
     "iopub.status.busy": "2022-03-12T17:45:57.335102Z",
     "iopub.status.idle": "2022-03-12T17:45:57.342488Z",
     "shell.execute_reply": "2022-03-12T17:45:57.342054Z",
     "shell.execute_reply.started": "2022-03-12T17:44:04.119364Z"
    },
    "executionInfo": {
     "elapsed": 81,
     "status": "ok",
     "timestamp": 1646806739803,
     "user": {
      "displayName": "Ahmed Elshehawy",
      "photoUrl": "https://lh3.googleusercontent.com/a/default-user=s64",
      "userId": "14316704093209259342"
     },
     "user_tz": -120
    },
    "id": "H7UoY1tSHi7u",
    "papermill": {
     "duration": 0.077268,
     "end_time": "2022-03-12T17:45:57.342601",
     "exception": false,
     "start_time": "2022-03-12T17:45:57.265333",
     "status": "completed"
    },
    "tags": []
   },
   "outputs": [],
   "source": [
    "# labels_to_int: dictionary, where its keys are the labels,\n",
    "# and its values are integers starting from 0\n",
    "labels = data_no_stem['dialect'].unique()\n",
    "labels_to_int, int_to_labels = nh.get_mappings(labels, i=0)"
   ]
  },
  {
   "cell_type": "code",
   "execution_count": 21,
   "id": "079fa6f4",
   "metadata": {
    "execution": {
     "iopub.execute_input": "2022-03-12T17:45:57.431028Z",
     "iopub.status.busy": "2022-03-12T17:45:57.430420Z",
     "iopub.status.idle": "2022-03-12T17:45:57.432847Z",
     "shell.execute_reply": "2022-03-12T17:45:57.433280Z",
     "shell.execute_reply.started": "2022-03-12T17:44:04.161116Z"
    },
    "executionInfo": {
     "elapsed": 82,
     "status": "ok",
     "timestamp": 1646806739806,
     "user": {
      "displayName": "Ahmed Elshehawy",
      "photoUrl": "https://lh3.googleusercontent.com/a/default-user=s64",
      "userId": "14316704093209259342"
     },
     "user_tz": -120
    },
    "id": "aCg8wtVCH9Ja",
    "papermill": {
     "duration": 0.048597,
     "end_time": "2022-03-12T17:45:57.433428",
     "exception": false,
     "start_time": "2022-03-12T17:45:57.384831",
     "status": "completed"
    },
    "tags": []
   },
   "outputs": [],
   "source": [
    "# save labels_to_int, and int_to_labels, they will be needed in inference\n",
    "nh.save_pickle_file(labels_to_int, 'labels_to_int.obj')\n",
    "nh.save_pickle_file(int_to_labels, 'int_to_labels.obj')"
   ]
  },
  {
   "cell_type": "code",
   "execution_count": 22,
   "id": "7d5c0f61",
   "metadata": {
    "execution": {
     "iopub.execute_input": "2022-03-12T17:45:57.521439Z",
     "iopub.status.busy": "2022-03-12T17:45:57.520615Z",
     "iopub.status.idle": "2022-03-12T17:45:57.524870Z",
     "shell.execute_reply": "2022-03-12T17:45:57.524472Z",
     "shell.execute_reply.started": "2022-03-12T17:44:04.168249Z"
    },
    "executionInfo": {
     "elapsed": 81,
     "status": "ok",
     "timestamp": 1646806739807,
     "user": {
      "displayName": "Ahmed Elshehawy",
      "photoUrl": "https://lh3.googleusercontent.com/a/default-user=s64",
      "userId": "14316704093209259342"
     },
     "user_tz": -120
    },
    "id": "7P-zqg28IM5S",
    "outputId": "0d8f0713-7ebe-4184-dd02-21a95090a2be",
    "papermill": {
     "duration": 0.049639,
     "end_time": "2022-03-12T17:45:57.524971",
     "exception": false,
     "start_time": "2022-03-12T17:45:57.475332",
     "status": "completed"
    },
    "tags": []
   },
   "outputs": [
    {
     "name": "stdout",
     "output_type": "stream",
     "text": [
      "Number of labels (classes): 18\n",
      "Labels:\n",
      "{'IQ': 0, 'LY': 1, 'QA': 2, 'PL': 3, 'SY': 4, 'TN': 5, 'JO': 6, 'MA': 7, 'SA': 8, 'YE': 9, 'DZ': 10, 'EG': 11, 'LB': 12, 'KW': 13, 'OM': 14, 'SD': 15, 'AE': 16, 'BH': 17}\n"
     ]
    }
   ],
   "source": [
    "print('Number of labels (classes):', len(labels))\n",
    "print('Labels:')\n",
    "print(labels_to_int)"
   ]
  },
  {
   "cell_type": "code",
   "execution_count": 23,
   "id": "f933d467",
   "metadata": {
    "execution": {
     "iopub.execute_input": "2022-03-12T17:45:57.642392Z",
     "iopub.status.busy": "2022-03-12T17:45:57.614126Z",
     "iopub.status.idle": "2022-03-12T17:45:57.651348Z",
     "shell.execute_reply": "2022-03-12T17:45:57.650903Z",
     "shell.execute_reply.started": "2022-03-12T17:44:04.178033Z"
    },
    "executionInfo": {
     "elapsed": 73,
     "status": "ok",
     "timestamp": 1646806739809,
     "user": {
      "displayName": "Ahmed Elshehawy",
      "photoUrl": "https://lh3.googleusercontent.com/a/default-user=s64",
      "userId": "14316704093209259342"
     },
     "user_tz": -120
    },
    "id": "iOZt2vvZIRwC",
    "papermill": {
     "duration": 0.084005,
     "end_time": "2022-03-12T17:45:57.651485",
     "exception": false,
     "start_time": "2022-03-12T17:45:57.567480",
     "status": "completed"
    },
    "tags": []
   },
   "outputs": [],
   "source": [
    "# having labels_to_int, we can encode dialects\n",
    "data_no_stem['dialect'] = data_no_stem['dialect'].map(labels_to_int)"
   ]
  },
  {
   "cell_type": "code",
   "execution_count": 24,
   "id": "100b81f3",
   "metadata": {
    "execution": {
     "iopub.execute_input": "2022-03-12T17:45:57.746002Z",
     "iopub.status.busy": "2022-03-12T17:45:57.745296Z",
     "iopub.status.idle": "2022-03-12T17:45:57.748030Z",
     "shell.execute_reply": "2022-03-12T17:45:57.748433Z",
     "shell.execute_reply.started": "2022-03-12T17:44:04.223149Z"
    },
    "executionInfo": {
     "elapsed": 76,
     "status": "ok",
     "timestamp": 1646806739813,
     "user": {
      "displayName": "Ahmed Elshehawy",
      "photoUrl": "https://lh3.googleusercontent.com/a/default-user=s64",
      "userId": "14316704093209259342"
     },
     "user_tz": -120
    },
    "id": "qme_EEWwIaFT",
    "outputId": "da03a516-f0ae-4283-d1a8-6aad9d977613",
    "papermill": {
     "duration": 0.054842,
     "end_time": "2022-03-12T17:45:57.748551",
     "exception": false,
     "start_time": "2022-03-12T17:45:57.693709",
     "status": "completed"
    },
    "tags": []
   },
   "outputs": [
    {
     "data": {
      "text/html": [
       "<div>\n",
       "<style scoped>\n",
       "    .dataframe tbody tr th:only-of-type {\n",
       "        vertical-align: middle;\n",
       "    }\n",
       "\n",
       "    .dataframe tbody tr th {\n",
       "        vertical-align: top;\n",
       "    }\n",
       "\n",
       "    .dataframe thead th {\n",
       "        text-align: right;\n",
       "    }\n",
       "</style>\n",
       "<table border=\"1\" class=\"dataframe\">\n",
       "  <thead>\n",
       "    <tr style=\"text-align: right;\">\n",
       "      <th></th>\n",
       "      <th>id</th>\n",
       "      <th>text</th>\n",
       "      <th>dialect</th>\n",
       "      <th>tweet_length</th>\n",
       "    </tr>\n",
       "  </thead>\n",
       "  <tbody>\n",
       "    <tr>\n",
       "      <th>0</th>\n",
       "      <td>1175358310087892992</td>\n",
       "      <td>[3145, 3059, 2155]</td>\n",
       "      <td>0</td>\n",
       "      <td>3</td>\n",
       "    </tr>\n",
       "    <tr>\n",
       "      <th>1</th>\n",
       "      <td>1175416117793349632</td>\n",
       "      <td>[6, 9276, 750, 41217, 126103, 71597, 3163, 126...</td>\n",
       "      <td>0</td>\n",
       "      <td>12</td>\n",
       "    </tr>\n",
       "    <tr>\n",
       "      <th>2</th>\n",
       "      <td>1175450108898565888</td>\n",
       "      <td>[1857, 867, 3826]</td>\n",
       "      <td>0</td>\n",
       "      <td>3</td>\n",
       "    </tr>\n",
       "    <tr>\n",
       "      <th>3</th>\n",
       "      <td>1175471073770573824</td>\n",
       "      <td>[8553, 20020, 13756, 515]</td>\n",
       "      <td>0</td>\n",
       "      <td>4</td>\n",
       "    </tr>\n",
       "    <tr>\n",
       "      <th>4</th>\n",
       "      <td>1175496913145217024</td>\n",
       "      <td>[16, 5936, 75]</td>\n",
       "      <td>0</td>\n",
       "      <td>3</td>\n",
       "    </tr>\n",
       "  </tbody>\n",
       "</table>\n",
       "</div>"
      ],
      "text/plain": [
       "                    id                                               text  \\\n",
       "0  1175358310087892992                                 [3145, 3059, 2155]   \n",
       "1  1175416117793349632  [6, 9276, 750, 41217, 126103, 71597, 3163, 126...   \n",
       "2  1175450108898565888                                  [1857, 867, 3826]   \n",
       "3  1175471073770573824                          [8553, 20020, 13756, 515]   \n",
       "4  1175496913145217024                                     [16, 5936, 75]   \n",
       "\n",
       "   dialect  tweet_length  \n",
       "0        0             3  \n",
       "1        0            12  \n",
       "2        0             3  \n",
       "3        0             4  \n",
       "4        0             3  "
      ]
     },
     "execution_count": 24,
     "metadata": {},
     "output_type": "execute_result"
    }
   ],
   "source": [
    "data_no_stem.head()"
   ]
  },
  {
   "cell_type": "markdown",
   "id": "830030cd",
   "metadata": {
    "id": "jEmVf-fRJOgi",
    "papermill": {
     "duration": 0.042336,
     "end_time": "2022-03-12T17:45:57.833648",
     "exception": false,
     "start_time": "2022-03-12T17:45:57.791312",
     "status": "completed"
    },
    "tags": []
   },
   "source": [
    "### Pad tweets\n"
   ]
  },
  {
   "cell_type": "markdown",
   "id": "d2eb72c8",
   "metadata": {
    "papermill": {
     "duration": 0.042799,
     "end_time": "2022-03-12T17:45:57.919058",
     "exception": false,
     "start_time": "2022-03-12T17:45:57.876259",
     "status": "completed"
    },
    "tags": []
   },
   "source": [
    "From EDA notebook, we know that about 75% of tweets have less than 13 words"
   ]
  },
  {
   "cell_type": "code",
   "execution_count": 25,
   "id": "6bb45b57",
   "metadata": {
    "execution": {
     "iopub.execute_input": "2022-03-12T17:45:58.022618Z",
     "iopub.status.busy": "2022-03-12T17:45:58.013182Z",
     "iopub.status.idle": "2022-03-12T17:45:59.050353Z",
     "shell.execute_reply": "2022-03-12T17:45:59.049801Z",
     "shell.execute_reply.started": "2022-03-12T17:44:04.239041Z"
    },
    "executionInfo": {
     "elapsed": 925,
     "status": "ok",
     "timestamp": 1646806741918,
     "user": {
      "displayName": "Ahmed Elshehawy",
      "photoUrl": "https://lh3.googleusercontent.com/a/default-user=s64",
      "userId": "14316704093209259342"
     },
     "user_tz": -120
    },
    "id": "cuBq2YwnSU8r",
    "outputId": "32d60468-4a84-4041-bd86-fc33b158f6f2",
    "papermill": {
     "duration": 1.088795,
     "end_time": "2022-03-12T17:45:59.050534",
     "exception": false,
     "start_time": "2022-03-12T17:45:57.961739",
     "status": "completed"
    },
    "tags": []
   },
   "outputs": [],
   "source": [
    "seq_length = 20\n",
    "features = nh.pad_docs(data_no_stem['text'], seq_length)"
   ]
  },
  {
   "cell_type": "code",
   "execution_count": 26,
   "id": "9fbb5f99",
   "metadata": {
    "execution": {
     "iopub.execute_input": "2022-03-12T17:45:59.142348Z",
     "iopub.status.busy": "2022-03-12T17:45:59.141600Z",
     "iopub.status.idle": "2022-03-12T17:45:59.145331Z",
     "shell.execute_reply": "2022-03-12T17:45:59.144932Z",
     "shell.execute_reply.started": "2022-03-12T17:44:05.477061Z"
    },
    "executionInfo": {
     "elapsed": 10,
     "status": "ok",
     "timestamp": 1646806757491,
     "user": {
      "displayName": "Ahmed Elshehawy",
      "photoUrl": "https://lh3.googleusercontent.com/a/default-user=s64",
      "userId": "14316704093209259342"
     },
     "user_tz": -120
    },
    "id": "ONQ5-F_oU20Z",
    "outputId": "9e7c48bb-f45c-47bc-f1a6-ce68357d856b",
    "papermill": {
     "duration": 0.051339,
     "end_time": "2022-03-12T17:45:59.145472",
     "exception": false,
     "start_time": "2022-03-12T17:45:59.094133",
     "status": "completed"
    },
    "tags": []
   },
   "outputs": [
    {
     "data": {
      "text/plain": [
       "array([[     0,      0,      0,      0,      0,      0,      0,      0,\n",
       "             0,      0,      0,      0,      0,      0,      0,      0,\n",
       "             0,   3145,   3059,   2155],\n",
       "       [     0,      0,      0,      0,      0,      0,      0,      0,\n",
       "             6,   9276,    750,  41217, 126103,  71597,   3163, 126104,\n",
       "        126105, 126106, 182173,  29687],\n",
       "       [     0,      0,      0,      0,      0,      0,      0,      0,\n",
       "             0,      0,      0,      0,      0,      0,      0,      0,\n",
       "             0,   1857,    867,   3826]])"
      ]
     },
     "execution_count": 26,
     "metadata": {},
     "output_type": "execute_result"
    }
   ],
   "source": [
    "features[:3, :]"
   ]
  },
  {
   "cell_type": "markdown",
   "id": "03d4d7e5",
   "metadata": {
    "papermill": {
     "duration": 0.042662,
     "end_time": "2022-03-12T17:45:59.231269",
     "exception": false,
     "start_time": "2022-03-12T17:45:59.188607",
     "status": "completed"
    },
    "tags": []
   },
   "source": [
    "### Split data into train, valdiation, and test sets"
   ]
  },
  {
   "cell_type": "code",
   "execution_count": 27,
   "id": "3004ff68",
   "metadata": {
    "execution": {
     "iopub.execute_input": "2022-03-12T17:45:59.325626Z",
     "iopub.status.busy": "2022-03-12T17:45:59.324491Z",
     "iopub.status.idle": "2022-03-12T17:45:59.578739Z",
     "shell.execute_reply": "2022-03-12T17:45:59.579222Z",
     "shell.execute_reply.started": "2022-03-12T17:44:05.484309Z"
    },
    "executionInfo": {
     "elapsed": 35,
     "status": "error",
     "timestamp": 1646806764075,
     "user": {
      "displayName": "Ahmed Elshehawy",
      "photoUrl": "https://lh3.googleusercontent.com/a/default-user=s64",
      "userId": "14316704093209259342"
     },
     "user_tz": -120
    },
    "id": "OYysBdahIbz3",
    "outputId": "a6dfd45b-127c-41e2-f7de-2ec8bef50a1e",
    "papermill": {
     "duration": 0.303577,
     "end_time": "2022-03-12T17:45:59.579389",
     "exception": false,
     "start_time": "2022-03-12T17:45:59.275812",
     "status": "completed"
    },
    "tags": []
   },
   "outputs": [
    {
     "name": "stdout",
     "output_type": "stream",
     "text": [
      "\t\t\tFeatures Shapes:\n",
      "Train set: \t\t(359827, 20) \n",
      "Validation set: \t(44978, 20) \n",
      "Test set: \t\t(44979, 20)\n"
     ]
    }
   ],
   "source": [
    "split_fracion = 0.2\n",
    "\n",
    "## split data into training, validation, and test data (features and labels, x and y)\n",
    "X = features.astype(np.int64)\n",
    "y = data_no_stem['dialect'].values\n",
    "\n",
    "splitted_sets = lh.features_split(X, y, split_fraction=split_fracion)\n",
    "\n",
    "X_train, y_train = splitted_sets['train']\n",
    "X_val, y_val = splitted_sets['val']\n",
    "X_test, y_test = splitted_sets['test']\n",
    "# print out the shapes of the new data sets\n",
    "print('\\t\\t\\tFeatures Shapes:')\n",
    "print('Train set: \\t\\t{}'.format(X_train.shape),\n",
    "     '\\nValidation set: \\t{}'.format(X_val.shape),\n",
    "     '\\nTest set: \\t\\t{}'.format(X_test.shape))"
   ]
  },
  {
   "cell_type": "markdown",
   "id": "011ec239",
   "metadata": {
    "papermill": {
     "duration": 0.043444,
     "end_time": "2022-03-12T17:45:59.667279",
     "exception": false,
     "start_time": "2022-03-12T17:45:59.623835",
     "status": "completed"
    },
    "tags": []
   },
   "source": [
    "To feed data to pytorch models, we need first ot convert data from numpy arrays to Pytorch tensors.  \n",
    "After that we can create our datasets"
   ]
  },
  {
   "cell_type": "code",
   "execution_count": 28,
   "id": "eb0fcab6",
   "metadata": {
    "execution": {
     "iopub.execute_input": "2022-03-12T17:45:59.763879Z",
     "iopub.status.busy": "2022-03-12T17:45:59.763138Z",
     "iopub.status.idle": "2022-03-12T17:45:59.765670Z",
     "shell.execute_reply": "2022-03-12T17:45:59.765212Z",
     "shell.execute_reply.started": "2022-03-12T17:44:05.750236Z"
    },
    "id": "l2XMSpRPVQWd",
    "papermill": {
     "duration": 0.05545,
     "end_time": "2022-03-12T17:45:59.765779",
     "exception": false,
     "start_time": "2022-03-12T17:45:59.710329",
     "status": "completed"
    },
    "tags": []
   },
   "outputs": [],
   "source": [
    "# create Tensor datasets\n",
    "train_data = TensorDataset(torch.from_numpy(X_train), torch.from_numpy(y_train))\n",
    "valid_data = TensorDataset(torch.from_numpy(X_val), torch.from_numpy(y_val))\n",
    "test_data = TensorDataset(torch.from_numpy(X_test), torch.from_numpy(y_test))\n",
    "\n",
    "# dataloaders\n",
    "batch_size = 128\n",
    "\n",
    "train_loader = DataLoader(train_data, shuffle=True, batch_size=batch_size)\n",
    "val_loader = DataLoader(valid_data, shuffle=True, batch_size=batch_size)\n",
    "test_loader = DataLoader(test_data, shuffle=True, batch_size=batch_size)\n",
    "\n",
    "loaders = {'train': train_loader, 'val': val_loader, 'test': test_loader}"
   ]
  },
  {
   "cell_type": "code",
   "execution_count": 29,
   "id": "35ee03d5",
   "metadata": {
    "execution": {
     "iopub.execute_input": "2022-03-12T17:45:59.906295Z",
     "iopub.status.busy": "2022-03-12T17:45:59.905332Z",
     "iopub.status.idle": "2022-03-12T17:45:59.908497Z",
     "shell.execute_reply": "2022-03-12T17:45:59.909067Z",
     "shell.execute_reply.started": "2022-03-12T17:44:05.762378Z"
    },
    "id": "sRqvRWiYVa7i",
    "papermill": {
     "duration": 0.098446,
     "end_time": "2022-03-12T17:45:59.909251",
     "exception": false,
     "start_time": "2022-03-12T17:45:59.810805",
     "status": "completed"
    },
    "tags": []
   },
   "outputs": [
    {
     "name": "stdout",
     "output_type": "stream",
     "text": [
      "Training on GPU.\n"
     ]
    }
   ],
   "source": [
    "# First checking if GPU is available\n",
    "train_on_gpu=torch.cuda.is_available()\n",
    "\n",
    "if(train_on_gpu):\n",
    "    print('Training on GPU.')\n",
    "else:\n",
    "    print('No GPU available, training on CPU.')\n"
   ]
  },
  {
   "cell_type": "code",
   "execution_count": 30,
   "id": "3d0fb73a",
   "metadata": {
    "execution": {
     "iopub.execute_input": "2022-03-12T17:46:00.003635Z",
     "iopub.status.busy": "2022-03-12T17:46:00.000145Z",
     "iopub.status.idle": "2022-03-12T17:46:01.564365Z",
     "shell.execute_reply": "2022-03-12T17:46:01.564973Z",
     "shell.execute_reply.started": "2022-03-12T17:44:05.812331Z"
    },
    "papermill": {
     "duration": 1.611122,
     "end_time": "2022-03-12T17:46:01.565181",
     "exception": false,
     "start_time": "2022-03-12T17:45:59.954059",
     "status": "completed"
    },
    "tags": []
   },
   "outputs": [
    {
     "name": "stdout",
     "output_type": "stream",
     "text": [
      "DialectRNN(\n",
      "  (embedding): Embedding(421598, 400)\n",
      "  (lstm): LSTM(400, 256, num_layers=2, batch_first=True, dropout=0.5)\n",
      "  (dropout): Dropout(p=0.5, inplace=False)\n",
      "  (fc1): Sequential(\n",
      "    (0): Linear(in_features=256, out_features=64, bias=True)\n",
      "  )\n",
      "  (fc2): Sequential(\n",
      "    (0): Linear(in_features=64, out_features=18, bias=True)\n",
      "  )\n",
      ")\n"
     ]
    }
   ],
   "source": [
    "# Instantiate the model with hyperparams\n",
    "vocab_size = len(vocab_to_int) + 1 # +1 for 0 padding\n",
    "output_size = len(labels_to_int) # Dialect index\n",
    "embedding_dim = 400\n",
    "hidden_dim = 256\n",
    "n_layers = 2\n",
    "drop_prob = 0.5\n",
    "\n",
    "model = DialectRNN(vocab_size, output_size, embedding_dim, hidden_dim, \n",
    "                 n_layers, seq_length, drop_prob=drop_prob)\n",
    "print(model)"
   ]
  },
  {
   "cell_type": "code",
   "execution_count": 31,
   "id": "f4060b7a",
   "metadata": {
    "execution": {
     "iopub.execute_input": "2022-03-12T17:46:01.660258Z",
     "iopub.status.busy": "2022-03-12T17:46:01.659480Z",
     "iopub.status.idle": "2022-03-12T17:46:04.493371Z",
     "shell.execute_reply": "2022-03-12T17:46:04.493848Z",
     "shell.execute_reply.started": "2022-03-12T17:44:07.332592Z"
    },
    "papermill": {
     "duration": 2.883334,
     "end_time": "2022-03-12T17:46:04.494048",
     "exception": false,
     "start_time": "2022-03-12T17:46:01.610714",
     "status": "completed"
    },
    "tags": []
   },
   "outputs": [
    {
     "name": "stdout",
     "output_type": "stream",
     "text": [
      "tensor([1.6398, 0.7018, 0.8135, 0.5836, 1.5655, 2.7471, 0.9180, 2.2084, 0.9466,\n",
      "        2.5857, 1.5773, 0.4392, 0.9218, 0.6015, 1.3411, 1.7727, 0.9665, 0.9694],\n",
      "       device='cuda:0')\n"
     ]
    }
   ],
   "source": [
    "class_weights = compute_class_weight('balanced', classes=np.unique(y_train), y=y_train)\n",
    "class_weights = torch.tensor(class_weights, dtype=torch.float)\n",
    "if train_on_gpu:\n",
    "    class_weights = class_weights.cuda()\n",
    "print(class_weights)"
   ]
  },
  {
   "cell_type": "code",
   "execution_count": 32,
   "id": "898f72ca",
   "metadata": {
    "execution": {
     "iopub.execute_input": "2022-03-12T17:46:04.590676Z",
     "iopub.status.busy": "2022-03-12T17:46:04.589958Z",
     "iopub.status.idle": "2022-03-12T17:46:04.592754Z",
     "shell.execute_reply": "2022-03-12T17:46:04.592271Z",
     "shell.execute_reply.started": "2022-03-12T17:44:10.395281Z"
    },
    "papermill": {
     "duration": 0.053594,
     "end_time": "2022-03-12T17:46:04.592860",
     "exception": false,
     "start_time": "2022-03-12T17:46:04.539266",
     "status": "completed"
    },
    "tags": []
   },
   "outputs": [],
   "source": [
    "# loss and optimization functions\n",
    "lr=0.001\n",
    "\n",
    "criterion = nn.CrossEntropyLoss(weight=class_weights, reduction='mean')\n",
    "optimizer = optim.Adam(model.parameters(), lr=lr)\n",
    "\n",
    "# training params\n",
    "n_epochs = 20\n",
    "print_every = 1\n",
    "clip=5 # gradient clipping\n",
    "\n",
    "save_path = 'models_1'\n",
    "\n",
    "# setting gamma to 1 cancels scheduler effect\n",
    "scheduler = optim.lr_scheduler.MultiStepLR(optimizer, milestones=[10], gamma=.2) "
   ]
  },
  {
   "cell_type": "code",
   "execution_count": 33,
   "id": "84a16cef",
   "metadata": {
    "execution": {
     "iopub.execute_input": "2022-03-12T17:46:04.686212Z",
     "iopub.status.busy": "2022-03-12T17:46:04.685408Z",
     "iopub.status.idle": "2022-03-12T17:46:05.568805Z",
     "shell.execute_reply": "2022-03-12T17:46:05.568012Z",
     "shell.execute_reply.started": "2022-03-12T17:44:10.403222Z"
    },
    "papermill": {
     "duration": 0.930495,
     "end_time": "2022-03-12T17:46:05.568937",
     "exception": false,
     "start_time": "2022-03-12T17:46:04.638442",
     "status": "completed"
    },
    "tags": []
   },
   "outputs": [],
   "source": [
    "!mkdir models_1"
   ]
  },
  {
   "cell_type": "code",
   "execution_count": 34,
   "id": "00dc839e",
   "metadata": {
    "execution": {
     "iopub.execute_input": "2022-03-12T17:46:05.663192Z",
     "iopub.status.busy": "2022-03-12T17:46:05.662425Z",
     "iopub.status.idle": "2022-03-12T18:26:08.487543Z",
     "shell.execute_reply": "2022-03-12T18:26:08.486888Z",
     "shell.execute_reply.started": "2022-03-12T17:44:11.133012Z"
    },
    "papermill": {
     "duration": 2402.873358,
     "end_time": "2022-03-12T18:26:08.487713",
     "exception": false,
     "start_time": "2022-03-12T17:46:05.614355",
     "status": "completed"
    },
    "tags": []
   },
   "outputs": [
    {
     "name": "stdout",
     "output_type": "stream",
     "text": [
      "Start Training on \"GPU\" for 20 epochs...\n",
      "\n",
      "Epoch: 1 train...\n"
     ]
    },
    {
     "name": "stderr",
     "output_type": "stream",
     "text": [
      "100%|█████████▉| 2811/2812 [01:55<00:00, 24.26it/s]\n"
     ]
    },
    {
     "name": "stdout",
     "output_type": "stream",
     "text": [
      "validation...\n"
     ]
    },
    {
     "name": "stderr",
     "output_type": "stream",
     "text": [
      "100%|█████████▉| 351/352 [00:00<00:00, 364.29it/s]\n"
     ]
    },
    {
     "name": "stdout",
     "output_type": "stream",
     "text": [
      "Epoch: 1/20... Train Score: 0.235492... Val Score: 0.318113\n",
      "F1 Score Macro increased form: 0.000000, to: 0.318113\tSAVING MODEL...                 in Epoch: 1\n",
      "===============================================================\n",
      "\n",
      "Epoch: 2 train...\n"
     ]
    },
    {
     "name": "stderr",
     "output_type": "stream",
     "text": [
      "100%|█████████▉| 2811/2812 [01:55<00:00, 24.37it/s]\n"
     ]
    },
    {
     "name": "stdout",
     "output_type": "stream",
     "text": [
      "validation...\n"
     ]
    },
    {
     "name": "stderr",
     "output_type": "stream",
     "text": [
      "100%|█████████▉| 351/352 [00:00<00:00, 363.74it/s]\n"
     ]
    },
    {
     "name": "stdout",
     "output_type": "stream",
     "text": [
      "Epoch: 2/20... Train Score: 0.372142... Val Score: 0.372882\n",
      "F1 Score Macro increased form: 0.318113, to: 0.372882\tSAVING MODEL...                 in Epoch: 2\n",
      "===============================================================\n",
      "\n",
      "Epoch: 3 train...\n"
     ]
    },
    {
     "name": "stderr",
     "output_type": "stream",
     "text": [
      "100%|█████████▉| 2811/2812 [01:55<00:00, 24.40it/s]\n"
     ]
    },
    {
     "name": "stdout",
     "output_type": "stream",
     "text": [
      "validation...\n"
     ]
    },
    {
     "name": "stderr",
     "output_type": "stream",
     "text": [
      "100%|█████████▉| 351/352 [00:00<00:00, 368.47it/s]\n"
     ]
    },
    {
     "name": "stdout",
     "output_type": "stream",
     "text": [
      "Epoch: 3/20... Train Score: 0.462164... Val Score: 0.392576\n",
      "F1 Score Macro increased form: 0.372882, to: 0.392576\tSAVING MODEL...                 in Epoch: 3\n",
      "===============================================================\n",
      "\n",
      "Epoch: 4 train...\n"
     ]
    },
    {
     "name": "stderr",
     "output_type": "stream",
     "text": [
      "100%|█████████▉| 2811/2812 [01:55<00:00, 24.37it/s]\n"
     ]
    },
    {
     "name": "stdout",
     "output_type": "stream",
     "text": [
      "validation...\n"
     ]
    },
    {
     "name": "stderr",
     "output_type": "stream",
     "text": [
      "100%|█████████▉| 351/352 [00:00<00:00, 368.49it/s]\n"
     ]
    },
    {
     "name": "stdout",
     "output_type": "stream",
     "text": [
      "Epoch: 4/20... Train Score: 0.538008... Val Score: 0.396026\n",
      "F1 Score Macro increased form: 0.392576, to: 0.396026\tSAVING MODEL...                 in Epoch: 4\n",
      "===============================================================\n",
      "\n",
      "Epoch: 5 train...\n"
     ]
    },
    {
     "name": "stderr",
     "output_type": "stream",
     "text": [
      "100%|█████████▉| 2811/2812 [01:54<00:00, 24.53it/s]\n"
     ]
    },
    {
     "name": "stdout",
     "output_type": "stream",
     "text": [
      "validation...\n"
     ]
    },
    {
     "name": "stderr",
     "output_type": "stream",
     "text": [
      "100%|█████████▉| 351/352 [00:00<00:00, 369.35it/s]\n"
     ]
    },
    {
     "name": "stdout",
     "output_type": "stream",
     "text": [
      "Epoch: 5/20... Train Score: 0.602850... Val Score: 0.404750\n",
      "F1 Score Macro increased form: 0.396026, to: 0.404750\tSAVING MODEL...                 in Epoch: 5\n",
      "===============================================================\n",
      "\n",
      "Epoch: 6 train...\n"
     ]
    },
    {
     "name": "stderr",
     "output_type": "stream",
     "text": [
      "100%|█████████▉| 2811/2812 [01:54<00:00, 24.48it/s]\n"
     ]
    },
    {
     "name": "stdout",
     "output_type": "stream",
     "text": [
      "validation...\n"
     ]
    },
    {
     "name": "stderr",
     "output_type": "stream",
     "text": [
      "100%|█████████▉| 351/352 [00:00<00:00, 369.62it/s]\n"
     ]
    },
    {
     "name": "stdout",
     "output_type": "stream",
     "text": [
      "Epoch: 6/20... Train Score: 0.656309... Val Score: 0.402735\n",
      "===============================================================\n",
      "\n",
      "Epoch: 7 train...\n"
     ]
    },
    {
     "name": "stderr",
     "output_type": "stream",
     "text": [
      "100%|█████████▉| 2811/2812 [01:54<00:00, 24.45it/s]\n"
     ]
    },
    {
     "name": "stdout",
     "output_type": "stream",
     "text": [
      "validation...\n"
     ]
    },
    {
     "name": "stderr",
     "output_type": "stream",
     "text": [
      "100%|█████████▉| 351/352 [00:00<00:00, 368.30it/s]\n"
     ]
    },
    {
     "name": "stdout",
     "output_type": "stream",
     "text": [
      "Epoch: 7/20... Train Score: 0.698755... Val Score: 0.405653\n",
      "F1 Score Macro increased form: 0.404750, to: 0.405653\tSAVING MODEL...                 in Epoch: 7\n",
      "===============================================================\n",
      "\n",
      "Epoch: 8 train...\n"
     ]
    },
    {
     "name": "stderr",
     "output_type": "stream",
     "text": [
      "100%|█████████▉| 2811/2812 [01:54<00:00, 24.51it/s]\n"
     ]
    },
    {
     "name": "stdout",
     "output_type": "stream",
     "text": [
      "validation...\n"
     ]
    },
    {
     "name": "stderr",
     "output_type": "stream",
     "text": [
      "100%|█████████▉| 351/352 [00:01<00:00, 327.49it/s]\n"
     ]
    },
    {
     "name": "stdout",
     "output_type": "stream",
     "text": [
      "Epoch: 8/20... Train Score: 0.734756... Val Score: 0.406343\n",
      "F1 Score Macro increased form: 0.405653, to: 0.406343\tSAVING MODEL...                 in Epoch: 8\n",
      "===============================================================\n",
      "\n",
      "Epoch: 9 train...\n"
     ]
    },
    {
     "name": "stderr",
     "output_type": "stream",
     "text": [
      "100%|█████████▉| 2811/2812 [01:55<00:00, 24.39it/s]\n"
     ]
    },
    {
     "name": "stdout",
     "output_type": "stream",
     "text": [
      "validation...\n"
     ]
    },
    {
     "name": "stderr",
     "output_type": "stream",
     "text": [
      "100%|█████████▉| 351/352 [00:00<00:00, 366.28it/s]\n"
     ]
    },
    {
     "name": "stdout",
     "output_type": "stream",
     "text": [
      "Epoch: 9/20... Train Score: 0.763423... Val Score: 0.403686\n",
      "===============================================================\n",
      "\n",
      "Epoch: 10 train...\n"
     ]
    },
    {
     "name": "stderr",
     "output_type": "stream",
     "text": [
      "100%|█████████▉| 2811/2812 [01:55<00:00, 24.32it/s]\n"
     ]
    },
    {
     "name": "stdout",
     "output_type": "stream",
     "text": [
      "validation...\n"
     ]
    },
    {
     "name": "stderr",
     "output_type": "stream",
     "text": [
      "100%|█████████▉| 351/352 [00:01<00:00, 334.90it/s]\n"
     ]
    },
    {
     "name": "stdout",
     "output_type": "stream",
     "text": [
      "Epoch: 10/20... Train Score: 0.786251... Val Score: 0.408328\n",
      "F1 Score Macro increased form: 0.406343, to: 0.408328\tSAVING MODEL...                 in Epoch: 10\n",
      "===============================================================\n",
      "\n",
      "Epoch: 11 train...\n"
     ]
    },
    {
     "name": "stderr",
     "output_type": "stream",
     "text": [
      "100%|█████████▉| 2811/2812 [01:55<00:00, 24.35it/s]\n"
     ]
    },
    {
     "name": "stdout",
     "output_type": "stream",
     "text": [
      "validation...\n"
     ]
    },
    {
     "name": "stderr",
     "output_type": "stream",
     "text": [
      "100%|█████████▉| 351/352 [00:00<00:00, 364.65it/s]\n"
     ]
    },
    {
     "name": "stdout",
     "output_type": "stream",
     "text": [
      "Epoch: 11/20... Train Score: 0.830114... Val Score: 0.410324\n",
      "F1 Score Macro increased form: 0.408328, to: 0.410324\tSAVING MODEL...                 in Epoch: 11\n",
      "===============================================================\n",
      "\n",
      "Epoch: 12 train...\n"
     ]
    },
    {
     "name": "stderr",
     "output_type": "stream",
     "text": [
      "100%|█████████▉| 2811/2812 [01:55<00:00, 24.42it/s]\n"
     ]
    },
    {
     "name": "stdout",
     "output_type": "stream",
     "text": [
      "validation...\n"
     ]
    },
    {
     "name": "stderr",
     "output_type": "stream",
     "text": [
      "100%|█████████▉| 351/352 [00:00<00:00, 364.26it/s]\n"
     ]
    },
    {
     "name": "stdout",
     "output_type": "stream",
     "text": [
      "Epoch: 12/20... Train Score: 0.852007... Val Score: 0.412267\n",
      "F1 Score Macro increased form: 0.410324, to: 0.412267\tSAVING MODEL...                 in Epoch: 12\n",
      "===============================================================\n",
      "\n",
      "Epoch: 13 train...\n"
     ]
    },
    {
     "name": "stderr",
     "output_type": "stream",
     "text": [
      "100%|█████████▉| 2811/2812 [01:55<00:00, 24.39it/s]\n"
     ]
    },
    {
     "name": "stdout",
     "output_type": "stream",
     "text": [
      "validation...\n"
     ]
    },
    {
     "name": "stderr",
     "output_type": "stream",
     "text": [
      "100%|█████████▉| 351/352 [00:00<00:00, 367.52it/s]\n"
     ]
    },
    {
     "name": "stdout",
     "output_type": "stream",
     "text": [
      "Epoch: 13/20... Train Score: 0.865880... Val Score: 0.411419\n",
      "===============================================================\n",
      "\n",
      "Epoch: 14 train...\n"
     ]
    },
    {
     "name": "stderr",
     "output_type": "stream",
     "text": [
      "100%|█████████▉| 2811/2812 [01:55<00:00, 24.44it/s]\n"
     ]
    },
    {
     "name": "stdout",
     "output_type": "stream",
     "text": [
      "validation...\n"
     ]
    },
    {
     "name": "stderr",
     "output_type": "stream",
     "text": [
      "100%|█████████▉| 351/352 [00:00<00:00, 362.80it/s]\n"
     ]
    },
    {
     "name": "stdout",
     "output_type": "stream",
     "text": [
      "Epoch: 14/20... Train Score: 0.874875... Val Score: 0.410301\n",
      "===============================================================\n",
      "\n",
      "Epoch: 15 train...\n"
     ]
    },
    {
     "name": "stderr",
     "output_type": "stream",
     "text": [
      "100%|█████████▉| 2811/2812 [01:54<00:00, 24.46it/s]\n"
     ]
    },
    {
     "name": "stdout",
     "output_type": "stream",
     "text": [
      "validation...\n"
     ]
    },
    {
     "name": "stderr",
     "output_type": "stream",
     "text": [
      "100%|█████████▉| 351/352 [00:01<00:00, 289.75it/s]\n"
     ]
    },
    {
     "name": "stdout",
     "output_type": "stream",
     "text": [
      "Epoch: 15/20... Train Score: 0.883516... Val Score: 0.410246\n",
      "===============================================================\n",
      "\n",
      "Epoch: 16 train...\n"
     ]
    },
    {
     "name": "stderr",
     "output_type": "stream",
     "text": [
      "100%|█████████▉| 2811/2812 [01:55<00:00, 24.40it/s]\n"
     ]
    },
    {
     "name": "stdout",
     "output_type": "stream",
     "text": [
      "validation...\n"
     ]
    },
    {
     "name": "stderr",
     "output_type": "stream",
     "text": [
      "100%|█████████▉| 351/352 [00:00<00:00, 370.45it/s]\n"
     ]
    },
    {
     "name": "stdout",
     "output_type": "stream",
     "text": [
      "Epoch: 16/20... Train Score: 0.890637... Val Score: 0.410304\n",
      "===============================================================\n",
      "\n",
      "Epoch: 17 train...\n"
     ]
    },
    {
     "name": "stderr",
     "output_type": "stream",
     "text": [
      "100%|█████████▉| 2811/2812 [01:55<00:00, 24.33it/s]\n"
     ]
    },
    {
     "name": "stdout",
     "output_type": "stream",
     "text": [
      "validation...\n"
     ]
    },
    {
     "name": "stderr",
     "output_type": "stream",
     "text": [
      "100%|█████████▉| 351/352 [00:01<00:00, 324.79it/s]\n"
     ]
    },
    {
     "name": "stdout",
     "output_type": "stream",
     "text": [
      "Epoch: 17/20... Train Score: 0.896973... Val Score: 0.409211\n",
      "===============================================================\n",
      "\n",
      "Epoch: 18 train...\n"
     ]
    },
    {
     "name": "stderr",
     "output_type": "stream",
     "text": [
      "100%|█████████▉| 2811/2812 [01:55<00:00, 24.42it/s]\n"
     ]
    },
    {
     "name": "stdout",
     "output_type": "stream",
     "text": [
      "validation...\n"
     ]
    },
    {
     "name": "stderr",
     "output_type": "stream",
     "text": [
      "100%|█████████▉| 351/352 [00:00<00:00, 370.31it/s]\n"
     ]
    },
    {
     "name": "stdout",
     "output_type": "stream",
     "text": [
      "Epoch: 18/20... Train Score: 0.902265... Val Score: 0.408695\n",
      "===============================================================\n",
      "\n",
      "Epoch: 19 train...\n"
     ]
    },
    {
     "name": "stderr",
     "output_type": "stream",
     "text": [
      "100%|█████████▉| 2811/2812 [01:54<00:00, 24.48it/s]\n"
     ]
    },
    {
     "name": "stdout",
     "output_type": "stream",
     "text": [
      "validation...\n"
     ]
    },
    {
     "name": "stderr",
     "output_type": "stream",
     "text": [
      "100%|█████████▉| 351/352 [00:00<00:00, 368.79it/s]\n"
     ]
    },
    {
     "name": "stdout",
     "output_type": "stream",
     "text": [
      "Epoch: 19/20... Train Score: 0.907760... Val Score: 0.410385\n",
      "===============================================================\n",
      "\n",
      "Epoch: 20 train...\n"
     ]
    },
    {
     "name": "stderr",
     "output_type": "stream",
     "text": [
      "100%|█████████▉| 2811/2812 [01:55<00:00, 24.42it/s]\n"
     ]
    },
    {
     "name": "stdout",
     "output_type": "stream",
     "text": [
      "validation...\n"
     ]
    },
    {
     "name": "stderr",
     "output_type": "stream",
     "text": [
      "100%|█████████▉| 351/352 [00:00<00:00, 364.85it/s]\n"
     ]
    },
    {
     "name": "stdout",
     "output_type": "stream",
     "text": [
      "Epoch: 20/20... Train Score: 0.911480... Val Score: 0.409581\n",
      "===============================================================\n"
     ]
    }
   ],
   "source": [
    "criteria = 'score'\n",
    "history = lh.train_lstm(model, n_epochs, optimizer, criterion, scheduler, loaders, \n",
    "                        train_on_gpu, save_path, criteria, print_every=print_every, clip=clip)"
   ]
  },
  {
   "cell_type": "code",
   "execution_count": 35,
   "id": "0a597fbc",
   "metadata": {
    "execution": {
     "iopub.execute_input": "2022-03-12T18:26:21.799413Z",
     "iopub.status.busy": "2022-03-12T18:26:21.798848Z",
     "iopub.status.idle": "2022-03-12T18:26:24.659436Z",
     "shell.execute_reply": "2022-03-12T18:26:24.658992Z",
     "shell.execute_reply.started": "2022-03-12T17:44:58.693510Z"
    },
    "papermill": {
     "duration": 9.144384,
     "end_time": "2022-03-12T18:26:24.659564",
     "exception": false,
     "start_time": "2022-03-12T18:26:15.515180",
     "status": "completed"
    },
    "tags": []
   },
   "outputs": [
    {
     "data": {
      "text/plain": [
       "<All keys matched successfully>"
      ]
     },
     "execution_count": 35,
     "metadata": {},
     "output_type": "execute_result"
    }
   ],
   "source": [
    "model.load_state_dict(torch.load(save_path+'/best_model.pt'))"
   ]
  },
  {
   "cell_type": "code",
   "execution_count": 36,
   "id": "23421d58",
   "metadata": {
    "execution": {
     "iopub.execute_input": "2022-03-12T18:26:37.309291Z",
     "iopub.status.busy": "2022-03-12T18:26:37.308439Z",
     "iopub.status.idle": "2022-03-12T18:26:38.327485Z",
     "shell.execute_reply": "2022-03-12T18:26:38.326984Z",
     "shell.execute_reply.started": "2022-03-12T17:44:58.695280Z"
    },
    "papermill": {
     "duration": 7.339679,
     "end_time": "2022-03-12T18:26:38.327631",
     "exception": false,
     "start_time": "2022-03-12T18:26:30.987952",
     "status": "completed"
    },
    "tags": []
   },
   "outputs": [],
   "source": [
    "f1_score_macro, test_loss, test_acc = lh.test(model, loaders['val'], criterion, train_on_gpu)"
   ]
  },
  {
   "cell_type": "code",
   "execution_count": 37,
   "id": "c8e4735f",
   "metadata": {
    "execution": {
     "iopub.execute_input": "2022-03-12T18:26:51.169541Z",
     "iopub.status.busy": "2022-03-12T18:26:51.168640Z",
     "iopub.status.idle": "2022-03-12T18:26:51.172406Z",
     "shell.execute_reply": "2022-03-12T18:26:51.171991Z",
     "shell.execute_reply.started": "2022-03-12T17:44:58.696928Z"
    },
    "papermill": {
     "duration": 6.799105,
     "end_time": "2022-03-12T18:26:51.172531",
     "exception": false,
     "start_time": "2022-03-12T18:26:44.373426",
     "status": "completed"
    },
    "tags": []
   },
   "outputs": [
    {
     "name": "stdout",
     "output_type": "stream",
     "text": [
      "Test f1 score: 0.4124291296617621\n",
      "Test loss: 3.7933047279673087\n",
      "Test accuracy: 0.4351905375961581\n"
     ]
    }
   ],
   "source": [
    "print('Test f1 score:', f1_score_macro)\n",
    "print('Test loss:', test_loss)\n",
    "print('Test accuracy:', test_acc)"
   ]
  },
  {
   "cell_type": "code",
   "execution_count": 38,
   "id": "ede57549",
   "metadata": {
    "execution": {
     "iopub.execute_input": "2022-03-12T18:27:03.367082Z",
     "iopub.status.busy": "2022-03-12T18:27:03.363882Z",
     "iopub.status.idle": "2022-03-12T18:28:20.243454Z",
     "shell.execute_reply": "2022-03-12T18:28:20.243858Z",
     "shell.execute_reply.started": "2022-03-12T17:44:58.698599Z"
    },
    "papermill": {
     "duration": 83.180424,
     "end_time": "2022-03-12T18:28:20.244021",
     "exception": false,
     "start_time": "2022-03-12T18:26:57.063597",
     "status": "completed"
    },
    "tags": []
   },
   "outputs": [
    {
     "name": "stdout",
     "output_type": "stream",
     "text": [
      "model_0\n",
      "Test f1 score: 0.31773888234889386\n",
      "Test loss: 2.059247499177938\n",
      "Test accuracy: 0.3461470052025435\n",
      "\n",
      "model_1\n",
      "Test f1 score: 0.37332647522820517\n",
      "Test loss: 1.9321239646683392\n",
      "Test accuracy: 0.3869891947174174\n",
      "\n",
      "model_2\n",
      "Test f1 score: 0.3923074320931676\n",
      "Test loss: 1.937300558103795\n",
      "Test accuracy: 0.41071190359731424\n",
      "\n",
      "model_3\n",
      "Test f1 score: 0.3963719691627052\n",
      "Test loss: 2.011364690598599\n",
      "Test accuracy: 0.4169594023744942\n",
      "\n",
      "model_4\n",
      "Test f1 score: 0.40424982774546525\n",
      "Test loss: 2.152640054368565\n",
      "Test accuracy: 0.42300680332607055\n",
      "\n",
      "model_5\n",
      "Test f1 score: 0.40305446106097176\n",
      "Test loss: 2.296897302665602\n",
      "Test accuracy: 0.4227400062252657\n",
      "\n",
      "model_6\n",
      "Test f1 score: 0.4052831413422946\n",
      "Test loss: 2.4432626806433047\n",
      "Test accuracy: 0.42516341322424295\n",
      "\n",
      "model_7\n",
      "Test f1 score: 0.407615428550589\n",
      "Test loss: 2.6647775753950462\n",
      "Test accuracy: 0.42832051225043355\n",
      "\n",
      "model_8\n",
      "Test f1 score: 0.40401881594977834\n",
      "Test loss: 2.82119312619212\n",
      "Test accuracy: 0.4246965182978345\n",
      "\n",
      "model_9\n",
      "Test f1 score: 0.40731351349989164\n",
      "Test loss: 2.995686753862604\n",
      "Test accuracy: 0.4300102272221975\n",
      "\n",
      "model_10\n",
      "Test f1 score: 0.4105665895937235\n",
      "Test loss: 3.453379701005767\n",
      "Test accuracy: 0.4333674240739917\n",
      "\n",
      "model_11\n",
      "Test f1 score: 0.4126531441485242\n",
      "Test loss: 3.799232656120235\n",
      "Test accuracy: 0.4353017030548268\n",
      "\n",
      "model_12\n",
      "Test f1 score: 0.41107184865205665\n",
      "Test loss: 4.027833569763053\n",
      "Test accuracy: 0.4327226644137134\n",
      "\n",
      "model_13\n",
      "Test f1 score: 0.41063097207785737\n",
      "Test loss: 4.255324807262149\n",
      "Test accuracy: 0.4332117924318556\n",
      "\n",
      "model_14\n",
      "Test f1 score: 0.41038134655177266\n",
      "Test loss: 4.536012037527188\n",
      "Test accuracy: 0.43283382987238206\n",
      "\n",
      "model_15\n",
      "Test f1 score: 0.40933648864513583\n",
      "Test loss: 4.720503781256173\n",
      "Test accuracy: 0.43303392769798565\n",
      "\n",
      "model_16\n",
      "Test f1 score: 0.41019688914974667\n",
      "Test loss: 4.877829275239907\n",
      "Test accuracy: 0.4334118902574592\n",
      "\n",
      "model_17\n",
      "Test f1 score: 0.40958797829816557\n",
      "Test loss: 5.081458154906574\n",
      "Test accuracy: 0.433256258615323\n",
      "\n",
      "model_18\n",
      "Test f1 score: 0.41008669469881104\n",
      "Test loss: 5.308548858023097\n",
      "Test accuracy: 0.43490150740361955\n",
      "\n",
      "model_19\n",
      "Test f1 score: 0.40922895477244087\n",
      "Test loss: 5.415656038838574\n",
      "Test accuracy: 0.43230023567077236\n",
      "\n"
     ]
    }
   ],
   "source": [
    "for i in range(n_epochs):\n",
    "    print('model_{}'.format(i))\n",
    "    model.load_state_dict(torch.load(save_path+'/model_{}.pt'.format(i)))    \n",
    "    f1_score_macro, test_loss, test_acc = lh.test(model, loaders['val'], criterion, train_on_gpu)    \n",
    "    print('Test f1 score:', f1_score_macro)\n",
    "    print('Test loss:', test_loss)\n",
    "    print('Test accuracy:', test_acc)\n",
    "    print()"
   ]
  }
 ],
 "metadata": {
  "kernelspec": {
   "display_name": "Python 3 (ipykernel)",
   "language": "python",
   "name": "python3"
  },
  "language_info": {
   "codemirror_mode": {
    "name": "ipython",
    "version": 3
   },
   "file_extension": ".py",
   "mimetype": "text/x-python",
   "name": "python",
   "nbconvert_exporter": "python",
   "pygments_lexer": "ipython3",
   "version": "3.8.10"
  },
  "papermill": {
   "default_parameters": {},
   "duration": 2577.430143,
   "end_time": "2022-03-12T18:28:29.671841",
   "environment_variables": {},
   "exception": null,
   "input_path": "__notebook__.ipynb",
   "output_path": "__notebook__.ipynb",
   "parameters": {},
   "start_time": "2022-03-12T17:45:32.241698",
   "version": "2.3.3"
  }
 },
 "nbformat": 4,
 "nbformat_minor": 5
}
