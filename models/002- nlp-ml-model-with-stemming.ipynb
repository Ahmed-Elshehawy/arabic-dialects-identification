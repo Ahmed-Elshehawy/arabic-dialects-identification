{
 "cells": [
  {
   "cell_type": "code",
   "execution_count": 1,
   "id": "4661c83a",
   "metadata": {
    "execution": {
     "iopub.execute_input": "2022-03-12T20:24:12.841725Z",
     "iopub.status.busy": "2022-03-12T20:24:12.840662Z",
     "iopub.status.idle": "2022-03-12T20:24:15.676926Z",
     "shell.execute_reply": "2022-03-12T20:24:15.677436Z",
     "shell.execute_reply.started": "2022-03-12T20:23:33.137925Z"
    },
    "id": "1i3LMy0i7LI4",
    "papermill": {
     "duration": 2.861793,
     "end_time": "2022-03-12T20:24:15.677743",
     "exception": false,
     "start_time": "2022-03-12T20:24:12.815950",
     "status": "completed"
    },
    "tags": []
   },
   "outputs": [],
   "source": [
    "import os\n",
    "import pandas as pd\n",
    "import numpy as np\n",
    "import pickle\n",
    "from sklearn.model_selection import train_test_split\n",
    "from sklearn.utils.class_weight import compute_class_weight\n",
    "from sklearn.feature_extraction.text import TfidfVectorizer\n",
    "from sklearn.pipeline import Pipeline\n",
    "from sklearn.linear_model import LogisticRegression\n",
    "from sklearn.naive_bayes import MultinomialNB\n",
    "from sklearn.svm import SVC\n",
    "from sklearn.ensemble import RandomForestClassifier\n",
    "import nlp_helpers as nh"
   ]
  },
  {
   "cell_type": "code",
   "execution_count": 2,
   "id": "242f8a36",
   "metadata": {
    "execution": {
     "iopub.execute_input": "2022-03-12T20:24:15.723065Z",
     "iopub.status.busy": "2022-03-12T20:24:15.722367Z",
     "iopub.status.idle": "2022-03-12T20:24:15.725341Z",
     "shell.execute_reply": "2022-03-12T20:24:15.725819Z",
     "shell.execute_reply.started": "2022-03-12T20:23:36.617950Z"
    },
    "id": "oD9ZydTJ7hY-",
    "papermill": {
     "duration": 0.025823,
     "end_time": "2022-03-12T20:24:15.725986",
     "exception": false,
     "start_time": "2022-03-12T20:24:15.700163",
     "status": "completed"
    },
    "tags": []
   },
   "outputs": [],
   "source": [
    "# Load the data, and vocab\n",
    "    \n",
    "data_path = '../input/preprocessing-with-stem/preprocessed_data_with_stem.obj'\n",
    "# vocab_path = os.path.join(root_path, 'vocab_no_stem.obj')\n",
    "# labels_path = os.path.join(root_path, 'labels_to_int.obj')"
   ]
  },
  {
   "cell_type": "code",
   "execution_count": 3,
   "id": "0c2c1f13",
   "metadata": {
    "execution": {
     "iopub.execute_input": "2022-03-12T20:24:15.769705Z",
     "iopub.status.busy": "2022-03-12T20:24:15.769093Z",
     "iopub.status.idle": "2022-03-12T20:24:18.475063Z",
     "shell.execute_reply": "2022-03-12T20:24:18.474470Z",
     "shell.execute_reply.started": "2022-03-12T20:23:36.624613Z"
    },
    "id": "CmQhb_3X86Ki",
    "papermill": {
     "duration": 2.72892,
     "end_time": "2022-03-12T20:24:18.475235",
     "exception": false,
     "start_time": "2022-03-12T20:24:15.746315",
     "status": "completed"
    },
    "tags": []
   },
   "outputs": [],
   "source": [
    "data = nh.load_pickle_file(data_path)"
   ]
  },
  {
   "cell_type": "code",
   "execution_count": 4,
   "id": "1300b65a",
   "metadata": {
    "execution": {
     "iopub.execute_input": "2022-03-12T20:24:18.523418Z",
     "iopub.status.busy": "2022-03-12T20:24:18.522817Z",
     "iopub.status.idle": "2022-03-12T20:24:18.539243Z",
     "shell.execute_reply": "2022-03-12T20:24:18.539707Z",
     "shell.execute_reply.started": "2022-03-12T20:23:39.751935Z"
    },
    "id": "p_Jb08vZJrBg",
    "outputId": "dc03bc7c-22f0-411a-c052-bd5df5bd5a4b",
    "papermill": {
     "duration": 0.044303,
     "end_time": "2022-03-12T20:24:18.539872",
     "exception": false,
     "start_time": "2022-03-12T20:24:18.495569",
     "status": "completed"
    },
    "tags": []
   },
   "outputs": [
    {
     "data": {
      "text/html": [
       "<div>\n",
       "<style scoped>\n",
       "    .dataframe tbody tr th:only-of-type {\n",
       "        vertical-align: middle;\n",
       "    }\n",
       "\n",
       "    .dataframe tbody tr th {\n",
       "        vertical-align: top;\n",
       "    }\n",
       "\n",
       "    .dataframe thead th {\n",
       "        text-align: right;\n",
       "    }\n",
       "</style>\n",
       "<table border=\"1\" class=\"dataframe\">\n",
       "  <thead>\n",
       "    <tr style=\"text-align: right;\">\n",
       "      <th></th>\n",
       "      <th>id</th>\n",
       "      <th>text</th>\n",
       "      <th>dialect</th>\n",
       "    </tr>\n",
       "  </thead>\n",
       "  <tbody>\n",
       "    <tr>\n",
       "      <th>0</th>\n",
       "      <td>1175358310087892992</td>\n",
       "      <td>[نهي, نفض, يغر]</td>\n",
       "      <td>IQ</td>\n",
       "    </tr>\n",
       "    <tr>\n",
       "      <th>1</th>\n",
       "      <td>1175416117793349632</td>\n",
       "      <td>[يعن, بشر, وحش, طلب, غرب, حرم, يءم, بدن, ينع, ...</td>\n",
       "      <td>IQ</td>\n",
       "    </tr>\n",
       "    <tr>\n",
       "      <th>2</th>\n",
       "      <td>1175450108898565888</td>\n",
       "      <td>[كلم, خلج]</td>\n",
       "      <td>IQ</td>\n",
       "    </tr>\n",
       "    <tr>\n",
       "      <th>3</th>\n",
       "      <td>1175471073770573824</td>\n",
       "      <td>[لمل, رور, ورح, حلوه]</td>\n",
       "      <td>IQ</td>\n",
       "    </tr>\n",
       "    <tr>\n",
       "      <th>4</th>\n",
       "      <td>1175496913145217024</td>\n",
       "      <td>[وين, غيب, حمد]</td>\n",
       "      <td>IQ</td>\n",
       "    </tr>\n",
       "  </tbody>\n",
       "</table>\n",
       "</div>"
      ],
      "text/plain": [
       "                    id                                               text  \\\n",
       "0  1175358310087892992                                    [نهي, نفض, يغر]   \n",
       "1  1175416117793349632  [يعن, بشر, وحش, طلب, غرب, حرم, يءم, بدن, ينع, ...   \n",
       "2  1175450108898565888                                         [كلم, خلج]   \n",
       "3  1175471073770573824                              [لمل, رور, ورح, حلوه]   \n",
       "4  1175496913145217024                                    [وين, غيب, حمد]   \n",
       "\n",
       "  dialect  \n",
       "0      IQ  \n",
       "1      IQ  \n",
       "2      IQ  \n",
       "3      IQ  \n",
       "4      IQ  "
      ]
     },
     "execution_count": 4,
     "metadata": {},
     "output_type": "execute_result"
    }
   ],
   "source": [
    "data.head()"
   ]
  },
  {
   "cell_type": "code",
   "execution_count": 5,
   "id": "d34ae9bf",
   "metadata": {
    "execution": {
     "iopub.execute_input": "2022-03-12T20:24:18.587498Z",
     "iopub.status.busy": "2022-03-12T20:24:18.586915Z",
     "iopub.status.idle": "2022-03-12T20:24:18.591402Z",
     "shell.execute_reply": "2022-03-12T20:24:18.591915Z",
     "shell.execute_reply.started": "2022-03-12T20:23:39.779335Z"
    },
    "papermill": {
     "duration": 0.030905,
     "end_time": "2022-03-12T20:24:18.592090",
     "exception": false,
     "start_time": "2022-03-12T20:24:18.561185",
     "status": "completed"
    },
    "tags": []
   },
   "outputs": [
    {
     "data": {
      "text/plain": [
       "458197"
      ]
     },
     "execution_count": 5,
     "metadata": {},
     "output_type": "execute_result"
    }
   ],
   "source": [
    "len(data)"
   ]
  },
  {
   "cell_type": "code",
   "execution_count": 6,
   "id": "c12b9b2f",
   "metadata": {
    "execution": {
     "iopub.execute_input": "2022-03-12T20:24:18.645921Z",
     "iopub.status.busy": "2022-03-12T20:24:18.645291Z",
     "iopub.status.idle": "2022-03-12T20:24:18.813083Z",
     "shell.execute_reply": "2022-03-12T20:24:18.813600Z",
     "shell.execute_reply.started": "2022-03-12T20:23:39.788135Z"
    },
    "papermill": {
     "duration": 0.200886,
     "end_time": "2022-03-12T20:24:18.813774",
     "exception": false,
     "start_time": "2022-03-12T20:24:18.612888",
     "status": "completed"
    },
    "tags": []
   },
   "outputs": [],
   "source": [
    "data['tweet_length'] = [len(tweet) for tweet in data['text']]"
   ]
  },
  {
   "cell_type": "code",
   "execution_count": 7,
   "id": "c804e983",
   "metadata": {
    "execution": {
     "iopub.execute_input": "2022-03-12T20:24:18.862213Z",
     "iopub.status.busy": "2022-03-12T20:24:18.861594Z",
     "iopub.status.idle": "2022-03-12T20:24:18.890993Z",
     "shell.execute_reply": "2022-03-12T20:24:18.890319Z",
     "shell.execute_reply.started": "2022-03-12T20:23:40.087068Z"
    },
    "papermill": {
     "duration": 0.054827,
     "end_time": "2022-03-12T20:24:18.891145",
     "exception": false,
     "start_time": "2022-03-12T20:24:18.836318",
     "status": "completed"
    },
    "tags": []
   },
   "outputs": [],
   "source": [
    "threshold = 2\n",
    "data = data[data['tweet_length'] > threshold]"
   ]
  },
  {
   "cell_type": "code",
   "execution_count": 8,
   "id": "5354759e",
   "metadata": {
    "execution": {
     "iopub.execute_input": "2022-03-12T20:24:18.937957Z",
     "iopub.status.busy": "2022-03-12T20:24:18.937260Z",
     "iopub.status.idle": "2022-03-12T20:24:18.939015Z",
     "shell.execute_reply": "2022-03-12T20:24:18.939453Z",
     "shell.execute_reply.started": "2022-03-12T20:23:40.121045Z"
    },
    "papermill": {
     "duration": 0.02786,
     "end_time": "2022-03-12T20:24:18.939636",
     "exception": false,
     "start_time": "2022-03-12T20:24:18.911776",
     "status": "completed"
    },
    "tags": []
   },
   "outputs": [],
   "source": [
    "data.reset_index(inplace=True, drop=True)"
   ]
  },
  {
   "cell_type": "code",
   "execution_count": 9,
   "id": "cca53215",
   "metadata": {
    "execution": {
     "iopub.execute_input": "2022-03-12T20:24:18.983935Z",
     "iopub.status.busy": "2022-03-12T20:24:18.983307Z",
     "iopub.status.idle": "2022-03-12T20:24:18.987443Z",
     "shell.execute_reply": "2022-03-12T20:24:18.987934Z",
     "shell.execute_reply.started": "2022-03-12T20:23:40.129154Z"
    },
    "papermill": {
     "duration": 0.02794,
     "end_time": "2022-03-12T20:24:18.988099",
     "exception": false,
     "start_time": "2022-03-12T20:24:18.960159",
     "status": "completed"
    },
    "tags": []
   },
   "outputs": [
    {
     "data": {
      "text/plain": [
       "445111"
      ]
     },
     "execution_count": 9,
     "metadata": {},
     "output_type": "execute_result"
    }
   ],
   "source": [
    "len(data)"
   ]
  },
  {
   "cell_type": "markdown",
   "id": "51973ec6",
   "metadata": {
    "papermill": {
     "duration": 0.020394,
     "end_time": "2022-03-12T20:24:19.029350",
     "exception": false,
     "start_time": "2022-03-12T20:24:19.008956",
     "status": "completed"
    },
    "tags": []
   },
   "source": [
    "### Convert each tweet to one string\n",
    "Each tweet is a list of words, we want to return it back as one string separated by spaces"
   ]
  },
  {
   "cell_type": "code",
   "execution_count": 10,
   "id": "91c2887f",
   "metadata": {
    "execution": {
     "iopub.execute_input": "2022-03-12T20:24:19.074096Z",
     "iopub.status.busy": "2022-03-12T20:24:19.073490Z",
     "iopub.status.idle": "2022-03-12T20:24:19.358448Z",
     "shell.execute_reply": "2022-03-12T20:24:19.358933Z",
     "shell.execute_reply.started": "2022-03-12T20:23:40.143958Z"
    },
    "id": "F97UhbFVKQfg",
    "outputId": "c808f441-ff45-40b7-9e81-04b4d0de2dc2",
    "papermill": {
     "duration": 0.309017,
     "end_time": "2022-03-12T20:24:19.359112",
     "exception": false,
     "start_time": "2022-03-12T20:24:19.050095",
     "status": "completed"
    },
    "tags": []
   },
   "outputs": [],
   "source": [
    "data_string = data['text'].apply(nh.get_one_string)"
   ]
  },
  {
   "cell_type": "code",
   "execution_count": 11,
   "id": "728e2f45",
   "metadata": {
    "execution": {
     "iopub.execute_input": "2022-03-12T20:24:19.407020Z",
     "iopub.status.busy": "2022-03-12T20:24:19.406381Z",
     "iopub.status.idle": "2022-03-12T20:24:19.408834Z",
     "shell.execute_reply": "2022-03-12T20:24:19.409262Z",
     "shell.execute_reply.started": "2022-03-12T20:23:40.548353Z"
    },
    "papermill": {
     "duration": 0.029284,
     "end_time": "2022-03-12T20:24:19.409419",
     "exception": false,
     "start_time": "2022-03-12T20:24:19.380135",
     "status": "completed"
    },
    "tags": []
   },
   "outputs": [
    {
     "data": {
      "text/plain": [
       "0                                          نهي نفض يغر\n",
       "1              يعن بشر وحش طلب غرب حرم يءم بدن ينع رهب\n",
       "2                                     لمل رور ورح حلوه\n",
       "3                                          وين غيب حمد\n",
       "4    ياخ رهب عرق سعد لسط وين شكل باب فرضخليجي اعند ...\n",
       "Name: text, dtype: object"
      ]
     },
     "execution_count": 11,
     "metadata": {},
     "output_type": "execute_result"
    }
   ],
   "source": [
    "data_string.head()"
   ]
  },
  {
   "cell_type": "code",
   "execution_count": 12,
   "id": "636d1160",
   "metadata": {
    "execution": {
     "iopub.execute_input": "2022-03-12T20:24:19.454593Z",
     "iopub.status.busy": "2022-03-12T20:24:19.453999Z",
     "iopub.status.idle": "2022-03-12T20:24:19.485728Z",
     "shell.execute_reply": "2022-03-12T20:24:19.485175Z",
     "shell.execute_reply.started": "2022-03-12T20:23:40.557417Z"
    },
    "papermill": {
     "duration": 0.055397,
     "end_time": "2022-03-12T20:24:19.485866",
     "exception": false,
     "start_time": "2022-03-12T20:24:19.430469",
     "status": "completed"
    },
    "tags": []
   },
   "outputs": [],
   "source": [
    "# labels_to_int: dictionary, where its keys are the labels,\n",
    "# and its values are integers starting from 0\n",
    "labels = data['dialect'].unique()\n",
    "labels_to_int, int_to_labels = nh.get_mappings(labels, i=0)"
   ]
  },
  {
   "cell_type": "code",
   "execution_count": 13,
   "id": "fc3195bf",
   "metadata": {
    "execution": {
     "iopub.execute_input": "2022-03-12T20:24:19.531103Z",
     "iopub.status.busy": "2022-03-12T20:24:19.530500Z",
     "iopub.status.idle": "2022-03-12T20:24:19.533985Z",
     "shell.execute_reply": "2022-03-12T20:24:19.534440Z",
     "shell.execute_reply.started": "2022-03-12T20:23:40.887762Z"
    },
    "papermill": {
     "duration": 0.027569,
     "end_time": "2022-03-12T20:24:19.534612",
     "exception": false,
     "start_time": "2022-03-12T20:24:19.507043",
     "status": "completed"
    },
    "tags": []
   },
   "outputs": [],
   "source": [
    "# save labels_to_int, and int_to_labels, they will be needed in inference\n",
    "nh.save_pickle_file(labels_to_int, 'labels_to_int.obj')\n",
    "nh.save_pickle_file(int_to_labels, 'int_to_labels.obj')"
   ]
  },
  {
   "cell_type": "code",
   "execution_count": 14,
   "id": "81ef3518",
   "metadata": {
    "execution": {
     "iopub.execute_input": "2022-03-12T20:24:19.580645Z",
     "iopub.status.busy": "2022-03-12T20:24:19.579708Z",
     "iopub.status.idle": "2022-03-12T20:24:20.113720Z",
     "shell.execute_reply": "2022-03-12T20:24:20.114357Z",
     "shell.execute_reply.started": "2022-03-12T20:23:40.895153Z"
    },
    "id": "YjYD9YblEQUY",
    "outputId": "0374b93a-2e88-4be6-b9d2-9f31f6a2e540",
    "papermill": {
     "duration": 0.558629,
     "end_time": "2022-03-12T20:24:20.114604",
     "exception": false,
     "start_time": "2022-03-12T20:24:19.555975",
     "status": "completed"
    },
    "tags": []
   },
   "outputs": [
    {
     "name": "stdout",
     "output_type": "stream",
     "text": [
      "\t\t\tFeatures Shapes:\n",
      "Train set: \t\t(356088,) \n",
      "Validation set: \t(44511,) \n",
      "Test set: \t\t(44512,)\n"
     ]
    }
   ],
   "source": [
    "split_frac = 0.2\n",
    "\n",
    "## split data into training, validation, and test data (features and labels, x and y)\n",
    "X = data_string.values\n",
    "y = data['dialect'].values\n",
    "\n",
    "X_train, X_val, y_train, y_val = train_test_split(X, y, test_size=split_frac, shuffle=True, \n",
    "                                                  random_state=42, stratify=y)\n",
    "X_val, X_test, y_val, y_test = train_test_split(X_val, y_val, test_size=0.5, shuffle=True, \n",
    "                                                random_state=42, stratify=y_val)\n",
    "## print out the shapes of your resultant feature data\n",
    "print('\\t\\t\\tFeatures Shapes:')\n",
    "print('Train set: \\t\\t{}'.format(X_train.shape),\n",
    "     '\\nValidation set: \\t{}'.format(X_val.shape),\n",
    "     '\\nTest set: \\t\\t{}'.format(X_test.shape))"
   ]
  },
  {
   "cell_type": "code",
   "execution_count": 15,
   "id": "ec2e13aa",
   "metadata": {
    "execution": {
     "iopub.execute_input": "2022-03-12T20:24:20.161868Z",
     "iopub.status.busy": "2022-03-12T20:24:20.160913Z",
     "iopub.status.idle": "2022-03-12T20:24:43.206285Z",
     "shell.execute_reply": "2022-03-12T20:24:43.206747Z",
     "shell.execute_reply.started": "2022-03-12T20:23:41.619851Z"
    },
    "id": "uUwdTB7uE4l9",
    "outputId": "ed3ad41a-0b59-4ebb-e71d-aec6dcfe361b",
    "papermill": {
     "duration": 23.070245,
     "end_time": "2022-03-12T20:24:43.206936",
     "exception": false,
     "start_time": "2022-03-12T20:24:20.136691",
     "status": "completed"
    },
    "tags": []
   },
   "outputs": [
    {
     "data": {
      "text/plain": [
       "Pipeline(steps=[('vectorizer', TfidfVectorizer(ngram_range=(1, 2))),\n",
       "                ('classifier', MultinomialNB())])"
      ]
     },
     "execution_count": 15,
     "metadata": {},
     "output_type": "execute_result"
    }
   ],
   "source": [
    "# setting ngram_range to (1, 2) to count individual words and bigram words (sequence of two words)\n",
    "tfidf = TfidfVectorizer(ngram_range=(1, 2), dtype=np.float64)\n",
    "classifier = MultinomialNB()\n",
    "\n",
    "pipe = Pipeline([('vectorizer', tfidf), ('classifier', classifier)])\n",
    "pipe.fit(X_train, y_train)"
   ]
  },
  {
   "cell_type": "code",
   "execution_count": 16,
   "id": "49fb684e",
   "metadata": {
    "execution": {
     "iopub.execute_input": "2022-03-12T20:24:43.253280Z",
     "iopub.status.busy": "2022-03-12T20:24:43.252741Z",
     "iopub.status.idle": "2022-03-12T20:24:44.451872Z",
     "shell.execute_reply": "2022-03-12T20:24:44.451333Z",
     "shell.execute_reply.started": "2022-03-12T20:23:41.622141Z"
    },
    "id": "HVLnM7l_hu03",
    "papermill": {
     "duration": 1.223392,
     "end_time": "2022-03-12T20:24:44.452065",
     "exception": false,
     "start_time": "2022-03-12T20:24:43.228673",
     "status": "completed"
    },
    "tags": []
   },
   "outputs": [],
   "source": [
    "y_hat = pipe.predict(X_test)"
   ]
  },
  {
   "cell_type": "code",
   "execution_count": 17,
   "id": "56d20f6e",
   "metadata": {
    "execution": {
     "iopub.execute_input": "2022-03-12T20:24:44.501655Z",
     "iopub.status.busy": "2022-03-12T20:24:44.500832Z",
     "iopub.status.idle": "2022-03-12T20:24:44.504464Z",
     "shell.execute_reply": "2022-03-12T20:24:44.504042Z",
     "shell.execute_reply.started": "2022-03-12T20:23:41.623821Z"
    },
    "id": "3NSE_Dexifjj",
    "outputId": "ffec85a6-6b24-4dcd-c804-ac2899c67626",
    "papermill": {
     "duration": 0.030451,
     "end_time": "2022-03-12T20:24:44.504620",
     "exception": false,
     "start_time": "2022-03-12T20:24:44.474169",
     "status": "completed"
    },
    "tags": []
   },
   "outputs": [
    {
     "name": "stdout",
     "output_type": "stream",
     "text": [
      "Predicted:\n",
      " ['PL' 'KW' 'EG' ... 'KW' 'KW' 'EG']\n",
      "Actual:\n",
      " ['SY' 'KW' 'PL' ... 'AE' 'SA' 'KW']\n"
     ]
    }
   ],
   "source": [
    "print('Predicted:\\n', y_hat)\n",
    "print('Actual:\\n', y_test)"
   ]
  },
  {
   "cell_type": "code",
   "execution_count": 18,
   "id": "145537aa",
   "metadata": {
    "execution": {
     "iopub.execute_input": "2022-03-12T20:24:44.552019Z",
     "iopub.status.busy": "2022-03-12T20:24:44.551110Z",
     "iopub.status.idle": "2022-03-12T20:24:44.748768Z",
     "shell.execute_reply": "2022-03-12T20:24:44.748255Z",
     "shell.execute_reply.started": "2022-03-12T20:23:41.625782Z"
    },
    "id": "D3XEULBQHD3F",
    "outputId": "264dd1a6-26eb-448c-c785-6cb43911d2b3",
    "papermill": {
     "duration": 0.222363,
     "end_time": "2022-03-12T20:24:44.748903",
     "exception": false,
     "start_time": "2022-03-12T20:24:44.526540",
     "status": "completed"
    },
    "tags": []
   },
   "outputs": [
    {
     "data": {
      "text/plain": [
       "0.1742671858058694"
      ]
     },
     "execution_count": 18,
     "metadata": {},
     "output_type": "execute_result"
    }
   ],
   "source": [
    "from sklearn.metrics import f1_score\n",
    "\n",
    "f1_score(y_test, y_hat, average='macro')"
   ]
  },
  {
   "cell_type": "code",
   "execution_count": 19,
   "id": "28de72dc",
   "metadata": {
    "execution": {
     "iopub.execute_input": "2022-03-12T20:24:44.798623Z",
     "iopub.status.busy": "2022-03-12T20:24:44.798013Z",
     "iopub.status.idle": "2022-03-12T20:24:44.801080Z",
     "shell.execute_reply": "2022-03-12T20:24:44.800629Z",
     "shell.execute_reply.started": "2022-03-12T20:23:41.627168Z"
    },
    "id": "PIz1pJDhhtS4",
    "papermill": {
     "duration": 0.029153,
     "end_time": "2022-03-12T20:24:44.801213",
     "exception": false,
     "start_time": "2022-03-12T20:24:44.772060",
     "status": "completed"
    },
    "tags": []
   },
   "outputs": [],
   "source": [
    "\n",
    "# pipe2 = Pipeline([('vectorizer', tfidf), ('classifier', SVC())])\n",
    "\n",
    "# pipe2.fit(X_train, y_train)"
   ]
  },
  {
   "cell_type": "code",
   "execution_count": 20,
   "id": "0711cf13",
   "metadata": {
    "execution": {
     "iopub.execute_input": "2022-03-12T20:24:44.880063Z",
     "iopub.status.busy": "2022-03-12T20:24:44.864454Z",
     "iopub.status.idle": "2022-03-12T20:24:46.066118Z",
     "shell.execute_reply": "2022-03-12T20:24:46.065333Z",
     "shell.execute_reply.started": "2022-03-12T20:23:41.630055Z"
    },
    "id": "NaiPrg4BjgF2",
    "outputId": "91c787c7-08af-4125-abac-3590b5d829b5",
    "papermill": {
     "duration": 1.242672,
     "end_time": "2022-03-12T20:24:46.066305",
     "exception": false,
     "start_time": "2022-03-12T20:24:44.823633",
     "status": "completed"
    },
    "tags": []
   },
   "outputs": [
    {
     "name": "stdout",
     "output_type": "stream",
     "text": [
      "['PL' 'KW' 'EG' ... 'KW' 'KW' 'EG']\n",
      "['SY' 'KW' 'PL' ... 'AE' 'SA' 'KW']\n"
     ]
    }
   ],
   "source": [
    "y_hat = pipe.predict(X_test)\n",
    "print(y_hat)\n",
    "print(y_test)"
   ]
  },
  {
   "cell_type": "code",
   "execution_count": 21,
   "id": "f227ccea",
   "metadata": {
    "execution": {
     "iopub.execute_input": "2022-03-12T20:24:46.115633Z",
     "iopub.status.busy": "2022-03-12T20:24:46.115038Z",
     "iopub.status.idle": "2022-03-12T20:24:47.523775Z",
     "shell.execute_reply": "2022-03-12T20:24:47.523258Z",
     "shell.execute_reply.started": "2022-03-12T20:23:41.632442Z"
    },
    "id": "IbDUivDbj1vE",
    "outputId": "e5e1ad91-325d-4a24-b19a-13a6ee8905bd",
    "papermill": {
     "duration": 1.433969,
     "end_time": "2022-03-12T20:24:47.523908",
     "exception": false,
     "start_time": "2022-03-12T20:24:46.089939",
     "status": "completed"
    },
    "tags": []
   },
   "outputs": [
    {
     "data": {
      "text/plain": [
       "0.17222606419099873"
      ]
     },
     "execution_count": 21,
     "metadata": {},
     "output_type": "execute_result"
    }
   ],
   "source": [
    "y_hat = pipe.predict(X_val)\n",
    "f1_score(y_val, y_hat, average='macro')"
   ]
  },
  {
   "cell_type": "code",
   "execution_count": 22,
   "id": "43de7a35",
   "metadata": {
    "execution": {
     "iopub.execute_input": "2022-03-12T20:24:47.577868Z",
     "iopub.status.busy": "2022-03-12T20:24:47.577263Z",
     "iopub.status.idle": "2022-03-12T20:24:47.578774Z",
     "shell.execute_reply": "2022-03-12T20:24:47.579150Z",
     "shell.execute_reply.started": "2022-03-12T20:23:41.634161Z"
    },
    "id": "1ZmMUVsIktUL",
    "papermill": {
     "duration": 0.030843,
     "end_time": "2022-03-12T20:24:47.579304",
     "exception": false,
     "start_time": "2022-03-12T20:24:47.548461",
     "status": "completed"
    },
    "tags": []
   },
   "outputs": [],
   "source": [
    "def test(classifier):\n",
    "    pipe_line = Pipeline([('vectorizer', tfidf), ('classifier', classifier)])\n",
    "    pipe_line.fit(X_train, y_train)\n",
    "\n",
    "    y_hat = pipe_line.predict(X_val)\n",
    "\n",
    "    print('Predicted:\\n', y_hat)\n",
    "    print('Actual:\\n', y_val)\n",
    "    print(f1_score(y_val, y_hat, average='macro'))\n",
    "    nh.save_pickle_file(pipe_line, 'pipe_rf_20_with_stem.obj')\n",
    "    return f1_score(y_val, y_hat, average='macro')"
   ]
  },
  {
   "cell_type": "code",
   "execution_count": 23,
   "id": "325808bc",
   "metadata": {
    "execution": {
     "iopub.execute_input": "2022-03-12T20:24:47.629378Z",
     "iopub.status.busy": "2022-03-12T20:24:47.628804Z",
     "iopub.status.idle": "2022-03-13T01:04:57.840929Z",
     "shell.execute_reply": "2022-03-13T01:04:57.842180Z",
     "shell.execute_reply.started": "2022-03-12T20:23:41.636940Z"
    },
    "id": "9clyH6uBnaRd",
    "papermill": {
     "duration": 16810.239672,
     "end_time": "2022-03-13T01:04:57.842564",
     "exception": false,
     "start_time": "2022-03-12T20:24:47.602892",
     "status": "completed"
    },
    "tags": []
   },
   "outputs": [
    {
     "name": "stdout",
     "output_type": "stream",
     "text": [
      "Predicted:\n",
      " ['JO' 'PL' 'QA' ... 'PL' 'EG' 'IQ']\n",
      "Actual:\n",
      " ['JO' 'PL' 'YE' ... 'PL' 'JO' 'IQ']\n",
      "0.3054567468582396\n"
     ]
    },
    {
     "data": {
      "text/plain": [
       "0.3054567468582396"
      ]
     },
     "execution_count": 23,
     "metadata": {},
     "output_type": "execute_result"
    }
   ],
   "source": [
    "rf = RandomForestClassifier(n_estimators=20, random_state=42, class_weight='balanced')\n",
    "test(rf)"
   ]
  },
  {
   "cell_type": "code",
   "execution_count": 24,
   "id": "225b5a18",
   "metadata": {
    "execution": {
     "iopub.execute_input": "2022-03-13T01:04:57.897134Z",
     "iopub.status.busy": "2022-03-13T01:04:57.896170Z",
     "iopub.status.idle": "2022-03-13T01:05:07.132675Z",
     "shell.execute_reply": "2022-03-13T01:05:07.133795Z",
     "shell.execute_reply.started": "2022-03-12T20:23:41.638906Z"
    },
    "papermill": {
     "duration": 9.267335,
     "end_time": "2022-03-13T01:05:07.134379",
     "exception": false,
     "start_time": "2022-03-13T01:04:57.867044",
     "status": "completed"
    },
    "tags": []
   },
   "outputs": [],
   "source": [
    "nh.save_pickle_file(rf, 'rf_20.obj')"
   ]
  },
  {
   "cell_type": "code",
   "execution_count": null,
   "id": "0e7ed686",
   "metadata": {
    "papermill": {
     "duration": 0.615706,
     "end_time": "2022-03-13T01:05:08.194100",
     "exception": false,
     "start_time": "2022-03-13T01:05:07.578394",
     "status": "completed"
    },
    "tags": []
   },
   "outputs": [],
   "source": []
  },
  {
   "cell_type": "code",
   "execution_count": null,
   "id": "762ded92",
   "metadata": {
    "papermill": {
     "duration": 0.096934,
     "end_time": "2022-03-13T01:05:08.663458",
     "exception": false,
     "start_time": "2022-03-13T01:05:08.566524",
     "status": "completed"
    },
    "tags": []
   },
   "outputs": [],
   "source": []
  }
 ],
 "metadata": {
  "kernelspec": {
   "display_name": "Python 3 (ipykernel)",
   "language": "python",
   "name": "python3"
  },
  "language_info": {
   "codemirror_mode": {
    "name": "ipython",
    "version": 3
   },
   "file_extension": ".py",
   "mimetype": "text/x-python",
   "name": "python",
   "nbconvert_exporter": "python",
   "pygments_lexer": "ipython3",
   "version": "3.8.10"
  },
  "papermill": {
   "default_parameters": {},
   "duration": 16867.354154,
   "end_time": "2022-03-13T01:05:11.843434",
   "environment_variables": {},
   "exception": null,
   "input_path": "__notebook__.ipynb",
   "output_path": "__notebook__.ipynb",
   "parameters": {},
   "start_time": "2022-03-12T20:24:04.489280",
   "version": "2.3.3"
  }
 },
 "nbformat": 4,
 "nbformat_minor": 5
}
